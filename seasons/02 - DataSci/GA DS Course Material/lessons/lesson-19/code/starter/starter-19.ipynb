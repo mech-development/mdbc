{
 "cells": [
  {
   "cell_type": "markdown",
   "metadata": {},
   "source": [
    "# Neural Networks with Keras\n",
    "Need to install some packages\n",
    "\n",
    "    # Try conda first\n",
    "    conda install keras\n",
    "    conda install tensorflow\n",
    "\n",
    "    # or try pip\n",
    "    pip install keras\n",
    "    pip install tensorflow"
   ]
  },
  {
   "cell_type": "code",
   "execution_count": null,
   "metadata": {
    "collapsed": false
   },
   "outputs": [],
   "source": [
    "from __future__ import print_function\n",
    "import random\n",
    "import numpy as np\n",
    "import pandas as pd\n",
    "from math import sin\n",
    "\n",
    "from keras.models import Sequential\n",
    "from keras.layers.core import Dense, Activation\n",
    "from keras.optimizers import SGD   # Stochastic Gradient Descent\n",
    "\n",
    "from sklearn.metrics import accuracy_score, confusion_matrix, mean_squared_error\n",
    "import sklearn.model_selection as cv\n",
    "\n",
    "%matplotlib inline\n",
    "import matplotlib.pyplot as plt"
   ]
  },
  {
   "cell_type": "markdown",
   "metadata": {},
   "source": [
    "## Neural Network Regression\n",
    "### Polynomial Regression\n",
    "Let's train a neural network on a few different shapes. First we start with a polynomial (a cubic)."
   ]
  },
  {
   "cell_type": "code",
   "execution_count": null,
   "metadata": {
    "collapsed": false
   },
   "outputs": [],
   "source": [
    "# Create some data\n",
    "def f(x):\n",
    "    return x ** 3 - 5 * x + 12 + random.random()\n",
    "\n",
    "X = np.linspace(-1, 1, 1000).reshape(-1, 1)\n",
    "y = np.array(list(map(f, X)))\n",
    "print(X.shape, y.shape)"
   ]
  },
  {
   "cell_type": "code",
   "execution_count": null,
   "metadata": {
    "collapsed": false
   },
   "outputs": [],
   "source": [
    "plt.figure(figsize = (5, 5))\n",
    "plt.scatter(X, y, s = 4)\n",
    "plt.show()"
   ]
  },
  {
   "cell_type": "code",
   "execution_count": null,
   "metadata": {
    "collapsed": true
   },
   "outputs": [],
   "source": [
    "# Define a Feed Forward NN\n",
    "model = Sequential()\n",
    "model.add(Dense(input_dim = 1, output_dim = 5))\n",
    "model.add(Activation(\"tanh\"))\n",
    "model.add(Dense(input_dim = 5, output_dim = 1))\n",
    "model.add(Activation(\"linear\"))\n",
    "\n",
    "# lr: learning rate\n",
    "model.compile(loss = \"mse\", optimizer = SGD(lr = 0.01))"
   ]
  },
  {
   "cell_type": "code",
   "execution_count": null,
   "metadata": {
    "collapsed": false
   },
   "outputs": [],
   "source": [
    "%%time\n",
    "# Train the model\n",
    "print(\"Training...\")\n",
    "loss = model.fit(X, y,\n",
    "                 nb_epoch = 500,\n",
    "                 validation_split = 0.1,\n",
    "                 batch_size = 128,\n",
    "                 verbose = False)\n",
    "print(\"Done\")\n",
    "print(\"MSE at last epoch: %.4f\" % loss.history[\"loss\"][-1])   # displays MSE at last iteration"
   ]
  },
  {
   "cell_type": "code",
   "execution_count": null,
   "metadata": {
    "collapsed": false
   },
   "outputs": [],
   "source": [
    "# Plot the predictions\n",
    "predictions = model.predict(X)\n",
    "\n",
    "plt.figure(figsize = (5, 5))\n",
    "plt.scatter(X, y, s = 4)\n",
    "plt.plot(X, predictions, color = \"r\", linewidth = 2)\n",
    "plt.text(-1, 8, \"MSE: %.4f\" % mean_squared_error(predictions, y))\n",
    "plt.show()"
   ]
  },
  {
   "cell_type": "markdown",
   "metadata": {},
   "source": [
    "### Sine Regression"
   ]
  },
  {
   "cell_type": "code",
   "execution_count": null,
   "metadata": {
    "collapsed": false
   },
   "outputs": [],
   "source": [
    "# Sine data\n",
    "X = np.linspace(0, 2 * np.pi, 500).reshape(-1, 1)\n",
    "y = np.sin(X)\n",
    "\n",
    "print(X.shape, y.shape)"
   ]
  },
  {
   "cell_type": "code",
   "execution_count": null,
   "metadata": {
    "collapsed": false
   },
   "outputs": [],
   "source": [
    "plt.figure(figsize = (10, 5))\n",
    "plt.scatter(X, y, s = 4)\n",
    "plt.show()"
   ]
  },
  {
   "cell_type": "code",
   "execution_count": null,
   "metadata": {
    "collapsed": false
   },
   "outputs": [],
   "source": [
    "# Create the model\n",
    "model = Sequential()\n",
    "model.add(Dense(input_dim = 1, output_dim = 5))\n",
    "model.add(Activation(\"tanh\"))\n",
    "model.add(Dense(input_dim = 5, output_dim = 1))\n",
    "model.add(Activation(\"linear\"))\n",
    "\n",
    "# lr: learning rate\n",
    "model.compile(loss = \"mse\", optimizer = SGD(lr = 0.1))"
   ]
  },
  {
   "cell_type": "markdown",
   "metadata": {},
   "source": [
    "### Train the Model"
   ]
  },
  {
   "cell_type": "code",
   "execution_count": null,
   "metadata": {
    "collapsed": false
   },
   "outputs": [],
   "source": [
    "%%time\n",
    "print(\"Training...\")\n",
    "loss = model.fit(X, y,\n",
    "                 nb_epoch = 150,\n",
    "                 validation_split = 0.1,\n",
    "                 batch_size = 128,\n",
    "                 verbose = False)\n",
    "print(\"Complete\")\n",
    "print('MSE at last epoch: %.4f' % loss.history[\"loss\"][-1])   # displays MSE at last iteration"
   ]
  },
  {
   "cell_type": "code",
   "execution_count": null,
   "metadata": {
    "collapsed": false
   },
   "outputs": [],
   "source": [
    "# Plot the predictions\n",
    "predictions = model.predict(X)\n",
    "\n",
    "plt.figure(figsize = (10, 5))\n",
    "plt.scatter(X, y, s = 4)\n",
    "plt.plot(X, predictions, color = \"r\", linewidth = 2)\n",
    "plt.text(0, -1, \"MSE: %.4f\" % mean_squared_error(predictions, y))\n",
    "plt.show()"
   ]
  },
  {
   "cell_type": "code",
   "execution_count": null,
   "metadata": {
    "collapsed": false
   },
   "outputs": [],
   "source": [
    "# Plot the error over time\n",
    "plt.figure(figsize = (10, 5))\n",
    "plt.plot(range(len(loss.history[\"loss\"])), loss.history[\"loss\"])\n",
    "plt.xlabel(\"Epoch\")\n",
    "plt.ylabel(\"MSE\")\n",
    "plt.title(\"MSE by Epoch\")\n",
    "plt.show()"
   ]
  },
  {
   "cell_type": "markdown",
   "metadata": {},
   "source": [
    "### Train longer\n",
    "If we train for more epochs, we can get a better regression."
   ]
  },
  {
   "cell_type": "code",
   "execution_count": null,
   "metadata": {
    "collapsed": false
   },
   "outputs": [],
   "source": [
    "%%time\n",
    "X = np.linspace(0, 2 * np.pi, 1000).reshape(-1, 1)\n",
    "y = np.sin(X)\n",
    "print(X.shape, y.shape)\n",
    "\n",
    "model = Sequential()\n",
    "model.add(Dense(input_dim = 1, output_dim = 5))\n",
    "model.add(Activation(\"tanh\"))\n",
    "model.add(Dense(input_dim = 5, output_dim = 1))\n",
    "model.add(Activation(\"linear\"))\n",
    "\n",
    "# lr: learning rate\n",
    "model.compile(loss = \"mse\", optimizer = SGD(lr = 0.05))\n",
    "\n",
    "print(\"Training...\")\n",
    "loss = model.fit(X, y,\n",
    "                 nb_epoch = 15000,\n",
    "                 validation_split = 0.1,\n",
    "                 batch_size = 128,\n",
    "                 verbose = False)\n",
    "print(\"Complete\")\n",
    "print(\"MSE at last epoch: %.4f\" % loss.history[\"loss\"][-1])   # displays MSE at last iteration\n",
    "predictions = model.predict(X)"
   ]
  },
  {
   "cell_type": "code",
   "execution_count": null,
   "metadata": {
    "collapsed": false
   },
   "outputs": [],
   "source": [
    "# Plot\n",
    "plt.figure(figsize = (10, 5))\n",
    "plt.scatter(X, y, s = 4)\n",
    "plt.plot(X, predictions, color = \"r\", linewidth = 2)\n",
    "plt.text(0, -1, \"MSE: %.4f\" % mean_squared_error(predictions, y))\n",
    "plt.show()"
   ]
  },
  {
   "cell_type": "markdown",
   "metadata": {},
   "source": [
    "We can take a closer look at the error per training epoch."
   ]
  },
  {
   "cell_type": "code",
   "execution_count": null,
   "metadata": {
    "collapsed": false,
    "scrolled": false
   },
   "outputs": [],
   "source": [
    "# Plot the error over time\n",
    "plt.figure(figsize = (10, 5))\n",
    "plt.plot(range(len(loss.history[\"loss\"])), loss.history[\"loss\"])\n",
    "plt.xlabel(\"Epoch\")\n",
    "plt.ylabel(\"MSE\")\n",
    "plt.title(\"MSE by Epoch\")\n",
    "plt.show()"
   ]
  },
  {
   "cell_type": "markdown",
   "metadata": {},
   "source": [
    "### Exercise: Perform regression the following data\n",
    "Hints:\n",
    "- Try adding a hidden layer\n",
    "- Try lowering the learning rate and using more epochs"
   ]
  },
  {
   "cell_type": "code",
   "execution_count": null,
   "metadata": {
    "collapsed": false
   },
   "outputs": [],
   "source": [
    "def f(x):\n",
    "    return x ** 2 * np.sin(x ** 2)\n",
    "\n",
    "# Sine data\n",
    "X = np.linspace(2, np.pi, 1000).reshape(-1, 1)\n",
    "y = np.array(list(map(f, X)))\n",
    "print(X.shape, y.shape)"
   ]
  },
  {
   "cell_type": "code",
   "execution_count": null,
   "metadata": {
    "collapsed": false
   },
   "outputs": [],
   "source": [
    "plt.figure(figsize = (10, 5))\n",
    "plt.scatter(X, y, s = 1)\n",
    "plt.show()"
   ]
  },
  {
   "cell_type": "code",
   "execution_count": null,
   "metadata": {
    "collapsed": false
   },
   "outputs": [],
   "source": [
    "%%time\n",
    "# <Code Here>\n",
    "# model\n",
    "\n",
    "# lr: learning rate\n",
    "\n",
    "# fit\n",
    "\n",
    "# predictions"
   ]
  },
  {
   "cell_type": "code",
   "execution_count": null,
   "metadata": {
    "collapsed": false
   },
   "outputs": [],
   "source": [
    "# <Code Here>\n",
    "# Plot"
   ]
  },
  {
   "cell_type": "markdown",
   "metadata": {
    "collapsed": true
   },
   "source": [
    "## Classification\n",
    "We will start with the Iris data set (of course)."
   ]
  },
  {
   "cell_type": "code",
   "execution_count": null,
   "metadata": {
    "collapsed": false
   },
   "outputs": [],
   "source": [
    "import sklearn.datasets as datasets\n",
    "iris = datasets.load_iris()\n",
    "X = iris.data\n",
    "y = iris.target\n",
    "\n",
    "# Break each output into indicator cols\n",
    "y_cat = pd.get_dummies(y).values\n",
    "print(X.shape, y_cat.shape)"
   ]
  },
  {
   "cell_type": "code",
   "execution_count": null,
   "metadata": {
    "collapsed": true
   },
   "outputs": [],
   "source": [
    "# Define a model\n",
    "model = Sequential()\n",
    "\n",
    "# input_dim = number of neurons in previous layer.\n",
    "# output_dim = number of neurons in current layer.\n",
    "\n",
    "# First layer - input_dim = k features.\n",
    "model.add(Dense(input_dim = 4, output_dim = 4))\n",
    "model.add(Activation(\"tanh\"))\n",
    "\n",
    "# Output layer - output_dim = # of output per point (in y).\n",
    "# Use \"softmax\" for class probability. \"linear\" for regression\n",
    "model.add(Dense(input_dim = 4, output_dim = 3))\n",
    "model.add(Activation(\"softmax\"))\n",
    "\n",
    "# Uses Mean Squared Error and Stochastic Gradient Descent\n",
    "model.compile(loss = \"mse\", optimizer = SGD(lr = 0.01))"
   ]
  },
  {
   "cell_type": "code",
   "execution_count": null,
   "metadata": {
    "collapsed": false
   },
   "outputs": [],
   "source": [
    "%%time\n",
    "# Train the model\n",
    "print(\"Training...\")\n",
    "loss = model.fit(X, y_cat, \n",
    "                 validation_split = 0.1,\n",
    "                 nb_epoch = 5000,\n",
    "                 batch_size = 16,\n",
    "                 verbose = False)\n",
    "print(\"Complete\")\n",
    "print(\"MSE at last epoch: %.4f\" % loss.history[\"loss\"][-1])   # displays MSE at last iteration"
   ]
  },
  {
   "cell_type": "code",
   "execution_count": null,
   "metadata": {
    "collapsed": true
   },
   "outputs": [],
   "source": [
    "def print_confusion_matrix(y, preds):\n",
    "    cm = confusion_matrix(y, preds)\n",
    "    r, c = cm.shape\n",
    "    print(\"Confusion Matrix\")\n",
    "    for i in range(r):\n",
    "        for j in range(c):\n",
    "            print(\"%5d\" % cm[i, j], end = \"\")\n",
    "        print()"
   ]
  },
  {
   "cell_type": "code",
   "execution_count": null,
   "metadata": {
    "collapsed": false
   },
   "outputs": [],
   "source": [
    "# Model evaluation\n",
    "pred_y = model.predict(X, verbose = False)\n",
    "preds  = model.predict_classes(X, verbose = False)\n",
    "\n",
    "print(\"Accuracy: %.4f\" % accuracy_score(y, preds))\n",
    "print_confusion_matrix(y, preds)"
   ]
  },
  {
   "cell_type": "code",
   "execution_count": null,
   "metadata": {
    "collapsed": false
   },
   "outputs": [],
   "source": [
    "# Plot the error over time\n",
    "plt.figure(figsize = (10, 5))\n",
    "plt.plot(range(len(loss.history[\"loss\"])), loss.history[\"loss\"])\n",
    "plt.xlabel(\"Epoch\")\n",
    "plt.ylabel(\"MSE\")\n",
    "plt.title(\"MSE by Epoch\")\n",
    "plt.show()"
   ]
  },
  {
   "cell_type": "markdown",
   "metadata": {},
   "source": [
    "## Abalone data set"
   ]
  },
  {
   "cell_type": "code",
   "execution_count": null,
   "metadata": {
    "collapsed": false
   },
   "outputs": [],
   "source": [
    "columns = [\"Sex\",            \"Length\",       \"Diameter\",\n",
    "           \"Height\",         \"Whole Weight\", \"Shucked weight\",\n",
    "           \"Viscera weight\", \"Shell weight\", \"Rings\"]\n",
    "df = pd.read_csv(\"../../../../data/abalone.data\", header = 1, names = columns)\n",
    "df.head()"
   ]
  },
  {
   "cell_type": "code",
   "execution_count": null,
   "metadata": {
    "collapsed": false
   },
   "outputs": [],
   "source": [
    "import seaborn as sns\n",
    "sns.pairplot(data = df, vars = columns[1:], hue = \"Sex\")\n",
    "plt.show()"
   ]
  },
  {
   "cell_type": "code",
   "execution_count": null,
   "metadata": {
    "collapsed": false
   },
   "outputs": [],
   "source": [
    "d = {\"M\": 0, \"F\": 1, \"I\": 2}\n",
    "df[\"Sex\"] = df[\"Sex\"].apply(lambda x: d[x])\n",
    "df.head()"
   ]
  },
  {
   "cell_type": "code",
   "execution_count": null,
   "metadata": {
    "collapsed": false
   },
   "outputs": [],
   "source": [
    "X = np.array(df[columns[1:]])\n",
    "y = np.array(df[\"Sex\"])\n",
    "y_cat = pd.get_dummies(y).values\n",
    "print(X.shape, y_cat.shape)"
   ]
  },
  {
   "cell_type": "code",
   "execution_count": null,
   "metadata": {
    "collapsed": false
   },
   "outputs": [],
   "source": [
    "# Define a model\n",
    "model = Sequential()\n",
    "\n",
    "# input_dim = number of neurons in previous layer.\n",
    "# output_dim = number of neurons in current layer.\n",
    "\n",
    "# First layer - input_dim = k features.\n",
    "model.add(Dense(input_dim = 8, output_dim = 6))\n",
    "model.add(Activation(\"tanh\"))\n",
    "\n",
    "model.add(Dense(input_dim = 6, output_dim = 6))\n",
    "model.add(Activation(\"tanh\"))\n",
    "\n",
    "# Output layer - output_dim = # of output per point (in y).\n",
    "# Use \"softmax\" for class probability. \"linear\" for regression\n",
    "model.add(Dense(input_dim = 6, output_dim = 3))\n",
    "model.add(Activation(\"softmax\"))\n",
    "\n",
    "# Uses Mean Squared Error and Stochastic Gradient Descent\n",
    "model.compile(loss = \"mse\", optimizer = SGD(lr = 0.1))"
   ]
  },
  {
   "cell_type": "code",
   "execution_count": null,
   "metadata": {
    "collapsed": false
   },
   "outputs": [],
   "source": [
    "%%time\n",
    "# Train the model\n",
    "print(\"Training...\")\n",
    "loss = model.fit(X, y_cat, \n",
    "                 validation_split = 0.1,\n",
    "                 nb_epoch = 1000,\n",
    "                 batch_size = 16,\n",
    "                 verbose = False)\n",
    "print(\"Complete\")\n",
    "print(\"MSE at last epoch: %.4f\" % loss.history[\"loss\"][-1])   # displays MSE at last iteration"
   ]
  },
  {
   "cell_type": "code",
   "execution_count": null,
   "metadata": {
    "collapsed": false
   },
   "outputs": [],
   "source": [
    "# Model evaluation\n",
    "pred_y = model.predict(X, verbose = False)\n",
    "preds  = model.predict_classes(X, verbose = False)\n",
    "\n",
    "print(\"Accuracy: %.4f\" % accuracy_score(y, preds))\n",
    "print_confusion_matrix(y, preds)"
   ]
  },
  {
   "cell_type": "code",
   "execution_count": null,
   "metadata": {
    "collapsed": false
   },
   "outputs": [],
   "source": [
    "# Plot the error over time\n",
    "plt.figure(figsize = (10, 5))\n",
    "plt.plot(range(len(loss.history[\"loss\"])), loss.history[\"loss\"])\n",
    "plt.xlabel(\"Epoch\")\n",
    "plt.ylabel(\"MSE\")\n",
    "plt.title(\"MSE by Epoch\")\n",
    "plt.show()"
   ]
  },
  {
   "cell_type": "markdown",
   "metadata": {},
   "source": [
    "## Exercise\n",
    "Classify the following data ([source](https://archive.ics.uci.edu/ml/datasets/MAGIC+Gamma+Telescope)). You will need to translate the classes into integers and make dummies. Design a neural network to classify the data and evaluate the results."
   ]
  },
  {
   "cell_type": "code",
   "execution_count": null,
   "metadata": {
    "collapsed": false
   },
   "outputs": [],
   "source": [
    "names = \"fLength fWidth fSize fConc fConc1 fAsym fM3Long fM3Trans fAlpha fDist class\".split()\n",
    "df = pd.read_csv(\"../../../../data/magic04.data\", names = names)\n",
    "df.head()"
   ]
  },
  {
   "cell_type": "code",
   "execution_count": null,
   "metadata": {
    "collapsed": true
   },
   "outputs": [],
   "source": [
    "d = {\"g\": 0, \"h\": 1}\n",
    "df[\"class\"] = df[\"class\"].apply(lambda x: d[x])"
   ]
  },
  {
   "cell_type": "code",
   "execution_count": null,
   "metadata": {
    "collapsed": false
   },
   "outputs": [],
   "source": [
    "X = np.array(df[df.columns[:-1]])\n",
    "y = np.array(df[\"class\"])\n",
    "y_cat = pd.get_dummies(y).values\n",
    "print(X.shape, y_cat.shape)"
   ]
  },
  {
   "cell_type": "code",
   "execution_count": null,
   "metadata": {
    "collapsed": true
   },
   "outputs": [],
   "source": [
    "# Define a model\n",
    "# <Code Here>\n",
    "\n",
    "# Layers\n",
    "# input_dim = number of neurons in previous layer.\n",
    "# output_dim = number of neurons in current layer.\n",
    "\n",
    "# First layer - input_dim = k features.\n",
    "# <Code Here>\n",
    "\n",
    "# Output layer - output_dim = # of output per point (in y).\n",
    "# Use \"softmax\" for class probability. \"linear\" for regression\n",
    "# <Code Here>\n",
    "\n",
    "# Uses Mean Squared Error and Stochastic Gradient Descent\n",
    "# <Code Here>"
   ]
  },
  {
   "cell_type": "code",
   "execution_count": null,
   "metadata": {
    "collapsed": false
   },
   "outputs": [],
   "source": [
    "%%time\n",
    "# Train the model\n",
    "# <Code Here>"
   ]
  },
  {
   "cell_type": "code",
   "execution_count": null,
   "metadata": {
    "collapsed": false
   },
   "outputs": [],
   "source": [
    "# Model evaluation\n",
    "# <Code Here>"
   ]
  },
  {
   "cell_type": "code",
   "execution_count": null,
   "metadata": {
    "collapsed": false
   },
   "outputs": [],
   "source": [
    "# Plot the error over time\n",
    "# <Code Here>"
   ]
  }
 ],
 "metadata": {
  "anaconda-cloud": {},
  "kernelspec": {
   "display_name": "Python [conda env:ga]",
   "language": "python",
   "name": "conda-env-ga-py"
  },
  "language_info": {
   "codemirror_mode": {
    "name": "ipython",
    "version": 2
   },
   "file_extension": ".py",
   "mimetype": "text/x-python",
   "name": "python",
   "nbconvert_exporter": "python",
   "pygments_lexer": "ipython2",
   "version": "2.7.13"
  }
 },
 "nbformat": 4,
 "nbformat_minor": 0
}
