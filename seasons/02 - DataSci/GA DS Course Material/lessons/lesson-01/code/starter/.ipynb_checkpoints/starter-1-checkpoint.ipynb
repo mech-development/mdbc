{
 "cells": [
  {
   "cell_type": "markdown",
   "metadata": {
    "slideshow": {
     "slide_type": "slide"
    }
   },
   "source": [
    "# Check to see if you are ready to go!\n",
    "1. Run each block of code\n",
    "2. Check for errors\n",
    "3. When you think you are error free, flag down a teaching team member to confirm"
   ]
  },
  {
   "cell_type": "code",
   "execution_count": null,
   "metadata": {
    "collapsed": false
   },
   "outputs": [],
   "source": [
    "# This is what an error looks like\n",
    "print a"
   ]
  },
  {
   "cell_type": "markdown",
   "metadata": {},
   "source": [
    "# Objectives\n",
    "## Get comfortable with Jupyter Notebook\n",
    "- How to start Jupyter Notebook\n",
    "- How to read data into pandas\n",
    "- How to do simple manipulations on pandas dataframes\n",
    "## Start a notebook\n",
    "For each class, we will be using a set of common data science libraries and tools, like the Jupyter notebook. You can start an Jupyter notebook by running\n",
    "\n",
    "    jupyter notebook $NAME_OF_FILE"
   ]
  },
  {
   "cell_type": "markdown",
   "metadata": {
    "slideshow": {
     "slide_type": "slide"
    }
   },
   "source": [
    "## Try it yourself!\n",
    "Read and run the block of code below by: \n",
    "1. Clicking on it and pressing the play button above or\n",
    "2. Using a short cut (help --> keyboard shortcuts)"
   ]
  },
  {
   "cell_type": "code",
   "execution_count": null,
   "metadata": {
    "collapsed": false,
    "scrolled": true,
    "slideshow": {
     "slide_type": "skip"
    }
   },
   "outputs": [],
   "source": [
    "%matplotlib inline\n",
    "import matplotlib.pyplot as plt\n",
    "import matplotlib as mpl\n",
    "import pandas as pd\n",
    "\n",
    "mpl.rcParams[\"figure.figsize\"] = (15, 6)\n",
    "pd.set_option(\"display.width\", 4000)\n",
    "pd.set_option(\"display.max_columns\", 100)"
   ]
  },
  {
   "cell_type": "markdown",
   "metadata": {},
   "source": [
    "# First: Read in the data\n",
    "## Review Simple Commands\n",
    "Practice downloading and reading into sample data"
   ]
  },
  {
   "cell_type": "code",
   "execution_count": null,
   "metadata": {
    "collapsed": false
   },
   "outputs": [],
   "source": [
    "# Load the data (this may take more than 1 minute)\n",
    "orig_data = pd.read_csv(\"../../../../data/311-service-requests.csv\", parse_dates = [\"Created Date\"], low_memory = False)"
   ]
  },
  {
   "cell_type": "code",
   "execution_count": null,
   "metadata": {
    "collapsed": false,
    "scrolled": true
   },
   "outputs": [],
   "source": [
    "plt.scatter(orig_data[\"Longitude\"], orig_data[\"Latitude\"], marker = \".\", color = \"purple\")\n",
    "plt.show()"
   ]
  },
  {
   "cell_type": "markdown",
   "metadata": {
    "slideshow": {
     "slide_type": "slide"
    }
   },
   "source": [
    "## Try this Example:\n",
    "Graph the number of noise complaints each hour in New York"
   ]
  },
  {
   "cell_type": "code",
   "execution_count": null,
   "metadata": {
    "collapsed": false,
    "slideshow": {
     "slide_type": "fragment"
    }
   },
   "outputs": [],
   "source": [
    "complaints = orig_data[[\"Created Date\", \"Complaint Type\"]]\n",
    "noise_complaints = complaints[complaints[\"Complaint Type\"] == \"Noise - Street/Sidewalk\"]\n",
    "noise_complaints_sort = noise_complaints.set_index(\"Created Date\").sort_index()\n",
    "noise_complaints_resample = noise_complaints_sort.resample(\"H\", how = len)\n",
    "noise_complaints_resample.plot()\n",
    "plt.show()"
   ]
  },
  {
   "cell_type": "markdown",
   "metadata": {},
   "source": [
    "# Second: Using Jupyter\n",
    "## Review Python Basics\n",
    "Test your skills by answering the following questions:"
   ]
  },
  {
   "cell_type": "markdown",
   "metadata": {},
   "source": [
    "### Question 1. Divide 10 by 20 and set the result to a variable named \"a\""
   ]
  },
  {
   "cell_type": "code",
   "execution_count": null,
   "metadata": {
    "collapsed": false
   },
   "outputs": [],
   "source": [
    "# Insert your code below\n",
    "# <Code Here>\n",
    "\n",
    "# and then uncomment print statement when you are ready to test\n",
    "print(a)"
   ]
  },
  {
   "cell_type": "code",
   "execution_count": null,
   "metadata": {
    "collapsed": false
   },
   "outputs": [],
   "source": [
    "# If you did not get a float (decimals), alter your equation to get the desired result (0.5)\n",
    "# <Code Here>"
   ]
  },
  {
   "cell_type": "markdown",
   "metadata": {},
   "source": [
    "### Question 2. Create a function called division that will divide any two numbers and prints the result (with decimals)\n",
    "Call your function. Confirm that the results are as expected."
   ]
  },
  {
   "cell_type": "code",
   "execution_count": null,
   "metadata": {
    "collapsed": false
   },
   "outputs": [],
   "source": [
    "# add your function here\n",
    "# <Code Here>\n",
    "\n",
    "# call your function here (try different numbers)\n",
    "# <Code Here>"
   ]
  },
  {
   "cell_type": "markdown",
   "metadata": {},
   "source": [
    "### Question 3. Using `.split()` split my string into separate words in a variable named words\n",
    "The result should be:\n",
    "\n",
    "    [\"the\", \"cow\", \"jumped\", \"over\", \"the\", \"moon\"]"
   ]
  },
  {
   "cell_type": "code",
   "execution_count": null,
   "metadata": {
    "collapsed": false
   },
   "outputs": [],
   "source": [
    "my_string = \"the cow jumped over the moon\"\n",
    "# <Code Here>"
   ]
  },
  {
   "cell_type": "markdown",
   "metadata": {},
   "source": [
    "### Question 4. How many words are in my_string?\n",
    "The result should be:\n",
    "```\n",
    "6\n",
    "```"
   ]
  },
  {
   "cell_type": "code",
   "execution_count": null,
   "metadata": {
    "collapsed": false
   },
   "outputs": [],
   "source": [
    "# <Code Here>"
   ]
  },
  {
   "cell_type": "markdown",
   "metadata": {},
   "source": [
    "### Question 5. Use a list comprehension to find the length of each word\n",
    "The result should be:\n",
    "```\n",
    "[3, 3, 6, 4, 3, 4]\n",
    "```"
   ]
  },
  {
   "cell_type": "code",
   "execution_count": null,
   "metadata": {
    "collapsed": false
   },
   "outputs": [],
   "source": [
    "# using print with the command\n",
    "# <Code Here>\n",
    "\n",
    "# assigning the result to a variable...\n",
    "# <Code Here>\n",
    "# and printing the variable\n",
    "# <Code Here>\n",
    "\n",
    "# using just the expression\n",
    "# <Code Here>"
   ]
  },
  {
   "cell_type": "markdown",
   "metadata": {},
   "source": [
    "### Question 6. Put the words back together in a variable called sentence using .join()\n",
    "The result should be:\n",
    "```\n",
    "the cow jumped over the moon\n",
    "```"
   ]
  },
  {
   "cell_type": "code",
   "execution_count": null,
   "metadata": {
    "collapsed": false
   },
   "outputs": [],
   "source": [
    "# <Code Here>"
   ]
  },
  {
   "cell_type": "markdown",
   "metadata": {},
   "source": [
    "### Bonus: Add a \"||\" between each word\n",
    "The result should be: \n",
    "```\n",
    "the||cow||jumped||over||the||moon\n",
    "```"
   ]
  },
  {
   "cell_type": "code",
   "execution_count": null,
   "metadata": {
    "collapsed": false
   },
   "outputs": [],
   "source": [
    "# <Code Here>"
   ]
  }
 ],
 "metadata": {
  "anaconda-cloud": {},
  "kernelspec": {
   "display_name": "Python [conda root]",
   "language": "python",
   "name": "conda-root-py"
  },
  "language_info": {
   "codemirror_mode": {
    "name": "ipython",
    "version": 2
   },
   "file_extension": ".py",
   "mimetype": "text/x-python",
   "name": "python",
   "nbconvert_exporter": "python",
   "pygments_lexer": "ipython2",
   "version": "2.7.12"
  }
 },
 "nbformat": 4,
 "nbformat_minor": 0
}
