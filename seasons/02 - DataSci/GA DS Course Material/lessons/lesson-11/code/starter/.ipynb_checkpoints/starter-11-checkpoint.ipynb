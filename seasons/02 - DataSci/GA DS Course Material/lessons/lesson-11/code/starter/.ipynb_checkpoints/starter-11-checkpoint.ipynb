{
 "cells": [
  {
   "cell_type": "markdown",
   "metadata": {},
   "source": [
    "# Clustering with Scikit-learn\n",
    "In this notebook we will practice clustering algorithms with Scikit-Learn."
   ]
  },
  {
   "cell_type": "markdown",
   "metadata": {},
   "source": [
    "## Data sets\n",
    "\n",
    "We will use the following datasets:\n",
    "- Some sample data\n",
    "- [Iris](http://archive.ics.uci.edu/ml/datasets/Iris)\n",
    "- [Old Faithful eruption data](http://www.stat.cmu.edu/~larry/all-of-statistics/=data/faithful.dat): eruption times and wait times between eruptions\n",
    "\n",
    "There are many [clustering data sets](https://archive.ics.uci.edu/ml/datasets.html?format=&task=clu&att=&area=&numAtt=&numIns=&type=&sort=nameUp&view=table) you can use for practice!"
   ]
  },
  {
   "cell_type": "code",
   "execution_count": null,
   "metadata": {
    "collapsed": false
   },
   "outputs": [],
   "source": [
    "import numpy as np\n",
    "import pandas as pd\n",
    "import random\n",
    "from collections import Counter\n",
    "from sklearn.cluster import KMeans, DBSCAN\n",
    "\n",
    "%matplotlib inline\n",
    "import matplotlib.pyplot as plt\n",
    "import seaborn as sns"
   ]
  },
  {
   "cell_type": "code",
   "execution_count": null,
   "metadata": {
    "collapsed": false
   },
   "outputs": [],
   "source": [
    "## Create some synthetic data\n",
    "from scipy.stats import multivariate_normal\n",
    "\n",
    "np.random.seed(100)\n",
    "data = []\n",
    "\n",
    "dist = multivariate_normal(mean = [0, 0], cov = [[1, 0], [0, 1]])\n",
    "for i in range(150):\n",
    "    data.append(dist.rvs())\n",
    "\n",
    "dist = multivariate_normal(mean = [5, 5], cov = [[1, 0.5], [0.2, 1]])\n",
    "for i in range(150):\n",
    "    data.append(dist.rvs())\n",
    "\n",
    "dist = multivariate_normal(mean = [9, 9], cov = [[1, 0.5], [0.2, 1]])\n",
    "for i in range(150):\n",
    "    data.append(dist.rvs())\n",
    "\n",
    "dist = multivariate_normal(mean = [-10, 5], cov = [[3, 0.5], [0.2, 2]])\n",
    "for i in range(150):\n",
    "    data.append(dist.rvs())\n",
    "    \n",
    "df = pd.DataFrame(data, columns = [\"x1\", \"x2\"])\n",
    "df.head()"
   ]
  },
  {
   "cell_type": "code",
   "execution_count": null,
   "metadata": {
    "collapsed": false
   },
   "outputs": [],
   "source": [
    "plt.scatter(df[\"x1\"], df[\"x2\"])\n",
    "plt.xlabel(\"x1\")\n",
    "plt.ylabel(\"x2\")\n",
    "plt.show()"
   ]
  },
  {
   "cell_type": "code",
   "execution_count": null,
   "metadata": {
    "collapsed": false
   },
   "outputs": [],
   "source": [
    "def annulus(inner_radius, outer_radius, n = 30, color = \"b\"):\n",
    "    \"\"\"\n",
    "    annulus, noun (plural annuli) technical\n",
    "    1) a ring-shaped object, structure, or region.\n",
    "    2) Mathematics: a plane figure consisting of the area between a pair of concentric circles.\n",
    "    - - -\n",
    "    Generate n points with class `color` between the inner radius and the outer radius.\n",
    "    \"\"\"\n",
    "    data = []\n",
    "    diff = outer_radius - inner_radius\n",
    "    for _ in range(n):\n",
    "        # Pick an angle and radius\n",
    "        angle = 2 * np.pi * random.random()\n",
    "        r = inner_radius + diff * random.random()\n",
    "        x1 = r * np.cos(angle)\n",
    "        x2 = r * np.sin(angle)\n",
    "        data.append((x1, x2))\n",
    "    # Return a data frame for convenience\n",
    "    xs, ys = zip(*data)\n",
    "    df = pd.DataFrame()\n",
    "    df[\"x1\"] = xs\n",
    "    df[\"x2\"] = ys\n",
    "    df[\"color\"] = color\n",
    "    return df\n",
    "\n",
    "df1 = annulus(2, 6, 200, color = \"r\")\n",
    "df2 = annulus(8, 10, 300, color = \"b\")\n",
    "df_circ = pd.concat([df1, df2])"
   ]
  },
  {
   "cell_type": "code",
   "execution_count": null,
   "metadata": {
    "collapsed": false
   },
   "outputs": [],
   "source": [
    "plt.figure(figsize = (5, 5))\n",
    "plt.scatter(df_circ[\"x1\"], df_circ[\"x2\"], c = df_circ[\"color\"])\n",
    "plt.show()"
   ]
  },
  {
   "cell_type": "markdown",
   "metadata": {},
   "source": [
    "## K-Means with scikit-learn"
   ]
  },
  {
   "cell_type": "code",
   "execution_count": null,
   "metadata": {
    "collapsed": true
   },
   "outputs": [],
   "source": [
    "# Plot the data\n",
    "def set_colors(labels, colors = \"rgbykcm\"):\n",
    "    colored_labels = []\n",
    "    for label in labels:\n",
    "        colored_labels.append(colors[label])\n",
    "    return colored_labels"
   ]
  },
  {
   "cell_type": "code",
   "execution_count": null,
   "metadata": {
    "collapsed": false
   },
   "outputs": [],
   "source": [
    "# Fit a k-means estimator\n",
    "estimator = KMeans(n_clusters = 2)\n",
    "X = df[[\"x1\", \"x2\"]]\n",
    "estimator.fit(X)\n",
    "\n",
    "# Clusters are given in the labels_ attribute\n",
    "labels = estimator.labels_\n",
    "print(labels)"
   ]
  },
  {
   "cell_type": "code",
   "execution_count": null,
   "metadata": {
    "collapsed": false
   },
   "outputs": [],
   "source": [
    "colors = set_colors(labels)\n",
    "plt.scatter(df[\"x1\"], df[\"x2\"], c = colors)\n",
    "plt.xlabel(\"x1\")\n",
    "plt.ylabel(\"x2\")\n",
    "plt.show()"
   ]
  },
  {
   "cell_type": "markdown",
   "metadata": {},
   "source": [
    "### Let's try it with `k=4` this time."
   ]
  },
  {
   "cell_type": "code",
   "execution_count": null,
   "metadata": {
    "collapsed": false
   },
   "outputs": [],
   "source": [
    "estimator = KMeans(n_clusters = 4)\n",
    "X = df[[\"x1\", \"x2\"]]\n",
    "estimator.fit(X)\n",
    "\n",
    "# Clusters are given in the labels_ attribute\n",
    "labels = estimator.labels_\n",
    "print(Counter(labels))"
   ]
  },
  {
   "cell_type": "code",
   "execution_count": null,
   "metadata": {
    "collapsed": false
   },
   "outputs": [],
   "source": [
    "colors = set_colors(labels)\n",
    "plt.scatter(df[\"x1\"], df[\"x2\"], c = colors)\n",
    "plt.xlabel(\"x1\")\n",
    "plt.ylabel(\"x2\")\n",
    "plt.show()"
   ]
  },
  {
   "cell_type": "markdown",
   "metadata": {},
   "source": [
    "### Let's try the circular data."
   ]
  },
  {
   "cell_type": "code",
   "execution_count": null,
   "metadata": {
    "collapsed": false
   },
   "outputs": [],
   "source": [
    "estimator = KMeans(n_clusters = 2)\n",
    "X = df_circ[[\"x1\", \"x2\"]]\n",
    "estimator.fit(X)\n",
    "\n",
    "# Clusters are given in the labels_ attribute\n",
    "labels = estimator.labels_\n",
    "print(Counter(labels))"
   ]
  },
  {
   "cell_type": "code",
   "execution_count": null,
   "metadata": {
    "collapsed": false
   },
   "outputs": [],
   "source": [
    "colors = set_colors(labels)\n",
    "plt.figure(figsize = (5, 5))\n",
    "plt.scatter(df_circ[\"x1\"], df_circ[\"x2\"], c = colors)\n",
    "plt.xlabel(\"x1\")\n",
    "plt.ylabel(\"x2\")\n",
    "plt.show()"
   ]
  },
  {
   "cell_type": "markdown",
   "metadata": {},
   "source": [
    "### Ouch! No so great on this dataset. Now let's try some real data."
   ]
  },
  {
   "cell_type": "code",
   "execution_count": null,
   "metadata": {
    "collapsed": false
   },
   "outputs": [],
   "source": [
    "of_df = pd.read_csv(\"../../../../data/old-faithful.csv\")\n",
    "of_df.head()"
   ]
  },
  {
   "cell_type": "code",
   "execution_count": null,
   "metadata": {
    "collapsed": false
   },
   "outputs": [],
   "source": [
    "of_df.plot.scatter(x = \"eruption_time\", y = \"wait_time\")\n",
    "plt.show()"
   ]
  },
  {
   "cell_type": "code",
   "execution_count": null,
   "metadata": {
    "collapsed": false
   },
   "outputs": [],
   "source": [
    "# Fit a k-means estimator\n",
    "estimator = KMeans(n_clusters = 2)\n",
    "X = of_df[[\"eruption_time\", \"wait_time\"]]\n",
    "estimator.fit(X)\n",
    "\n",
    "# Clusters are given in the labels_ attribute\n",
    "labels = estimator.labels_\n",
    "print Counter(labels)"
   ]
  },
  {
   "cell_type": "code",
   "execution_count": null,
   "metadata": {
    "collapsed": false
   },
   "outputs": [],
   "source": [
    "# Plot the data\n",
    "colors = set_colors(labels)\n",
    "plt.scatter(of_df[\"eruption_time\"], of_df[\"wait_time\"], c = colors)\n",
    "plt.xlabel(\"eruption_time\")\n",
    "plt.ylabel(\"wait_time\")\n",
    "plt.show()"
   ]
  },
  {
   "cell_type": "markdown",
   "metadata": {},
   "source": [
    "## Exercise: k-means\n",
    "For the Iris data set, fit and plot k-means models to:\n",
    "- sepal_length and petal_length, for k=2 and k=3\n",
    "- sepal_width and petal_width, for k=2 and k=3\n",
    "\n",
    "Bonus: [Compare](http://scikit-learn.org/stable/modules/clustering.html#adjusted-rand-index) your classifications to the known species. How well do the labels match up?\n",
    "\n",
    "After: Check out the 3D-example [here](http://scikit-learn.org/stable/auto_examples/cluster/plot_cluster_iris.html)"
   ]
  },
  {
   "cell_type": "code",
   "execution_count": null,
   "metadata": {
    "collapsed": false
   },
   "outputs": [],
   "source": [
    "iris = pd.read_csv(\"../../../../data/iris.data\")\n",
    "\n",
    "sns.pairplot(iris, hue = \"species\")\n",
    "plt.show()\n",
    "\n",
    "iris.tail()"
   ]
  },
  {
   "cell_type": "code",
   "execution_count": null,
   "metadata": {
    "collapsed": false
   },
   "outputs": [],
   "source": [
    "## Exercise Answers here\n",
    "# Fit a k-means estimator\n",
    "# Check the labels\n",
    "\n",
    "# <Code Here>"
   ]
  },
  {
   "cell_type": "code",
   "execution_count": null,
   "metadata": {
    "collapsed": true
   },
   "outputs": [],
   "source": [
    "# Plot the results\n",
    "\n",
    "# <Code Here>"
   ]
  },
  {
   "cell_type": "code",
   "execution_count": null,
   "metadata": {
    "collapsed": true
   },
   "outputs": [],
   "source": [
    "# Calculate some metric\n",
    "# Hint: metrics.adjusted_rand_score\n",
    "\n",
    "# <Code Here>"
   ]
  },
  {
   "cell_type": "markdown",
   "metadata": {},
   "source": [
    "## DBSCAN"
   ]
  },
  {
   "cell_type": "code",
   "execution_count": null,
   "metadata": {
    "collapsed": false
   },
   "outputs": [],
   "source": [
    "# Fit a DBSCAN estimator\n",
    "estimator = DBSCAN(eps = 0.85, min_samples = 10)\n",
    "X = df[[\"x1\", \"x2\"]]\n",
    "estimator.fit(X)\n",
    "\n",
    "# Clusters are given in the labels_ attribute\n",
    "labels = estimator.labels_\n",
    "print(Counter(labels))"
   ]
  },
  {
   "cell_type": "code",
   "execution_count": null,
   "metadata": {
    "collapsed": false
   },
   "outputs": [],
   "source": [
    "colors = set_colors(labels)\n",
    "plt.scatter(df[\"x1\"], df[\"x2\"], c = colors)\n",
    "plt.xlabel(\"x1\")\n",
    "plt.ylabel(\"x2\")\n",
    "plt.show()"
   ]
  },
  {
   "cell_type": "code",
   "execution_count": null,
   "metadata": {
    "collapsed": false
   },
   "outputs": [],
   "source": [
    "# Fit a DBSCAN estimator\n",
    "estimator = DBSCAN(eps = 0.8, min_samples = 10)\n",
    "X = df[[\"x1\", \"x2\"]]\n",
    "estimator.fit(X)\n",
    "\n",
    "# Clusters are given in the labels_ attribute\n",
    "labels = estimator.labels_\n",
    "print(Counter(labels))"
   ]
  },
  {
   "cell_type": "code",
   "execution_count": null,
   "metadata": {
    "collapsed": false
   },
   "outputs": [],
   "source": [
    "colors = set_colors(labels)\n",
    "plt.scatter(df[\"x1\"], df[\"x2\"], c = colors)\n",
    "plt.xlabel(\"x1\")\n",
    "plt.ylabel(\"x2\")\n",
    "plt.show()"
   ]
  },
  {
   "cell_type": "code",
   "execution_count": null,
   "metadata": {
    "collapsed": false
   },
   "outputs": [],
   "source": [
    "# Fit a DBSCAN estimator\n",
    "estimator = DBSCAN(eps = 2, min_samples = 10)\n",
    "X = df_circ[[\"x1\", \"x2\"]]\n",
    "estimator.fit(X)\n",
    "\n",
    "# Clusters are given in the labels_ attribute\n",
    "labels = estimator.labels_\n",
    "print(Counter(labels))"
   ]
  },
  {
   "cell_type": "code",
   "execution_count": null,
   "metadata": {
    "collapsed": false
   },
   "outputs": [],
   "source": [
    "colors = set_colors(labels)\n",
    "plt.figure(figsize = (5, 5))\n",
    "plt.scatter(df_circ[\"x1\"], df_circ[\"x2\"], c = colors)\n",
    "plt.xlabel(\"x1\")\n",
    "plt.ylabel(\"x2\")\n",
    "plt.show()"
   ]
  },
  {
   "cell_type": "markdown",
   "metadata": {},
   "source": [
    "### Much better than k-means on this data set! Let's try to cook up something that DBSCAN does not work as well on."
   ]
  },
  {
   "cell_type": "code",
   "execution_count": null,
   "metadata": {
    "collapsed": false
   },
   "outputs": [],
   "source": [
    "## Create some synthetic data\n",
    "data = []\n",
    "dist = multivariate_normal(mean = [0,0], cov = [[6, 12], [1, 6]])\n",
    "for i in range(50):\n",
    "    data.append(dist.rvs())\n",
    "\n",
    "dist = multivariate_normal(mean = [10, 10], cov = [[1, 1.1], [0.2, 0.6]])\n",
    "for i in range(400):\n",
    "    data.append(dist.rvs())    \n",
    "    \n",
    "df2 = pd.DataFrame(data, columns = [\"x1\", \"x2\"])\n",
    "df2.head()"
   ]
  },
  {
   "cell_type": "code",
   "execution_count": null,
   "metadata": {
    "collapsed": false
   },
   "outputs": [],
   "source": [
    "plt.scatter(df2[\"x1\"], df2[\"x2\"])\n",
    "plt.show()"
   ]
  },
  {
   "cell_type": "code",
   "execution_count": null,
   "metadata": {
    "collapsed": false
   },
   "outputs": [],
   "source": [
    "# Fit a DBSCAN estimator\n",
    "estimator = DBSCAN(eps = 2, min_samples = 10)\n",
    "X = df2[[\"x1\", \"x2\"]]\n",
    "estimator.fit(X)\n",
    "\n",
    "# Clusters are given in the labels_ attribute\n",
    "labels = estimator.labels_\n",
    "print(Counter(labels))"
   ]
  },
  {
   "cell_type": "code",
   "execution_count": null,
   "metadata": {
    "collapsed": false
   },
   "outputs": [],
   "source": [
    "colors = set_colors(labels)\n",
    "plt.scatter(df2[\"x1\"], df2[\"x2\"], c = colors)\n",
    "plt.xlabel(\"x1\")\n",
    "plt.ylabel(\"x2\")\n",
    "plt.show()"
   ]
  },
  {
   "cell_type": "markdown",
   "metadata": {},
   "source": [
    "## Exercise: DBSCAN\n",
    "For the Iris dataset, fit and plot DBSCAN models to:\n",
    "- sepal_length and petal_length\n",
    "- sepal_width and petal_width\n",
    "Bonus: [Compare](http://scikit-learn.org/stable/modules/clustering.html#adjusted-rand-index) your classifications to the known species. How well do the labels match up?"
   ]
  },
  {
   "cell_type": "code",
   "execution_count": null,
   "metadata": {
    "collapsed": false
   },
   "outputs": [],
   "source": [
    "## Exercise Answers here\n",
    "# Fit a DBSCAN\n",
    "estimator = DBSCAN(eps = 0.5, min_samples = 10)\n",
    "X = iris[[\"sepal_length\", \"petal_length\"]]\n",
    "estimator.fit(X)\n",
    "\n",
    "# Clusters are given in the labels_ attribute\n",
    "labels = estimator.labels_\n",
    "print(Counter(labels))"
   ]
  },
  {
   "cell_type": "code",
   "execution_count": null,
   "metadata": {
    "collapsed": false
   },
   "outputs": [],
   "source": [
    "colors = set_colors(labels)\n",
    "plt.scatter(iris[\"petal_length\"], iris[\"sepal_length\"], c = colors)\n",
    "plt.xlabel(\"petal_length\")\n",
    "plt.ylabel(\"sepal_length\")\n",
    "plt.show()"
   ]
  },
  {
   "cell_type": "code",
   "execution_count": null,
   "metadata": {
    "collapsed": false
   },
   "outputs": [],
   "source": [
    "## Exercise Answers here\n",
    "# Fit a DBSCAN\n",
    "# Clusters are given in the labels_ attribute\n",
    "\n",
    "# <Code Here>"
   ]
  },
  {
   "cell_type": "code",
   "execution_count": null,
   "metadata": {
    "collapsed": false
   },
   "outputs": [],
   "source": [
    "# Plot the results\n",
    "\n",
    "# <Code Here>"
   ]
  },
  {
   "cell_type": "markdown",
   "metadata": {},
   "source": [
    "## Hierarchical Clustering"
   ]
  },
  {
   "cell_type": "code",
   "execution_count": null,
   "metadata": {
    "collapsed": false
   },
   "outputs": [],
   "source": [
    "# Hierarchical: Agglomerative Clustering\n",
    "from sklearn.cluster import AgglomerativeClustering\n",
    "\n",
    "# Fit an estimator\n",
    "estimator = AgglomerativeClustering(n_clusters = 4)\n",
    "X = df[[\"x1\", \"x2\"]]\n",
    "estimator.fit(X)\n",
    "\n",
    "# Clusters are given in the labels_ attribute\n",
    "labels = estimator.labels_\n",
    "print(Counter(labels))"
   ]
  },
  {
   "cell_type": "code",
   "execution_count": null,
   "metadata": {
    "collapsed": false
   },
   "outputs": [],
   "source": [
    "colors = set_colors(labels)\n",
    "plt.scatter(df[\"x1\"], df[\"x2\"], c = colors)\n",
    "plt.xlabel(\"x1\")\n",
    "plt.ylabel(\"x2\")\n",
    "plt.show()"
   ]
  },
  {
   "cell_type": "code",
   "execution_count": null,
   "metadata": {
    "collapsed": false
   },
   "outputs": [],
   "source": [
    "# Hierarchical: Agglomerative Clustering\n",
    "from sklearn.cluster import AgglomerativeClustering\n",
    "\n",
    "# Fit an estimator\n",
    "estimator = AgglomerativeClustering(n_clusters = 2)\n",
    "X = df_circ[[\"x1\", \"x2\"]]\n",
    "estimator.fit(X)\n",
    "\n",
    "# Clusters are given in the labels_ attribute\n",
    "labels = estimator.labels_\n",
    "print(Counter(labels))"
   ]
  },
  {
   "cell_type": "code",
   "execution_count": null,
   "metadata": {
    "collapsed": false
   },
   "outputs": [],
   "source": [
    "colors = set_colors(labels)\n",
    "plt.figure(figsize = (5, 5))\n",
    "plt.scatter(df_circ[\"x1\"], df_circ[\"x2\"], c = colors)\n",
    "plt.xlabel(\"x1\")\n",
    "plt.ylabel(\"x2\")\n",
    "plt.show()"
   ]
  },
  {
   "cell_type": "code",
   "execution_count": null,
   "metadata": {
    "collapsed": false
   },
   "outputs": [],
   "source": [
    "## Silhouette Coefficient\n",
    "from sklearn import metrics\n",
    "\n",
    "estimator = KMeans(n_clusters = 4)\n",
    "X = df[[\"x1\", \"x2\"]]\n",
    "estimator.fit(X)\n",
    "\n",
    "# Clusters are given in the labels_ attribute\n",
    "labels = estimator.labels_\n",
    "print(Counter(labels))\n",
    "print(metrics.silhouette_score(X, labels, metric = \"euclidean\"))"
   ]
  },
  {
   "cell_type": "code",
   "execution_count": null,
   "metadata": {
    "collapsed": false
   },
   "outputs": [],
   "source": [
    "estimator = DBSCAN(eps = 1.2, min_samples = 10)\n",
    "X = df[[\"x1\", \"x2\"]]\n",
    "estimator.fit(X)\n",
    "\n",
    "# Clusters are given in the labels_ attribute\n",
    "labels = estimator.labels_\n",
    "print(Counter(labels))\n",
    "print(metrics.silhouette_score(X, labels, metric = \"euclidean\"))"
   ]
  },
  {
   "cell_type": "markdown",
   "metadata": {},
   "source": [
    "### Bigger is better, so k-means was a better clustering algorithm on this data set."
   ]
  }
 ],
 "metadata": {
  "anaconda-cloud": {},
  "kernelspec": {
   "display_name": "Python [conda root]",
   "language": "python",
   "name": "conda-root-py"
  },
  "language_info": {
   "codemirror_mode": {
    "name": "ipython",
    "version": 2
   },
   "file_extension": ".py",
   "mimetype": "text/x-python",
   "name": "python",
   "nbconvert_exporter": "python",
   "pygments_lexer": "ipython2",
   "version": "2.7.13"
  }
 },
 "nbformat": 4,
 "nbformat_minor": 0
}
