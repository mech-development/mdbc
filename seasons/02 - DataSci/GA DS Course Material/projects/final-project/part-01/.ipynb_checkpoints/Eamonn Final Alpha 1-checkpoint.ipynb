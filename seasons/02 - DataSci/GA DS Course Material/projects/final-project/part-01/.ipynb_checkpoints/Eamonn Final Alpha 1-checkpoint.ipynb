{
 "cells": [
  {
   "cell_type": "code",
   "execution_count": 1,
   "metadata": {
    "collapsed": true
   },
   "outputs": [],
   "source": [
    "import numpy as np\n",
    "import pandas as pd\n",
    "import matplotlib as plt\n",
    "import seaborn as sns\n",
    "import sklearn as skl\n",
    "\n",
    "    "
   ]
  },
  {
   "cell_type": "code",
   "execution_count": 7,
   "metadata": {
    "collapsed": false
   },
   "outputs": [],
   "source": [
    "## Uni Student attrition starting data frame, Details the % of 1st year Uni leavers\n",
    "raw_att_dat = pd.read_csv(\"/home/mactzu/anaconda2/projects/ds2melb/projects/final-project/part-01/2015_appendix_4_-_attrition_coverted.csv\",header = 4 , index_col = 0)"
   ]
  },
  {
   "cell_type": "code",
   "execution_count": 8,
   "metadata": {
    "collapsed": false
   },
   "outputs": [
    {
     "data": {
      "text/html": [
       "<div>\n",
       "<table border=\"1\" class=\"dataframe\">\n",
       "  <thead>\n",
       "    <tr style=\"text-align: right;\">\n",
       "      <th></th>\n",
       "      <th>2001</th>\n",
       "      <th>2002</th>\n",
       "      <th>2003</th>\n",
       "      <th>2004</th>\n",
       "      <th>2005</th>\n",
       "      <th>2006</th>\n",
       "      <th>2007</th>\n",
       "      <th>2008</th>\n",
       "      <th>2009</th>\n",
       "      <th>2010</th>\n",
       "      <th>...</th>\n",
       "      <th>2005.1</th>\n",
       "      <th>2006.1</th>\n",
       "      <th>2007.1</th>\n",
       "      <th>2008.1</th>\n",
       "      <th>2009.1</th>\n",
       "      <th>2010.1</th>\n",
       "      <th>2011.1</th>\n",
       "      <th>2012.1</th>\n",
       "      <th>2013.1</th>\n",
       "      <th>2014.1</th>\n",
       "    </tr>\n",
       "  </thead>\n",
       "  <tbody>\n",
       "    <tr>\n",
       "      <th>Australia</th>\n",
       "      <td>NaN</td>\n",
       "      <td>NaN</td>\n",
       "      <td>NaN</td>\n",
       "      <td>NaN</td>\n",
       "      <td>NaN</td>\n",
       "      <td>NaN</td>\n",
       "      <td>NaN</td>\n",
       "      <td>NaN</td>\n",
       "      <td>NaN</td>\n",
       "      <td>NaN</td>\n",
       "      <td>...</td>\n",
       "      <td>NaN</td>\n",
       "      <td>NaN</td>\n",
       "      <td>NaN</td>\n",
       "      <td>NaN</td>\n",
       "      <td>NaN</td>\n",
       "      <td>NaN</td>\n",
       "      <td>NaN</td>\n",
       "      <td>NaN</td>\n",
       "      <td>NaN</td>\n",
       "      <td>NaN</td>\n",
       "    </tr>\n",
       "    <tr>\n",
       "      <th>National Total</th>\n",
       "      <td>19.17</td>\n",
       "      <td>19.81</td>\n",
       "      <td>19</td>\n",
       "      <td>18.76</td>\n",
       "      <td>18.86</td>\n",
       "      <td>18.50</td>\n",
       "      <td>18.92</td>\n",
       "      <td>17.8</td>\n",
       "      <td>18.06</td>\n",
       "      <td>19</td>\n",
       "      <td>...</td>\n",
       "      <td>15.04</td>\n",
       "      <td>14.62</td>\n",
       "      <td>14.76</td>\n",
       "      <td>12.77</td>\n",
       "      <td>12.48</td>\n",
       "      <td>13.09</td>\n",
       "      <td>12.79</td>\n",
       "      <td>13.43</td>\n",
       "      <td>14.79</td>\n",
       "      <td>15.18</td>\n",
       "    </tr>\n",
       "    <tr>\n",
       "      <th>Table A Providers</th>\n",
       "      <td>19.16</td>\n",
       "      <td>19.8</td>\n",
       "      <td>18.99</td>\n",
       "      <td>18.78</td>\n",
       "      <td>18.86</td>\n",
       "      <td>18.52</td>\n",
       "      <td>18.97</td>\n",
       "      <td>17.85</td>\n",
       "      <td>18.11</td>\n",
       "      <td>19.05</td>\n",
       "      <td>...</td>\n",
       "      <td>15.04</td>\n",
       "      <td>14.63</td>\n",
       "      <td>14.79</td>\n",
       "      <td>12.81</td>\n",
       "      <td>12.54</td>\n",
       "      <td>13.14</td>\n",
       "      <td>12.82</td>\n",
       "      <td>13.47</td>\n",
       "      <td>14.84</td>\n",
       "      <td>15.25</td>\n",
       "    </tr>\n",
       "    <tr>\n",
       "      <th>Table B Providers</th>\n",
       "      <td>28.11</td>\n",
       "      <td>21.4</td>\n",
       "      <td>20.14</td>\n",
       "      <td>17.12</td>\n",
       "      <td>18.57</td>\n",
       "      <td>17.03</td>\n",
       "      <td>15.82</td>\n",
       "      <td>15.1</td>\n",
       "      <td>15.31</td>\n",
       "      <td>16.17</td>\n",
       "      <td>...</td>\n",
       "      <td>15.41</td>\n",
       "      <td>13.75</td>\n",
       "      <td>12.74</td>\n",
       "      <td>10.7</td>\n",
       "      <td>9.7</td>\n",
       "      <td>10.33</td>\n",
       "      <td>11.59</td>\n",
       "      <td>10.61</td>\n",
       "      <td>10.94</td>\n",
       "      <td>10.04</td>\n",
       "    </tr>\n",
       "    <tr>\n",
       "      <th>New South Wales</th>\n",
       "      <td>NaN</td>\n",
       "      <td>NaN</td>\n",
       "      <td>NaN</td>\n",
       "      <td>NaN</td>\n",
       "      <td>NaN</td>\n",
       "      <td>NaN</td>\n",
       "      <td>NaN</td>\n",
       "      <td>NaN</td>\n",
       "      <td>NaN</td>\n",
       "      <td>NaN</td>\n",
       "      <td>...</td>\n",
       "      <td>NaN</td>\n",
       "      <td>NaN</td>\n",
       "      <td>NaN</td>\n",
       "      <td>NaN</td>\n",
       "      <td>NaN</td>\n",
       "      <td>NaN</td>\n",
       "      <td>NaN</td>\n",
       "      <td>NaN</td>\n",
       "      <td>NaN</td>\n",
       "      <td>NaN</td>\n",
       "    </tr>\n",
       "  </tbody>\n",
       "</table>\n",
       "<p>5 rows × 25 columns</p>\n",
       "</div>"
      ],
      "text/plain": [
       "                    2001   2002   2003   2004   2005   2006   2007   2008  \\\n",
       "Australia            NaN    NaN    NaN    NaN    NaN    NaN    NaN    NaN   \n",
       "National Total     19.17  19.81     19  18.76  18.86  18.50  18.92   17.8   \n",
       "Table A Providers  19.16   19.8  18.99  18.78  18.86  18.52  18.97  17.85   \n",
       "Table B Providers  28.11   21.4  20.14  17.12  18.57  17.03  15.82   15.1   \n",
       "New South Wales      NaN    NaN    NaN    NaN    NaN    NaN    NaN    NaN   \n",
       "\n",
       "                    2009   2010  ...   2005.1 2006.1 2007.1 2008.1  2009.1  \\\n",
       "Australia            NaN    NaN  ...      NaN    NaN    NaN    NaN     NaN   \n",
       "National Total     18.06     19  ...    15.04  14.62  14.76  12.77   12.48   \n",
       "Table A Providers  18.11  19.05  ...    15.04  14.63  14.79  12.81   12.54   \n",
       "Table B Providers  15.31  16.17  ...    15.41  13.75  12.74   10.7     9.7   \n",
       "New South Wales      NaN    NaN  ...      NaN    NaN    NaN    NaN     NaN   \n",
       "\n",
       "                   2010.1  2011.1  2012.1 2013.1 2014.1  \n",
       "Australia             NaN     NaN     NaN    NaN    NaN  \n",
       "National Total      13.09   12.79   13.43  14.79  15.18  \n",
       "Table A Providers   13.14   12.82   13.47  14.84  15.25  \n",
       "Table B Providers   10.33   11.59   10.61  10.94  10.04  \n",
       "New South Wales       NaN     NaN     NaN    NaN    NaN  \n",
       "\n",
       "[5 rows x 25 columns]"
      ]
     },
     "execution_count": 8,
     "metadata": {},
     "output_type": "execute_result"
    }
   ],
   "source": []
  },
  {
   "cell_type": "code",
   "execution_count": 13,
   "metadata": {
    "collapsed": false,
    "scrolled": true
   },
   "outputs": [],
   "source": [
    "nsw_att_dat = pd.DataFrame(raw_att_dat.iloc [5:15, 16:27])\n",
    "#, columns=[\"2004\" , \"2005\" , \"2006\" , \"2007\" , \"2008\" , \"2009\" , \"2010\" , \"2011\" , \"2012\" , \"2013\" , \"2014\"])\n",
    " "
   ]
  },
  {
   "cell_type": "code",
   "execution_count": 14,
   "metadata": {
    "collapsed": false,
    "scrolled": true
   },
   "outputs": [
    {
     "data": {
      "text/html": [
       "<div>\n",
       "<table border=\"1\" class=\"dataframe\">\n",
       "  <thead>\n",
       "    <tr style=\"text-align: right;\">\n",
       "      <th></th>\n",
       "      <th>2006.1</th>\n",
       "      <th>2007.1</th>\n",
       "      <th>2008.1</th>\n",
       "      <th>2009.1</th>\n",
       "      <th>2010.1</th>\n",
       "      <th>2011.1</th>\n",
       "      <th>2012.1</th>\n",
       "      <th>2013.1</th>\n",
       "      <th>2014.1</th>\n",
       "    </tr>\n",
       "  </thead>\n",
       "  <tbody>\n",
       "    <tr>\n",
       "      <th>Charles Sturt University</th>\n",
       "      <td>21.18</td>\n",
       "      <td>22.24</td>\n",
       "      <td>19.26</td>\n",
       "      <td>19.53</td>\n",
       "      <td>20.85</td>\n",
       "      <td>20.46</td>\n",
       "      <td>20.34</td>\n",
       "      <td>21.79</td>\n",
       "      <td>23.21</td>\n",
       "    </tr>\n",
       "    <tr>\n",
       "      <th>Macquarie University</th>\n",
       "      <td>9.52</td>\n",
       "      <td>9.19</td>\n",
       "      <td>8.97</td>\n",
       "      <td>8.61</td>\n",
       "      <td>9.63</td>\n",
       "      <td>9.01</td>\n",
       "      <td>10.16</td>\n",
       "      <td>9.49</td>\n",
       "      <td>9.77</td>\n",
       "    </tr>\n",
       "    <tr>\n",
       "      <th>Southern Cross University</th>\n",
       "      <td>24.78</td>\n",
       "      <td>24.92</td>\n",
       "      <td>22.39</td>\n",
       "      <td>23.38</td>\n",
       "      <td>20.94</td>\n",
       "      <td>22.25</td>\n",
       "      <td>24.12</td>\n",
       "      <td>23.49</td>\n",
       "      <td>24.54</td>\n",
       "    </tr>\n",
       "    <tr>\n",
       "      <th>The University of New England</th>\n",
       "      <td>24.16</td>\n",
       "      <td>22.22</td>\n",
       "      <td>19.6</td>\n",
       "      <td>20.49</td>\n",
       "      <td>20.24</td>\n",
       "      <td>20.52</td>\n",
       "      <td>21.62</td>\n",
       "      <td>22.04</td>\n",
       "      <td>22.89</td>\n",
       "    </tr>\n",
       "    <tr>\n",
       "      <th>The University of New South Wales(d)</th>\n",
       "      <td>7.11</td>\n",
       "      <td>6.42</td>\n",
       "      <td>5.81</td>\n",
       "      <td>5.24</td>\n",
       "      <td>5.64</td>\n",
       "      <td>5.23</td>\n",
       "      <td>4.85</td>\n",
       "      <td>5.38</td>\n",
       "      <td>4.8</td>\n",
       "    </tr>\n",
       "    <tr>\n",
       "      <th>The University of Newcastle</th>\n",
       "      <td>12.55</td>\n",
       "      <td>14.27</td>\n",
       "      <td>11.79</td>\n",
       "      <td>13.64</td>\n",
       "      <td>13.33</td>\n",
       "      <td>13.75</td>\n",
       "      <td>13.72</td>\n",
       "      <td>14.51</td>\n",
       "      <td>14.6</td>\n",
       "    </tr>\n",
       "    <tr>\n",
       "      <th>The University of Wollongong</th>\n",
       "      <td>10.44</td>\n",
       "      <td>9.97</td>\n",
       "      <td>8</td>\n",
       "      <td>8.42</td>\n",
       "      <td>9.37</td>\n",
       "      <td>9.75</td>\n",
       "      <td>9.57</td>\n",
       "      <td>10.56</td>\n",
       "      <td>10.69</td>\n",
       "    </tr>\n",
       "    <tr>\n",
       "      <th>University of Sydney</th>\n",
       "      <td>6.47</td>\n",
       "      <td>6.72</td>\n",
       "      <td>5.57</td>\n",
       "      <td>5.91</td>\n",
       "      <td>5.47</td>\n",
       "      <td>5.33</td>\n",
       "      <td>5.46</td>\n",
       "      <td>6.09</td>\n",
       "      <td>5.93</td>\n",
       "    </tr>\n",
       "    <tr>\n",
       "      <th>University of Technology Sydney</th>\n",
       "      <td>8.00</td>\n",
       "      <td>8.91</td>\n",
       "      <td>6.31</td>\n",
       "      <td>7.33</td>\n",
       "      <td>7.46</td>\n",
       "      <td>7.45</td>\n",
       "      <td>7.47</td>\n",
       "      <td>8.3</td>\n",
       "      <td>7.74</td>\n",
       "    </tr>\n",
       "    <tr>\n",
       "      <th>Western Sydney University</th>\n",
       "      <td>12.04</td>\n",
       "      <td>13.53</td>\n",
       "      <td>11.39</td>\n",
       "      <td>11.15</td>\n",
       "      <td>11.39</td>\n",
       "      <td>11.88</td>\n",
       "      <td>12.73</td>\n",
       "      <td>12.48</td>\n",
       "      <td>14.11</td>\n",
       "    </tr>\n",
       "  </tbody>\n",
       "</table>\n",
       "</div>"
      ],
      "text/plain": [
       "                                      2006.1  2007.1 2008.1 2009.1 2010.1  \\\n",
       "Charles Sturt University               21.18   22.24  19.26  19.53  20.85   \n",
       "Macquarie University                    9.52    9.19   8.97   8.61   9.63   \n",
       "Southern Cross University              24.78   24.92  22.39  23.38  20.94   \n",
       "The University of New England          24.16   22.22   19.6  20.49  20.24   \n",
       "The University of New South Wales(d)    7.11    6.42   5.81   5.24   5.64   \n",
       "The University of Newcastle            12.55   14.27  11.79  13.64  13.33   \n",
       "The University of Wollongong           10.44    9.97      8   8.42   9.37   \n",
       "University of Sydney                    6.47    6.72   5.57   5.91   5.47   \n",
       "University of Technology Sydney         8.00    8.91   6.31   7.33   7.46   \n",
       "Western Sydney University              12.04   13.53  11.39  11.15  11.39   \n",
       "\n",
       "                                     2011.1 2012.1 2013.1 2014.1  \n",
       "Charles Sturt University              20.46  20.34  21.79  23.21  \n",
       "Macquarie University                   9.01  10.16   9.49   9.77  \n",
       "Southern Cross University             22.25  24.12  23.49  24.54  \n",
       "The University of New England         20.52  21.62  22.04  22.89  \n",
       "The University of New South Wales(d)   5.23   4.85   5.38    4.8  \n",
       "The University of Newcastle           13.75  13.72  14.51   14.6  \n",
       "The University of Wollongong           9.75   9.57  10.56  10.69  \n",
       "University of Sydney                   5.33   5.46   6.09   5.93  \n",
       "University of Technology Sydney        7.45   7.47    8.3   7.74  \n",
       "Western Sydney University             11.88  12.73  12.48  14.11  "
      ]
     },
     "execution_count": 14,
     "metadata": {},
     "output_type": "execute_result"
    }
   ],
   "source": [
    "nsw_att_dat"
   ]
  },
  {
   "cell_type": "code",
   "execution_count": 18,
   "metadata": {
    "collapsed": false
   },
   "outputs": [
    {
     "ename": "SyntaxError",
     "evalue": "invalid syntax (<ipython-input-18-a9c292c2e1c5>, line 1)",
     "output_type": "error",
     "traceback": [
      "\u001b[0;36m  File \u001b[0;32m\"<ipython-input-18-a9c292c2e1c5>\"\u001b[0;36m, line \u001b[0;32m1\u001b[0m\n\u001b[0;31m    plot([5:6], [16:17])\u001b[0m\n\u001b[0m           ^\u001b[0m\n\u001b[0;31mSyntaxError\u001b[0m\u001b[0;31m:\u001b[0m invalid syntax\n"
     ]
    }
   ],
   "source": [
    "plot([5:6], [16:17])"
   ]
  },
  {
   "cell_type": "code",
   "execution_count": null,
   "metadata": {
    "collapsed": false
   },
   "outputs": [],
   "source": [
    "## Uni Student retenstion starting data frame Details the % of 2nd year re-enrolments\n",
    "raw_ret_dat = pd.read_csv(\"/home/mactzu/anaconda2/projects/ds2melb/projects/final-project/part-01/2015_appendix_4_7-_attrition_coverted.csv\", index_col = 0)"
   ]
  },
  {
   "cell_type": "code",
   "execution_count": null,
   "metadata": {
    "collapsed": false,
    "scrolled": true
   },
   "outputs": [],
   "source": [
    "nsw_ret_dat = pd.DataFrame(raw_ret_dat.iloc [9:19, 16:27])\n",
    "nsw_ret_dat"
   ]
  },
  {
   "cell_type": "code",
   "execution_count": null,
   "metadata": {
    "collapsed": false
   },
   "outputs": [],
   "source": []
  },
  {
   "cell_type": "code",
   "execution_count": null,
   "metadata": {
    "collapsed": false,
    "scrolled": true
   },
   "outputs": [],
   "source": [
    "# Nsw Unis Row range equals the follow \n",
    "raw_att_dat [9:19]"
   ]
  },
  {
   "cell_type": "code",
   "execution_count": null,
   "metadata": {
    "collapsed": false
   },
   "outputs": [],
   "source": [
    "raw_att_dat ([9:19] , [16:25]"
   ]
  },
  {
   "cell_type": "code",
   "execution_count": null,
   "metadata": {
    "collapsed": false
   },
   "outputs": [],
   "source": [
    "unis_nsw = pd.DataFrame(raw_att_dat.iloc[[9:19] , [17:25]])"
   ]
  },
  {
   "cell_type": "raw",
   "metadata": {
    "collapsed": false,
    "scrolled": false
   },
   "source": []
  },
  {
   "cell_type": "code",
   "execution_count": null,
   "metadata": {
    "collapsed": true
   },
   "outputs": [],
   "source": []
  }
 ],
 "metadata": {
  "kernelspec": {
   "display_name": "Python [conda root]",
   "language": "python",
   "name": "conda-root-py"
  },
  "language_info": {
   "codemirror_mode": {
    "name": "ipython",
    "version": 2
   },
   "file_extension": ".py",
   "mimetype": "text/x-python",
   "name": "python",
   "nbconvert_exporter": "python",
   "pygments_lexer": "ipython2",
   "version": "2.7.13"
  }
 },
 "nbformat": 4,
 "nbformat_minor": 2
}
