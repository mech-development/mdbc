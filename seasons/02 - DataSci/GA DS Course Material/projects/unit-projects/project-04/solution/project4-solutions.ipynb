{
 "cells": [
  {
   "cell_type": "markdown",
   "metadata": {},
   "source": [
    "# Unit Project 4 - Solutions\n",
    "In this project, you will summarize and present your analysis from Projects 1-3."
   ]
  },
  {
   "cell_type": "markdown",
   "metadata": {},
   "source": [
    "## Introduction: Write a problem Statement/Specific Aim for this project"
   ]
  },
  {
   "cell_type": "markdown",
   "metadata": {},
   "source": [
    "Answer: Determine if there is an association between graduate school admittance and the prestige of a student's undergraduate school using data from the UCLA admissions data set."
   ]
  },
  {
   "cell_type": "markdown",
   "metadata": {},
   "source": [
    "## Data set: Write up a description of your data and any cleaning that was completed"
   ]
  },
  {
   "cell_type": "markdown",
   "metadata": {},
   "source": [
    "Answer: There were originally 400 applicants in our dataset. There were 3 observations with missing data that were dropped from this analysis. This data was collected from XX to XX. `GPA` ranged from 0-4, while `GRE` ranged from 200-800. The ordinal variable, prestige (1=highest prestige to 4=lowest prestige) was coverted to a class variable with highest prestige as the reference category."
   ]
  },
  {
   "cell_type": "markdown",
   "metadata": {
    "collapsed": true
   },
   "source": [
    "### Demonstration: Provide a table that explains the data by admission status"
   ]
  },
  {
   "cell_type": "markdown",
   "metadata": {},
   "source": [
    "Mean (STDev) or counts by admission status for each variable\n",
    "\n",
    "| Not Admitted | Admitted\n",
    "---|---|---\n",
    "GPA | 3.2 (0.3) | 3.8 (0.3)\n",
    "GRE | 500 (100) | 700 (100)\n",
    "Prestige 1 | 50 | 100\n",
    "Prestige 2 | 100 | 50\n",
    "Prestige 3 | 125 | 25\n",
    "Prestige 4 | 200 | 10"
   ]
  },
  {
   "cell_type": "markdown",
   "metadata": {},
   "source": [
    "## Methods: Write up the methods used in your analysis"
   ]
  },
  {
   "cell_type": "markdown",
   "metadata": {},
   "source": [
    "Answer: We completed a logistic regression using Statsmodels v. XX. We calculated the probability of being admitted to graduate school given the prestige of the undergraduate school controlling for `GRE` and `GPA`. We additionally calculated the predicted probability of each student being admitted to school."
   ]
  },
  {
   "cell_type": "markdown",
   "metadata": {},
   "source": [
    "## Results: Write up your results"
   ]
  },
  {
   "cell_type": "markdown",
   "metadata": {},
   "source": [
    "Answer: Students who attended a tier 2 undergraduate school had 0.50 (CI 0.27, 0.94) the odds of being admitted to graduate school compared to students who attend a tier 1 undergraduate school. This decreased further with tier 3, `OR=0.26`(CI 0.13, 0.52) and tier 4, `OR=0.21` (CI 0.09,  0.48), compared to tier 1 schools."
   ]
  },
  {
   "cell_type": "markdown",
   "metadata": {},
   "source": [
    "## Visuals: Provide a table or visualization of these results"
   ]
  },
  {
   "cell_type": "markdown",
   "metadata": {},
   "source": [
    "<img src=\"../assets/images/figure1.jpg\" height=75% width=75%>"
   ]
  },
  {
   "cell_type": "markdown",
   "metadata": {},
   "source": [
    "<img src=\"../assets/images/figure2.jpg\" height=75% width=75%>"
   ]
  },
  {
   "cell_type": "markdown",
   "metadata": {},
   "source": [
    "## Discussion: Write up your discussion and future steps"
   ]
  },
  {
   "cell_type": "markdown",
   "metadata": {},
   "source": [
    "Our findings indicate that students have a higher probability of being admitted into grad school if they attended a prestigous undergraduate college by a statistically significant margin. The difference between undergraduate admissions rates from Tier 1 and Tier 4 colleges was x percent. Some next steps could include exploring differences by field of study or subdividing by Division sports team rankings.\n",
    "\n",
    "(Note: these are a few suggestions out of many possible options)"
   ]
  }
 ],
 "metadata": {
  "anaconda-cloud": {},
  "kernelspec": {
   "display_name": "Python [conda env:ga]",
   "language": "python",
   "name": "conda-env-ga-py"
  },
  "language_info": {
   "codemirror_mode": {
    "name": "ipython",
    "version": 2
   },
   "file_extension": ".py",
   "mimetype": "text/x-python",
   "name": "python",
   "nbconvert_exporter": "python",
   "pygments_lexer": "ipython2",
   "version": "2.7.12"
  }
 },
 "nbformat": 4,
 "nbformat_minor": 0
}
