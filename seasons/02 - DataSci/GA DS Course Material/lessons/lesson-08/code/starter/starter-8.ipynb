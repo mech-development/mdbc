{
 "cells": [
  {
   "cell_type": "markdown",
   "metadata": {},
   "source": [
    "# Lesson 8 - Starter Code"
   ]
  },
  {
   "cell_type": "code",
   "execution_count": 1,
   "metadata": {
    "collapsed": false
   },
   "outputs": [],
   "source": [
    "import pandas as pd\n",
    "from sklearn import datasets, neighbors, metrics\n",
    "\n",
    "%matplotlib inline\n",
    "import matplotlib.pyplot as plt\n",
    "import seaborn as sns"
   ]
  },
  {
   "cell_type": "code",
   "execution_count": 16,
   "metadata": {
    "collapsed": false
   },
   "outputs": [
    {
     "name": "stdout",
     "output_type": "stream",
     "text": [
      "[[ 5.1  3.5  1.4  0.2]\n",
      " [ 4.9  3.   1.4  0.2]\n",
      " [ 4.7  3.2  1.3  0.2]\n",
      " [ 4.6  3.1  1.5  0.2]\n",
      " [ 5.   3.6  1.4  0.2]\n",
      " [ 5.4  3.9  1.7  0.4]\n",
      " [ 4.6  3.4  1.4  0.3]\n",
      " [ 5.   3.4  1.5  0.2]\n",
      " [ 4.4  2.9  1.4  0.2]\n",
      " [ 4.9  3.1  1.5  0.1]\n",
      " [ 5.4  3.7  1.5  0.2]\n",
      " [ 4.8  3.4  1.6  0.2]\n",
      " [ 4.8  3.   1.4  0.1]\n",
      " [ 4.3  3.   1.1  0.1]\n",
      " [ 5.8  4.   1.2  0.2]\n",
      " [ 5.7  4.4  1.5  0.4]\n",
      " [ 5.4  3.9  1.3  0.4]\n",
      " [ 5.1  3.5  1.4  0.3]\n",
      " [ 5.7  3.8  1.7  0.3]\n",
      " [ 5.1  3.8  1.5  0.3]\n",
      " [ 5.4  3.4  1.7  0.2]\n",
      " [ 5.1  3.7  1.5  0.4]\n",
      " [ 4.6  3.6  1.   0.2]\n",
      " [ 5.1  3.3  1.7  0.5]\n",
      " [ 4.8  3.4  1.9  0.2]\n",
      " [ 5.   3.   1.6  0.2]\n",
      " [ 5.   3.4  1.6  0.4]\n",
      " [ 5.2  3.5  1.5  0.2]\n",
      " [ 5.2  3.4  1.4  0.2]\n",
      " [ 4.7  3.2  1.6  0.2]\n",
      " [ 4.8  3.1  1.6  0.2]\n",
      " [ 5.4  3.4  1.5  0.4]\n",
      " [ 5.2  4.1  1.5  0.1]\n",
      " [ 5.5  4.2  1.4  0.2]\n",
      " [ 4.9  3.1  1.5  0.1]\n",
      " [ 5.   3.2  1.2  0.2]\n",
      " [ 5.5  3.5  1.3  0.2]\n",
      " [ 4.9  3.1  1.5  0.1]\n",
      " [ 4.4  3.   1.3  0.2]\n",
      " [ 5.1  3.4  1.5  0.2]\n",
      " [ 5.   3.5  1.3  0.3]\n",
      " [ 4.5  2.3  1.3  0.3]\n",
      " [ 4.4  3.2  1.3  0.2]\n",
      " [ 5.   3.5  1.6  0.6]\n",
      " [ 5.1  3.8  1.9  0.4]\n",
      " [ 4.8  3.   1.4  0.3]\n",
      " [ 5.1  3.8  1.6  0.2]\n",
      " [ 4.6  3.2  1.4  0.2]\n",
      " [ 5.3  3.7  1.5  0.2]\n",
      " [ 5.   3.3  1.4  0.2]\n",
      " [ 7.   3.2  4.7  1.4]\n",
      " [ 6.4  3.2  4.5  1.5]\n",
      " [ 6.9  3.1  4.9  1.5]\n",
      " [ 5.5  2.3  4.   1.3]\n",
      " [ 6.5  2.8  4.6  1.5]\n",
      " [ 5.7  2.8  4.5  1.3]\n",
      " [ 6.3  3.3  4.7  1.6]\n",
      " [ 4.9  2.4  3.3  1. ]\n",
      " [ 6.6  2.9  4.6  1.3]\n",
      " [ 5.2  2.7  3.9  1.4]\n",
      " [ 5.   2.   3.5  1. ]\n",
      " [ 5.9  3.   4.2  1.5]\n",
      " [ 6.   2.2  4.   1. ]\n",
      " [ 6.1  2.9  4.7  1.4]\n",
      " [ 5.6  2.9  3.6  1.3]\n",
      " [ 6.7  3.1  4.4  1.4]\n",
      " [ 5.6  3.   4.5  1.5]\n",
      " [ 5.8  2.7  4.1  1. ]\n",
      " [ 6.2  2.2  4.5  1.5]\n",
      " [ 5.6  2.5  3.9  1.1]\n",
      " [ 5.9  3.2  4.8  1.8]\n",
      " [ 6.1  2.8  4.   1.3]\n",
      " [ 6.3  2.5  4.9  1.5]\n",
      " [ 6.1  2.8  4.7  1.2]\n",
      " [ 6.4  2.9  4.3  1.3]\n",
      " [ 6.6  3.   4.4  1.4]\n",
      " [ 6.8  2.8  4.8  1.4]\n",
      " [ 6.7  3.   5.   1.7]\n",
      " [ 6.   2.9  4.5  1.5]\n",
      " [ 5.7  2.6  3.5  1. ]\n",
      " [ 5.5  2.4  3.8  1.1]\n",
      " [ 5.5  2.4  3.7  1. ]\n",
      " [ 5.8  2.7  3.9  1.2]\n",
      " [ 6.   2.7  5.1  1.6]\n",
      " [ 5.4  3.   4.5  1.5]\n",
      " [ 6.   3.4  4.5  1.6]\n",
      " [ 6.7  3.1  4.7  1.5]\n",
      " [ 6.3  2.3  4.4  1.3]\n",
      " [ 5.6  3.   4.1  1.3]\n",
      " [ 5.5  2.5  4.   1.3]\n",
      " [ 5.5  2.6  4.4  1.2]\n",
      " [ 6.1  3.   4.6  1.4]\n",
      " [ 5.8  2.6  4.   1.2]\n",
      " [ 5.   2.3  3.3  1. ]\n",
      " [ 5.6  2.7  4.2  1.3]\n",
      " [ 5.7  3.   4.2  1.2]\n",
      " [ 5.7  2.9  4.2  1.3]\n",
      " [ 6.2  2.9  4.3  1.3]\n",
      " [ 5.1  2.5  3.   1.1]\n",
      " [ 5.7  2.8  4.1  1.3]\n",
      " [ 6.3  3.3  6.   2.5]\n",
      " [ 5.8  2.7  5.1  1.9]\n",
      " [ 7.1  3.   5.9  2.1]\n",
      " [ 6.3  2.9  5.6  1.8]\n",
      " [ 6.5  3.   5.8  2.2]\n",
      " [ 7.6  3.   6.6  2.1]\n",
      " [ 4.9  2.5  4.5  1.7]\n",
      " [ 7.3  2.9  6.3  1.8]\n",
      " [ 6.7  2.5  5.8  1.8]\n",
      " [ 7.2  3.6  6.1  2.5]\n",
      " [ 6.5  3.2  5.1  2. ]\n",
      " [ 6.4  2.7  5.3  1.9]\n",
      " [ 6.8  3.   5.5  2.1]\n",
      " [ 5.7  2.5  5.   2. ]\n",
      " [ 5.8  2.8  5.1  2.4]\n",
      " [ 6.4  3.2  5.3  2.3]\n",
      " [ 6.5  3.   5.5  1.8]\n",
      " [ 7.7  3.8  6.7  2.2]\n",
      " [ 7.7  2.6  6.9  2.3]\n",
      " [ 6.   2.2  5.   1.5]\n",
      " [ 6.9  3.2  5.7  2.3]\n",
      " [ 5.6  2.8  4.9  2. ]\n",
      " [ 7.7  2.8  6.7  2. ]\n",
      " [ 6.3  2.7  4.9  1.8]\n",
      " [ 6.7  3.3  5.7  2.1]\n",
      " [ 7.2  3.2  6.   1.8]\n",
      " [ 6.2  2.8  4.8  1.8]\n",
      " [ 6.1  3.   4.9  1.8]\n",
      " [ 6.4  2.8  5.6  2.1]\n",
      " [ 7.2  3.   5.8  1.6]\n",
      " [ 7.4  2.8  6.1  1.9]\n",
      " [ 7.9  3.8  6.4  2. ]\n",
      " [ 6.4  2.8  5.6  2.2]\n",
      " [ 6.3  2.8  5.1  1.5]\n",
      " [ 6.1  2.6  5.6  1.4]\n",
      " [ 7.7  3.   6.1  2.3]\n",
      " [ 6.3  3.4  5.6  2.4]\n",
      " [ 6.4  3.1  5.5  1.8]\n",
      " [ 6.   3.   4.8  1.8]\n",
      " [ 6.9  3.1  5.4  2.1]\n",
      " [ 6.7  3.1  5.6  2.4]\n",
      " [ 6.9  3.1  5.1  2.3]\n",
      " [ 5.8  2.7  5.1  1.9]\n",
      " [ 6.8  3.2  5.9  2.3]\n",
      " [ 6.7  3.3  5.7  2.5]\n",
      " [ 6.7  3.   5.2  2.3]\n",
      " [ 6.3  2.5  5.   1.9]\n",
      " [ 6.5  3.   5.2  2. ]\n",
      " [ 6.2  3.4  5.4  2.3]\n",
      " [ 5.9  3.   5.1  1.8]]\n"
     ]
    }
   ],
   "source": []
  },
  {
   "cell_type": "code",
   "execution_count": 19,
   "metadata": {
    "collapsed": false,
    "scrolled": true
   },
   "outputs": [
    {
     "name": "stdout",
     "output_type": "stream",
     "text": [
      "Axes(0.125,0.125;0.775x0.755)\n",
      "       sepal length (cm)  sepal width (cm)  petal length (cm)  \\\n",
      "count         150.000000        150.000000         150.000000   \n",
      "mean            5.843333          3.054000           3.758667   \n",
      "std             0.828066          0.433594           1.764420   \n",
      "min             4.300000          2.000000           1.000000   \n",
      "25%             5.100000          2.800000           1.600000   \n",
      "50%             5.800000          3.000000           4.350000   \n",
      "75%             6.400000          3.300000           5.100000   \n",
      "max             7.900000          4.400000           6.900000   \n",
      "\n",
      "       petal width (cm)      target  \n",
      "count        150.000000  150.000000  \n",
      "mean           1.198667    1.000000  \n",
      "std            0.763161    0.819232  \n",
      "min            0.100000    0.000000  \n",
      "25%            0.300000    0.000000  \n",
      "50%            1.300000    1.000000  \n",
      "75%            1.800000    2.000000  \n",
      "max            2.500000    2.000000  \n"
     ]
    },
    {
     "data": {
      "image/png": "[encoded data removed]",
      "text/plain": [
       "<matplotlib.figure.Figure at 0x7f5dc9d71390>"
      ]
     },
     "metadata": {},
     "output_type": "display_data"
    },
    {
     "data": {
      "image/png": "[encoded data removed]",
      "text/plain": [
       "<matplotlib.figure.Figure at 0x7f5dc9d71410>"
      ]
     },
     "metadata": {},
     "output_type": "display_data"
    }
   ],
   "source": [
    "iris = datasets.load_iris()\n",
    "irisdf = pd.DataFrame(iris.data, columns = iris.feature_names)\n",
    "irisdf[\"target\"] = iris.target\n",
    "cmap = {\"0\": \"r\", \"1\": \"g\", \"2\": \"b\"}\n",
    "irisdf[\"ctarget\"] = irisdf.target.apply(lambda x: cmap[str(x)])\n",
    "irisdf.plot(\"petal length (cm)\", \"petal width (cm)\", kind = \"scatter\", c = irisdf.ctarget)\n",
    "print(irisdf.plot(\"petal length (cm)\", \"petal width (cm)\", kind = \"scatter\", c = irisdf.ctarget))\n",
    "print(irisdf.describe())\n",
    "\n",
    "def my_classifier(row):\n",
    "    if row[\"petal length (cm)\"] < 2:\n",
    "        return 0\n",
    "    else:\n",
    "        return 1\n",
    "\n",
    "predictions = irisdf.apply(my_classifier, axis = 1)"
   ]
  },
  {
   "cell_type": "code",
   "execution_count": 20,
   "metadata": {
    "collapsed": false
   },
   "outputs": [
    {
     "data": {
      "text/html": [
       "<div>\n",
       "<table border=\"1\" class=\"dataframe\">\n",
       "  <thead>\n",
       "    <tr style=\"text-align: right;\">\n",
       "      <th></th>\n",
       "      <th>sepal length (cm)</th>\n",
       "      <th>sepal width (cm)</th>\n",
       "      <th>petal length (cm)</th>\n",
       "      <th>petal width (cm)</th>\n",
       "      <th>target</th>\n",
       "    </tr>\n",
       "  </thead>\n",
       "  <tbody>\n",
       "    <tr>\n",
       "      <th>count</th>\n",
       "      <td>150.000000</td>\n",
       "      <td>150.000000</td>\n",
       "      <td>150.000000</td>\n",
       "      <td>150.000000</td>\n",
       "      <td>150.000000</td>\n",
       "    </tr>\n",
       "    <tr>\n",
       "      <th>mean</th>\n",
       "      <td>5.843333</td>\n",
       "      <td>3.054000</td>\n",
       "      <td>3.758667</td>\n",
       "      <td>1.198667</td>\n",
       "      <td>1.000000</td>\n",
       "    </tr>\n",
       "    <tr>\n",
       "      <th>std</th>\n",
       "      <td>0.828066</td>\n",
       "      <td>0.433594</td>\n",
       "      <td>1.764420</td>\n",
       "      <td>0.763161</td>\n",
       "      <td>0.819232</td>\n",
       "    </tr>\n",
       "    <tr>\n",
       "      <th>min</th>\n",
       "      <td>4.300000</td>\n",
       "      <td>2.000000</td>\n",
       "      <td>1.000000</td>\n",
       "      <td>0.100000</td>\n",
       "      <td>0.000000</td>\n",
       "    </tr>\n",
       "    <tr>\n",
       "      <th>25%</th>\n",
       "      <td>5.100000</td>\n",
       "      <td>2.800000</td>\n",
       "      <td>1.600000</td>\n",
       "      <td>0.300000</td>\n",
       "      <td>0.000000</td>\n",
       "    </tr>\n",
       "    <tr>\n",
       "      <th>50%</th>\n",
       "      <td>5.800000</td>\n",
       "      <td>3.000000</td>\n",
       "      <td>4.350000</td>\n",
       "      <td>1.300000</td>\n",
       "      <td>1.000000</td>\n",
       "    </tr>\n",
       "    <tr>\n",
       "      <th>75%</th>\n",
       "      <td>6.400000</td>\n",
       "      <td>3.300000</td>\n",
       "      <td>5.100000</td>\n",
       "      <td>1.800000</td>\n",
       "      <td>2.000000</td>\n",
       "    </tr>\n",
       "    <tr>\n",
       "      <th>max</th>\n",
       "      <td>7.900000</td>\n",
       "      <td>4.400000</td>\n",
       "      <td>6.900000</td>\n",
       "      <td>2.500000</td>\n",
       "      <td>2.000000</td>\n",
       "    </tr>\n",
       "  </tbody>\n",
       "</table>\n",
       "</div>"
      ],
      "text/plain": [
       "       sepal length (cm)  sepal width (cm)  petal length (cm)  \\\n",
       "count         150.000000        150.000000         150.000000   \n",
       "mean            5.843333          3.054000           3.758667   \n",
       "std             0.828066          0.433594           1.764420   \n",
       "min             4.300000          2.000000           1.000000   \n",
       "25%             5.100000          2.800000           1.600000   \n",
       "50%             5.800000          3.000000           4.350000   \n",
       "75%             6.400000          3.300000           5.100000   \n",
       "max             7.900000          4.400000           6.900000   \n",
       "\n",
       "       petal width (cm)      target  \n",
       "count        150.000000  150.000000  \n",
       "mean           1.198667    1.000000  \n",
       "std            0.763161    0.819232  \n",
       "min            0.100000    0.000000  \n",
       "25%            0.300000    0.000000  \n",
       "50%            1.300000    1.000000  \n",
       "75%            1.800000    2.000000  \n",
       "max            2.500000    2.000000  "
      ]
     },
     "execution_count": 20,
     "metadata": {},
     "output_type": "execute_result"
    }
   ],
   "source": [
    "irisdf.describe()"
   ]
  },
  {
   "cell_type": "code",
   "execution_count": 5,
   "metadata": {
    "collapsed": false
   },
   "outputs": [
    {
     "name": "stdout",
     "output_type": "stream",
     "text": [
      "0.666666666667\n"
     ]
    }
   ],
   "source": [
    "irisdf[\"predictions\"] = predictions\n",
    "\n",
    "print(float(len(irisdf[irisdf.target == irisdf.predictions])) / len(irisdf))"
   ]
  },
  {
   "cell_type": "markdown",
   "metadata": {},
   "source": [
    "## Starter Code\n",
    "Work on improving the classifier below"
   ]
  },
  {
   "cell_type": "code",
   "execution_count": 35,
   "metadata": {
    "collapsed": false
   },
   "outputs": [
    {
     "name": "stdout",
     "output_type": "stream",
     "text": [
      "0.98\n"
     ]
    }
   ],
   "source": [
    "def my_classifier(row):\n",
    "    if row[\"petal width (cm)\"] < 0.7:\n",
    "        return 0\n",
    "    elif row[\"petal width (cm)\"] < 1.70 and row[\"petal length (cm)\"] < 5:\n",
    "        return 1 \n",
    "    else:\n",
    "        return 2\n",
    "\n",
    "predictions = irisdf.apply(my_classifier, axis = 1)\n",
    "\n",
    "irisdf[\"predictions\"] = predictions\n",
    "\n",
    "print(float(len(irisdf[irisdf.target == irisdf.predictions])) / len(irisdf))"
   ]
  },
  {
   "cell_type": "markdown",
   "metadata": {},
   "source": [
    "## Using distance: KNN implementation"
   ]
  },
  {
   "cell_type": "code",
   "execution_count": 39,
   "metadata": {
    "collapsed": false
   },
   "outputs": [
    {
     "name": "stdout",
     "output_type": "stream",
     "text": [
      "[0 0 0 0 0 0 0 0 0 0 0 0 0 0 0 0 0 0 0 0 0 0 0 0 0 0 0 0 0 0 0 0 0 0 0 0 0\n",
      " 0 0 0 0 0 0 0 0 0 0 0 0 0 1 1 1 1 1 1 1 1 1 1 1 1 1 1 1 1 1 1 1 1 2 1 1 1\n",
      " 1 1 1 2 1 1 1 1 1 2 1 1 1 1 1 1 1 1 1 1 1 1 1 1 1 1 2 2 2 2 2 2 1 2 2 2 2\n",
      " 2 2 2 2 2 2 2 2 1 2 2 2 2 2 2 2 2 2 2 2 2 2 1 2 2 2 2 2 2 2 2 2 2 2 2 2 2\n",
      " 2 2]\n",
      "[0 0 0 0 0 0 0 0 0 0 0 0 0 0 0 0 0 0 0 0 0 0 0 0 0 0 0 0 0 0 0 0 0 0 0 0 0\n",
      " 0 0 0 0 0 0 0 0 0 0 0 0 0 1 1 1 1 1 1 1 1 1 1 1 1 1 1 1 1 1 1 1 1 1 1 1 1\n",
      " 1 1 1 1 1 1 1 1 1 1 1 1 1 1 1 1 1 1 1 1 1 1 1 1 1 1 2 2 2 2 2 2 2 2 2 2 2\n",
      " 2 2 2 2 2 2 2 2 2 2 2 2 2 2 2 2 2 2 2 2 2 2 2 2 2 2 2 2 2 2 2 2 2 2 2 2 2\n",
      " 2 2]\n",
      "0.96\n"
     ]
    }
   ],
   "source": [
    "iris = datasets.load_iris()\n",
    "# n_neighbors is our option in KNN. We will tune this value to attempt to improve our prediction\n",
    "knn = neighbors.KNeighborsClassifier(n_neighbors = 5, weights = \"uniform\")\n",
    "knn.fit(iris.data[:, 2:], iris.target)\n",
    "print(knn.predict(iris.data[:, 2:]))\n",
    "print(iris.target)\n",
    "\n",
    "print(knn.score(iris.data[:,2:], iris.target))"
   ]
  },
  {
   "cell_type": "markdown",
   "metadata": {},
   "source": [
    "Do we see a change in performaance with using the distance weight?"
   ]
  },
  {
   "cell_type": "code",
   "execution_count": 40,
   "metadata": {
    "collapsed": false
   },
   "outputs": [
    {
     "name": "stdout",
     "output_type": "stream",
     "text": [
      "[0 0 0 0 0 0 0 0 0 0 0 0 0 0 0 0 0 0 0 0 0 0 0 0 0 0 0 0 0 0 0 0 0 0 0 0 0\n",
      " 0 0 0 0 0 0 0 0 0 0 0 0 0 1 1 1 1 1 1 1 1 1 1 1 1 1 1 1 1 1 1 1 1 2 1 1 1\n",
      " 1 1 1 1 1 1 1 1 1 1 1 1 1 1 1 1 1 1 1 1 1 1 1 1 1 1 2 2 2 2 2 2 2 2 2 2 2\n",
      " 2 2 2 2 2 2 2 2 2 2 2 2 2 2 2 2 2 2 2 2 2 2 2 2 2 2 2 2 2 2 2 2 2 2 2 2 2\n",
      " 2 2]\n",
      "[0 0 0 0 0 0 0 0 0 0 0 0 0 0 0 0 0 0 0 0 0 0 0 0 0 0 0 0 0 0 0 0 0 0 0 0 0\n",
      " 0 0 0 0 0 0 0 0 0 0 0 0 0 1 1 1 1 1 1 1 1 1 1 1 1 1 1 1 1 1 1 1 1 1 1 1 1\n",
      " 1 1 1 1 1 1 1 1 1 1 1 1 1 1 1 1 1 1 1 1 1 1 1 1 1 1 2 2 2 2 2 2 2 2 2 2 2\n",
      " 2 2 2 2 2 2 2 2 2 2 2 2 2 2 2 2 2 2 2 2 2 2 2 2 2 2 2 2 2 2 2 2 2 2 2 2 2\n",
      " 2 2]\n",
      "0.993333333333\n"
     ]
    }
   ],
   "source": [
    "knn = neighbors.KNeighborsClassifier(n_neighbors = 5, \n",
    "                                     weights = \"distance\") # add in the weights parameter here\n",
    "knn.fit(iris.data[:, 2:], iris.target)\n",
    "print(knn.predict(iris.data[:, 2:]))\n",
    "print(iris.target)\n",
    "\n",
    "print(knn.score(iris.data[:, 2:], iris.target))"
   ]
  },
  {
   "cell_type": "markdown",
   "metadata": {},
   "source": [
    "## Solution to solving K\n",
    "This is only one approach to the problem, but adding in the `distance` parameter (instead of uniform) would only be additive; note that the code would need some editing to handle it properly if done in the grid search; alternatively, make the change directly in the estimator."
   ]
  },
  {
   "cell_type": "code",
   "execution_count": 41,
   "metadata": {
    "collapsed": false
   },
   "outputs": [
    {
     "data": {
      "text/plain": [
       "[mean: 0.90667, std: 0.09752, params: {'n_neighbors': 2},\n",
       " mean: 0.90667, std: 0.09286, params: {'n_neighbors': 3},\n",
       " mean: 0.90667, std: 0.09286, params: {'n_neighbors': 4},\n",
       " mean: 0.91333, std: 0.08327, params: {'n_neighbors': 5},\n",
       " mean: 0.90667, std: 0.09286, params: {'n_neighbors': 6},\n",
       " mean: 0.92000, std: 0.08589, params: {'n_neighbors': 7},\n",
       " mean: 0.91333, std: 0.08844, params: {'n_neighbors': 8},\n",
       " mean: 0.92000, std: 0.09092, params: {'n_neighbors': 9},\n",
       " mean: 0.92000, std: 0.09092, params: {'n_neighbors': 10},\n",
       " mean: 0.91333, std: 0.08589, params: {'n_neighbors': 11},\n",
       " mean: 0.89333, std: 0.10625, params: {'n_neighbors': 12},\n",
       " mean: 0.90667, std: 0.08273, params: {'n_neighbors': 13},\n",
       " mean: 0.90000, std: 0.09428, params: {'n_neighbors': 14},\n",
       " mean: 0.90000, std: 0.09428, params: {'n_neighbors': 15},\n",
       " mean: 0.88667, std: 0.11851, params: {'n_neighbors': 16},\n",
       " mean: 0.88000, std: 0.12754, params: {'n_neighbors': 17},\n",
       " mean: 0.86667, std: 0.12111, params: {'n_neighbors': 18},\n",
       " mean: 0.88667, std: 0.11662, params: {'n_neighbors': 19},\n",
       " mean: 0.86667, std: 0.13499, params: {'n_neighbors': 20},\n",
       " mean: 0.86667, std: 0.13499, params: {'n_neighbors': 21},\n",
       " mean: 0.86667, std: 0.13499, params: {'n_neighbors': 22},\n",
       " mean: 0.86667, std: 0.13499, params: {'n_neighbors': 23},\n",
       " mean: 0.84667, std: 0.17075, params: {'n_neighbors': 24},\n",
       " mean: 0.86000, std: 0.14667, params: {'n_neighbors': 25},\n",
       " mean: 0.84667, std: 0.17075, params: {'n_neighbors': 26},\n",
       " mean: 0.84667, std: 0.15434, params: {'n_neighbors': 27},\n",
       " mean: 0.82000, std: 0.18809, params: {'n_neighbors': 28},\n",
       " mean: 0.80000, std: 0.19437, params: {'n_neighbors': 29},\n",
       " mean: 0.78667, std: 0.21250, params: {'n_neighbors': 30},\n",
       " mean: 0.77333, std: 0.21848, params: {'n_neighbors': 31},\n",
       " mean: 0.74000, std: 0.27520, params: {'n_neighbors': 32},\n",
       " mean: 0.75333, std: 0.26043, params: {'n_neighbors': 33},\n",
       " mean: 0.72000, std: 0.30155, params: {'n_neighbors': 34},\n",
       " mean: 0.69333, std: 0.31510, params: {'n_neighbors': 35},\n",
       " mean: 0.68000, std: 0.33506, params: {'n_neighbors': 36},\n",
       " mean: 0.68667, std: 0.30955, params: {'n_neighbors': 37},\n",
       " mean: 0.64000, std: 0.38320, params: {'n_neighbors': 38},\n",
       " mean: 0.64000, std: 0.38320, params: {'n_neighbors': 39},\n",
       " mean: 0.64000, std: 0.38320, params: {'n_neighbors': 40},\n",
       " mean: 0.38667, std: 0.42248, params: {'n_neighbors': 41},\n",
       " mean: 0.37333, std: 0.43123, params: {'n_neighbors': 42},\n",
       " mean: 0.37333, std: 0.43123, params: {'n_neighbors': 43},\n",
       " mean: 0.37333, std: 0.43123, params: {'n_neighbors': 44},\n",
       " mean: 0.37333, std: 0.43123, params: {'n_neighbors': 45},\n",
       " mean: 0.37333, std: 0.43123, params: {'n_neighbors': 46},\n",
       " mean: 0.37333, std: 0.43123, params: {'n_neighbors': 47},\n",
       " mean: 0.36000, std: 0.41655, params: {'n_neighbors': 48},\n",
       " mean: 0.36000, std: 0.41655, params: {'n_neighbors': 49},\n",
       " mean: 0.36000, std: 0.41655, params: {'n_neighbors': 50},\n",
       " mean: 0.36000, std: 0.42864, params: {'n_neighbors': 51},\n",
       " mean: 0.34667, std: 0.42667, params: {'n_neighbors': 52},\n",
       " mean: 0.34667, std: 0.42667, params: {'n_neighbors': 53},\n",
       " mean: 0.33333, std: 0.41312, params: {'n_neighbors': 54},\n",
       " mean: 0.34667, std: 0.42667, params: {'n_neighbors': 55},\n",
       " mean: 0.32000, std: 0.40089, params: {'n_neighbors': 56},\n",
       " mean: 0.32667, std: 0.40683, params: {'n_neighbors': 57},\n",
       " mean: 0.32000, std: 0.40089, params: {'n_neighbors': 58},\n",
       " mean: 0.32667, std: 0.40683, params: {'n_neighbors': 59},\n",
       " mean: 0.24667, std: 0.36246, params: {'n_neighbors': 60},\n",
       " mean: 0.20667, std: 0.28783, params: {'n_neighbors': 61},\n",
       " mean: 0.10667, std: 0.13233, params: {'n_neighbors': 62},\n",
       " mean: 0.10667, std: 0.13233, params: {'n_neighbors': 63},\n",
       " mean: 0.10667, std: 0.13233, params: {'n_neighbors': 64},\n",
       " mean: 0.10667, std: 0.13233, params: {'n_neighbors': 65},\n",
       " mean: 0.10667, std: 0.13233, params: {'n_neighbors': 66},\n",
       " mean: 0.10667, std: 0.13233, params: {'n_neighbors': 67},\n",
       " mean: 0.10667, std: 0.13233, params: {'n_neighbors': 68},\n",
       " mean: 0.10667, std: 0.13233, params: {'n_neighbors': 69},\n",
       " mean: 0.10667, std: 0.13233, params: {'n_neighbors': 70},\n",
       " mean: 0.10667, std: 0.13233, params: {'n_neighbors': 71},\n",
       " mean: 0.10667, std: 0.13233, params: {'n_neighbors': 72},\n",
       " mean: 0.10667, std: 0.13233, params: {'n_neighbors': 73},\n",
       " mean: 0.10667, std: 0.13233, params: {'n_neighbors': 74},\n",
       " mean: 0.08667, std: 0.11851, params: {'n_neighbors': 75},\n",
       " mean: 0.08667, std: 0.11851, params: {'n_neighbors': 76},\n",
       " mean: 0.08667, std: 0.11851, params: {'n_neighbors': 77},\n",
       " mean: 0.08667, std: 0.11851, params: {'n_neighbors': 78},\n",
       " mean: 0.08667, std: 0.11851, params: {'n_neighbors': 79},\n",
       " mean: 0.08667, std: 0.11851, params: {'n_neighbors': 80},\n",
       " mean: 0.07333, std: 0.10414, params: {'n_neighbors': 81},\n",
       " mean: 0.07333, std: 0.10414, params: {'n_neighbors': 82},\n",
       " mean: 0.07333, std: 0.10414, params: {'n_neighbors': 83},\n",
       " mean: 0.07333, std: 0.10414, params: {'n_neighbors': 84},\n",
       " mean: 0.06667, std: 0.10328, params: {'n_neighbors': 85},\n",
       " mean: 0.06667, std: 0.10328, params: {'n_neighbors': 86},\n",
       " mean: 0.06667, std: 0.10328, params: {'n_neighbors': 87},\n",
       " mean: 0.06667, std: 0.10328, params: {'n_neighbors': 88},\n",
       " mean: 0.06667, std: 0.10328, params: {'n_neighbors': 89},\n",
       " mean: 0.06667, std: 0.10328, params: {'n_neighbors': 90},\n",
       " mean: 0.06667, std: 0.10328, params: {'n_neighbors': 91},\n",
       " mean: 0.06667, std: 0.10328, params: {'n_neighbors': 92},\n",
       " mean: 0.06667, std: 0.10328, params: {'n_neighbors': 93},\n",
       " mean: 0.06667, std: 0.10328, params: {'n_neighbors': 94},\n",
       " mean: 0.06667, std: 0.10328, params: {'n_neighbors': 95},\n",
       " mean: 0.06667, std: 0.10328, params: {'n_neighbors': 96},\n",
       " mean: 0.06667, std: 0.10328, params: {'n_neighbors': 97},\n",
       " mean: 0.06667, std: 0.10328, params: {'n_neighbors': 98},\n",
       " mean: 0.06667, std: 0.10328, params: {'n_neighbors': 99}]"
      ]
     },
     "execution_count": 41,
     "metadata": {},
     "output_type": "execute_result"
    }
   ],
   "source": [
    "from sklearn import grid_search, cross_validation\n",
    "\n",
    "# some n_list! keep in mind cross validation\n",
    "# recall: what is an effective way to create a numerical list in python?\n",
    "k = range(2, 100)\n",
    "params = {\"n_neighbors\": k }\n",
    "kf = cross_validation.KFold(len(irisdf), n_folds = 5)\n",
    "gs = grid_search.GridSearchCV(\n",
    "    estimator  = neighbors.KNeighborsClassifier(),\n",
    "    param_grid = params,\n",
    "    cv         = kf)\n",
    "gs.fit(iris.data, iris.target)\n",
    "gs.grid_scores_"
   ]
  },
  {
   "cell_type": "code",
   "execution_count": null,
   "metadata": {
    "collapsed": false
   },
   "outputs": [],
   "source": [
    "# <Code Here> # plot\n"
   ]
  },
  {
   "cell_type": "markdown",
   "metadata": {},
   "source": [
    "Zoom in to look at fit before first dive around 25:"
   ]
  },
  {
   "cell_type": "code",
   "execution_count": null,
   "metadata": {
    "collapsed": false
   },
   "outputs": [],
   "source": [
    "# <Code Here> # plot"
   ]
  }
 ],
 "metadata": {
  "anaconda-cloud": {},
  "kernelspec": {
   "display_name": "Python [conda root]",
   "language": "python",
   "name": "conda-root-py"
  },
  "language_info": {
   "codemirror_mode": {
    "name": "ipython",
    "version": 2
   },
   "file_extension": ".py",
   "mimetype": "text/x-python",
   "name": "python",
   "nbconvert_exporter": "python",
   "pygments_lexer": "ipython2",
   "version": "2.7.13"
  }
 },
 "nbformat": 4,
 "nbformat_minor": 0
}
