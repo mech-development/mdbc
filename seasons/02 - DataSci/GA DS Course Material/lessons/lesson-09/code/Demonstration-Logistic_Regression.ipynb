{
 "cells": [
  {
   "cell_type": "markdown",
   "metadata": {},
   "source": [
    "# Logistic Regression\n",
    "## Question:\n",
    "**Can the `y` be determined by `x`?**\n",
    "- Can `profit` be determine by `sales`? (had `profit` is either Yes or No)\n",
    "- Can `credit` be determined by `score`? (got `credit` is either Yes or No)"
   ]
  },
  {
   "cell_type": "markdown",
   "metadata": {},
   "source": [
    "## Process\n",
    "### Importing Libraries"
   ]
  },
  {
   "cell_type": "code",
   "execution_count": 1,
   "metadata": {
    "collapsed": false
   },
   "outputs": [],
   "source": [
    "import numpy as np\n",
    "import pandas as pd\n",
    "from math import log, exp, floor, ceil\n",
    "from sklearn import linear_model\n",
    "\n",
    "%matplotlib inline\n",
    "import matplotlib.pyplot as plt\n",
    "import matplotlib as mpl\n",
    "#mpl.rcParams[\"text.usetex\"] = True"
   ]
  },
  {
   "cell_type": "markdown",
   "metadata": {},
   "source": [
    "### Acquiring Data"
   ]
  },
  {
   "cell_type": "code",
   "execution_count": 2,
   "metadata": {
    "collapsed": false
   },
   "outputs": [],
   "source": [
    "# size of the sample\n",
    "na = 30\n",
    "n = 500 + na\n",
    "# set the random seed generator\n",
    "np.random.seed(100)\n",
    "\n",
    "# create `n` samples between 0 and 1200\n",
    "x = [10 * ceil(120 * np.random.random()) for i in range(n)]\n",
    "# create `n` binary outcomes\n",
    "y = [\"no\" if value < 0 else \"yes\" for value in np.random.logistic(size = n)]\n",
    "# correct `x` to have a better logistic regression like\n",
    "for i in range(n):\n",
    "    # if `y` is \"no\"\n",
    "    if y[i] == \"no\":\n",
    "        # if `x` is high, half it\n",
    "        x[i] = x[i] / 2 if x[i] > 600 else x[i]\n",
    "    # if `y` is \"yes\"\n",
    "    else:\n",
    "        # if `x` is low, push it higher\n",
    "        x[i] = x[i] + 500 if x[i] < 600 else x[i]\n",
    "\n",
    "# introduce some NA\n",
    "for _ in range(na + 1):\n",
    "    x[np.random.randint(n)] = None\n",
    "# create a dataframe\n",
    "df = pd.DataFrame({\"score\": x, \"approved\": y})"
   ]
  },
  {
   "cell_type": "markdown",
   "metadata": {},
   "source": [
    "### Checking Data, Exploratory Data Analysis (EDA)"
   ]
  },
  {
   "cell_type": "code",
   "execution_count": null,
   "metadata": {
    "collapsed": false
   },
   "outputs": [],
   "source": [
    "df.shape"
   ]
  },
  {
   "cell_type": "code",
   "execution_count": null,
   "metadata": {
    "collapsed": false
   },
   "outputs": [],
   "source": [
    "df.dtypes"
   ]
  },
  {
   "cell_type": "code",
   "execution_count": null,
   "metadata": {
    "collapsed": false
   },
   "outputs": [],
   "source": [
    "df.head(10)"
   ]
  },
  {
   "cell_type": "code",
   "execution_count": null,
   "metadata": {
    "collapsed": false
   },
   "outputs": [],
   "source": [
    "df.describe()"
   ]
  },
  {
   "cell_type": "markdown",
   "metadata": {},
   "source": [
    "### Deal with Missing Values"
   ]
  },
  {
   "cell_type": "code",
   "execution_count": 3,
   "metadata": {
    "collapsed": false
   },
   "outputs": [
    {
     "name": "stdout",
     "output_type": "stream",
     "text": [
      "BEFORE: Had 30 nulls in 530 cases.\n",
      "AFTER : Has 0 nulls in 500 cases.\n"
     ]
    }
   ],
   "source": [
    "has_null = df.isnull().sum().sum()\n",
    "print(\"BEFORE: Had %d nulls in %d cases.\" % (has_null, df.shape[0]))\n",
    "if has_null > 0:\n",
    "    df = df.loc[df[\"score\"].notnull(), ]\n",
    "has_null = df.isnull().sum().sum()\n",
    "print(\"AFTER : Has %d nulls in %d cases.\" % (has_null, df.shape[0]))"
   ]
  },
  {
   "cell_type": "markdown",
   "metadata": {},
   "source": [
    "#### Add Numeric Class Label"
   ]
  },
  {
   "cell_type": "code",
   "execution_count": 4,
   "metadata": {
    "collapsed": false
   },
   "outputs": [
    {
     "data": {
      "text/plain": [
       "(500, 3)"
      ]
     },
     "execution_count": 4,
     "metadata": {},
     "output_type": "execute_result"
    }
   ],
   "source": [
    "df[\"score\"] = df[\"score\"].astype(\"int64\")\n",
    "df[\"approved\"] = df[\"approved\"].astype(\"category\")\n",
    "df[\"grant\"] = (df[\"approved\"] == \"yes\").astype(int)\n",
    "df.shape"
   ]
  },
  {
   "cell_type": "code",
   "execution_count": null,
   "metadata": {
    "collapsed": false
   },
   "outputs": [],
   "source": [
    "df.head()"
   ]
  },
  {
   "cell_type": "code",
   "execution_count": null,
   "metadata": {
    "collapsed": false
   },
   "outputs": [],
   "source": [
    "df.describe()"
   ]
  },
  {
   "cell_type": "markdown",
   "metadata": {},
   "source": [
    "### Univariate Analysis"
   ]
  },
  {
   "cell_type": "markdown",
   "metadata": {},
   "source": [
    "#### Variable: `score`"
   ]
  },
  {
   "cell_type": "code",
   "execution_count": 5,
   "metadata": {
    "collapsed": false
   },
   "outputs": [
    {
     "data": {
      "image/png": "[encoded data removed]",
      "text/plain": [
       "<matplotlib.figure.Figure at 0x7fbd84ef4850>"
      ]
     },
     "metadata": {},
     "output_type": "display_data"
    }
   ],
   "source": [
    "df[\"score\"].plot(kind = \"hist\", bins = 20)\n",
    "plt.show()"
   ]
  },
  {
   "cell_type": "markdown",
   "metadata": {},
   "source": [
    "#### Variable: `grant`"
   ]
  },
  {
   "cell_type": "code",
   "execution_count": 6,
   "metadata": {
    "collapsed": false
   },
   "outputs": [
    {
     "data": {
      "text/plain": [
       "count    500.000000\n",
       "mean       0.504000\n",
       "std        0.500485\n",
       "min        0.000000\n",
       "25%        0.000000\n",
       "50%        1.000000\n",
       "75%        1.000000\n",
       "max        1.000000\n",
       "Name: grant, dtype: float64"
      ]
     },
     "execution_count": 6,
     "metadata": {},
     "output_type": "execute_result"
    }
   ],
   "source": [
    "df[\"grant\"].describe()"
   ]
  },
  {
   "cell_type": "code",
   "execution_count": 7,
   "metadata": {
    "collapsed": false
   },
   "outputs": [
    {
     "data": {
      "image/png": "[encoded data removed]",
      "text/plain": [
       "<matplotlib.figure.Figure at 0x7fbd82b4e5d0>"
      ]
     },
     "metadata": {},
     "output_type": "display_data"
    }
   ],
   "source": [
    "df[\"grant\"].value_counts().plot(kind = 'bar')\n",
    "plt.show()"
   ]
  },
  {
   "cell_type": "markdown",
   "metadata": {},
   "source": [
    "**Note: Distribution is NOT Normal**"
   ]
  },
  {
   "cell_type": "markdown",
   "metadata": {},
   "source": [
    "### Bivariate Analysis"
   ]
  },
  {
   "cell_type": "markdown",
   "metadata": {},
   "source": [
    "#### Variables: `score` and `grant`"
   ]
  },
  {
   "cell_type": "markdown",
   "metadata": {},
   "source": [
    "### Response by Predict Analysis"
   ]
  },
  {
   "cell_type": "code",
   "execution_count": 8,
   "metadata": {
    "collapsed": false
   },
   "outputs": [],
   "source": [
    "X = df[[\"score\"]]\n",
    "y = df[\"grant\"]"
   ]
  },
  {
   "cell_type": "code",
   "execution_count": 9,
   "metadata": {
    "collapsed": false
   },
   "outputs": [
    {
     "data": {
      "image/png": "[encoded data removed]",
      "text/plain": [
       "<matplotlib.figure.Figure at 0x7fbd82a47d90>"
      ]
     },
     "metadata": {},
     "output_type": "display_data"
    }
   ],
   "source": [
    "ax = plt.axes()\n",
    "plt.scatter(X, y)\n",
    "plt.xlabel(\"score\")\n",
    "ax.set_xticks([0, 200, 400, 600, 800, 1000, 1200])\n",
    "plt.ylabel(\"grant\")\n",
    "ax.set_yticks([0, 1])\n",
    "plt.show()"
   ]
  },
  {
   "cell_type": "markdown",
   "metadata": {},
   "source": [
    "### Modelling"
   ]
  },
  {
   "cell_type": "markdown",
   "metadata": {},
   "source": [
    "#### Trying Linear Regression"
   ]
  },
  {
   "cell_type": "code",
   "execution_count": 10,
   "metadata": {
    "collapsed": false
   },
   "outputs": [
    {
     "data": {
      "text/plain": [
       "(-0.32469785248393979, array([ 0.00135794]))"
      ]
     },
     "execution_count": 10,
     "metadata": {},
     "output_type": "execute_result"
    }
   ],
   "source": [
    "df_model = linear_model.LinearRegression()\n",
    "df_fit = df_model.fit(X, y)\n",
    "df_fit.intercept_, df_fit.coef_"
   ]
  },
  {
   "cell_type": "code",
   "execution_count": 11,
   "metadata": {
    "collapsed": false
   },
   "outputs": [
    {
     "data": {
      "image/png": "[encoded data removed]",
      "text/plain": [
       "<matplotlib.figure.Figure at 0x7fbd82436510>"
      ]
     },
     "metadata": {},
     "output_type": "display_data"
    }
   ],
   "source": [
    "ax = plt.axes()\n",
    "reg_x = range(int(floor(df[\"score\"].min())), int(ceil(df[\"score\"].max())) + 1)\n",
    "reg_y = [df_fit.intercept_ + df_fit.coef_ * v for v in reg_x]\n",
    "plt.scatter(X, y)\n",
    "plt.plot(reg_x, reg_y, color = \"red\", linewidth = 2)\n",
    "plt.text(100, 1.2, \"$grant = %.3f + %.3f \\\\cdot score$\" % (df_fit.intercept_, df_fit.coef_[0]), fontsize = 15)\n",
    "plt.xlabel(\"score\")\n",
    "ax.set_xticks([0, 200, 400, 600, 800, 1000, 1200])\n",
    "plt.ylabel(\"grant\")\n",
    "ax.set_yticks([0, 1])\n",
    "plt.show()"
   ]
  },
  {
   "cell_type": "code",
   "execution_count": 12,
   "metadata": {
    "collapsed": false
   },
   "outputs": [
    {
     "data": {
      "text/plain": [
       "0.47648808951705068"
      ]
     },
     "execution_count": 12,
     "metadata": {},
     "output_type": "execute_result"
    }
   ],
   "source": [
    "value = 590\n",
    "df_fit.intercept_ + df_fit.coef_[0] * value"
   ]
  },
  {
   "cell_type": "code",
   "execution_count": 13,
   "metadata": {
    "collapsed": false
   },
   "outputs": [
    {
     "data": {
      "text/plain": [
       "array([-0.18890363,  1.019665  ])"
      ]
     },
     "execution_count": 13,
     "metadata": {},
     "output_type": "execute_result"
    }
   ],
   "source": [
    "value = [100, 990]\n",
    "df_fit.intercept_ + df_fit.coef_ * value"
   ]
  },
  {
   "cell_type": "markdown",
   "metadata": {},
   "source": [
    "### Log Odds or Logit Function\n",
    "\n",
    "$$f(x) = logit(p) = log(odds) = log \\left ( {p\\over 1-p} \\right ) \\\\ 0 \\le p \\le 1$$"
   ]
  },
  {
   "cell_type": "code",
   "execution_count": 14,
   "metadata": {
    "collapsed": false
   },
   "outputs": [
    {
     "data": {
      "image/png": "[encoded data removed]",
      "text/plain": [
       "<matplotlib.figure.Figure at 0x7fbd81f75690>"
      ]
     },
     "metadata": {},
     "output_type": "display_data"
    }
   ],
   "source": [
    "x = [i / 100.0 for i in range(1, 100)]\n",
    "y = [log(p / (1 - p)) for p in x]\n",
    "ax = plt.axes()\n",
    "plt.plot(x, y)\n",
    "plt.hlines(0, 0, 1, color = \"black\", linestyles = \"solid\")\n",
    "plt.vlines(0.5, -6, 6, color = \"black\", linestyles = \"solid\")\n",
    "ax.set_xticks([0.0, 0.25, 0.5, 0.75, 1.0])\n",
    "plt.show()"
   ]
  },
  {
   "cell_type": "markdown",
   "metadata": {},
   "source": [
    "### Sigmoid Function\n",
    "**Inverse of the Logit function**\n",
    "$$f(x) = sigmoid(x) = logit^{-1}(x) = {1 \\over 1 + e^{-x}} = {e^x \\over 1 + e^x} \\\\ -\\infty \\le x \\le \\infty$$"
   ]
  },
  {
   "cell_type": "code",
   "execution_count": 15,
   "metadata": {
    "collapsed": false
   },
   "outputs": [
    {
     "data": {
      "image/png": "[encoded data removed]",
      "text/plain": [
       "<matplotlib.figure.Figure at 0x7fbd81d16150>"
      ]
     },
     "metadata": {},
     "output_type": "display_data"
    }
   ],
   "source": [
    "x = [i / 10.0 for i in range(-50, 50)]\n",
    "y = [exp(p) / (1 + exp(p)) for p in x]\n",
    "ax = plt.axes()\n",
    "plt.plot(x, y)\n",
    "plt.hlines(0.5, -6, 6, color = \"black\", linestyles = \"solid\")\n",
    "plt.vlines(0, 0, 1, color = \"black\", linestyles = \"solid\")\n",
    "ax.set_yticks([0, 0.5, 1])\n",
    "plt.show()"
   ]
  },
  {
   "cell_type": "code",
   "execution_count": 16,
   "metadata": {
    "collapsed": true
   },
   "outputs": [],
   "source": [
    "X = df[[\"score\"]]\n",
    "y = df[\"grant\"]"
   ]
  },
  {
   "cell_type": "code",
   "execution_count": 17,
   "metadata": {
    "collapsed": false
   },
   "outputs": [
    {
     "name": "stdout",
     "output_type": "stream",
     "text": [
      "Coeficients for LINEAR Regression\n",
      "(-0.32469785248393979, array([ 0.00135794]))\n",
      "Coeficients for LOGISTIC Regression\n",
      "(array([-7.19642336]), array([[ 0.01250173]]))\n"
     ]
    }
   ],
   "source": [
    "print(\"Coeficients for LINEAR Regression\")\n",
    "print(df_fit.intercept_, df_fit.coef_)\n",
    "df_model = linear_model.LogisticRegression()\n",
    "df_fit = df_model.fit(X, y)\n",
    "print(\"Coeficients for LOGISTIC Regression\")\n",
    "print(df_fit.intercept_, df_fit.coef_)"
   ]
  },
  {
   "cell_type": "code",
   "execution_count": 18,
   "metadata": {
    "collapsed": false
   },
   "outputs": [
    {
     "data": {
      "image/png": "[encoded data removed]",
      "text/plain": [
       "<matplotlib.figure.Figure at 0x7fbd81c697d0>"
      ]
     },
     "metadata": {},
     "output_type": "display_data"
    }
   ],
   "source": [
    "ax = plt.axes()\n",
    "reg_x = range(int(floor(df[\"score\"].min())), int(ceil(df[\"score\"].max())) + 1)\n",
    "reg_y = [exp(df_fit.intercept_ + df_fit.coef_ * v) / (1 + exp(df_fit.intercept_ + df_fit.coef_ * v)) for v in reg_x]\n",
    "plt.scatter(X, y)\n",
    "plt.plot(reg_x, reg_y, color = \"red\", linewidth = 2)\n",
    "plt.text(-30, 0.9, \"$grant = %.3f + %.3f \\\\cdot score$\" % (df_fit.intercept_, df_fit.coef_[0]), fontsize = 15)\n",
    "plt.xlabel(\"score\")\n",
    "ax.set_xticks([0, 200, 400, 600, 800, 1000, 1200])\n",
    "plt.ylabel(\"grant\")\n",
    "ax.set_yticks([0, 1])\n",
    "plt.show()"
   ]
  },
  {
   "cell_type": "code",
   "execution_count": 19,
   "metadata": {
    "collapsed": false
   },
   "outputs": [
    {
     "data": {
      "text/plain": [
       "array([ 0.54477907])"
      ]
     },
     "execution_count": 19,
     "metadata": {},
     "output_type": "execute_result"
    }
   ],
   "source": [
    "value = 590\n",
    "np.exp(df_fit.intercept_ + df_fit.coef_[0] * value) / (1 + np.exp(df_fit.intercept_ + df_fit.coef_[0] * value))"
   ]
  },
  {
   "cell_type": "code",
   "execution_count": 20,
   "metadata": {
    "collapsed": false
   },
   "outputs": [
    {
     "data": {
      "text/plain": [
       "array([ 0.00260881,  0.9944051 ])"
      ]
     },
     "execution_count": 20,
     "metadata": {},
     "output_type": "execute_result"
    }
   ],
   "source": [
    "value = [100, 990]\n",
    "np.exp(df_fit.intercept_ + df_fit.coef_[0] * value) / (1 + np.exp(df_fit.intercept_ + df_fit.coef_[0] * value))"
   ]
  },
  {
   "cell_type": "markdown",
   "metadata": {},
   "source": [
    "$$p(y)={e^{\\alpha + \\beta_1 x_1}\\over 1 +e^{\\alpha + \\beta_1 x_1}}$$"
   ]
  },
  {
   "cell_type": "code",
   "execution_count": 21,
   "metadata": {
    "collapsed": false
   },
   "outputs": [
    {
     "data": {
      "image/png": "[encoded data removed]",
      "text/plain": [
       "<matplotlib.figure.Figure at 0x7fbd81bfc950>"
      ]
     },
     "metadata": {},
     "output_type": "display_data"
    }
   ],
   "source": [
    "def prob(x):\n",
    "    return exp(x) / (1 + exp(x))\n",
    "\n",
    "x = [i / 10.0 for i in range(-50, 50)]\n",
    "y = [prob(value) for value in x]\n",
    "ax = plt.axes()\n",
    "plt.plot(x, y)\n",
    "ax.set_yticks([0, 0.5, 1])\n",
    "plt.show()"
   ]
  },
  {
   "cell_type": "markdown",
   "metadata": {},
   "source": [
    "$$odds(p(y))={p(y)\\over 1-p(y)} ={{e^{\\alpha + \\beta_1 x_1}\\over 1 +e^{\\alpha + \\beta_1 x_1}} \\over 1 - \\left ({e^{\\alpha + \\beta_1 x_1}\\over 1 +e^{\\alpha + \\beta_1 x_1}}\\right)}$$"
   ]
  },
  {
   "cell_type": "code",
   "execution_count": 22,
   "metadata": {
    "collapsed": false
   },
   "outputs": [
    {
     "data": {
      "image/png": "[encoded data removed]",
      "text/plain": [
       "<matplotlib.figure.Figure at 0x7fbd81b30e50>"
      ]
     },
     "metadata": {},
     "output_type": "display_data"
    }
   ],
   "source": [
    "def odds(x):\n",
    "    return prob(x) / (1 - prob(x))\n",
    "\n",
    "x = [i / 10.0 for i in range(-50, 50)]\n",
    "y = [odds(value) for value in x]\n",
    "plt.plot(x, y)\n",
    "plt.show()"
   ]
  },
  {
   "cell_type": "markdown",
   "metadata": {},
   "source": [
    "$$log(odds(p(y)))=\\alpha + \\beta_1 x_1$$"
   ]
  },
  {
   "cell_type": "code",
   "execution_count": 23,
   "metadata": {
    "collapsed": false
   },
   "outputs": [
    {
     "data": {
      "image/png": "[encoded data removed]",
      "text/plain": [
       "<matplotlib.figure.Figure at 0x7fbd81c06e90>"
      ]
     },
     "metadata": {},
     "output_type": "display_data"
    }
   ],
   "source": [
    "def logit(x):\n",
    "    return log(odds(x))\n",
    "\n",
    "x = [i / 10.0 for i in range(-50, 50)]\n",
    "y = [logit(value) for value in x]\n",
    "plt.plot(x, y)\n",
    "plt.show()"
   ]
  },
  {
   "cell_type": "code",
   "execution_count": null,
   "metadata": {
    "collapsed": true
   },
   "outputs": [],
   "source": []
  }
 ],
 "metadata": {
  "anaconda-cloud": {},
  "kernelspec": {
   "display_name": "Python [conda root]",
   "language": "python",
   "name": "conda-root-py"
  },
  "language_info": {
   "codemirror_mode": {
    "name": "ipython",
    "version": 2
   },
   "file_extension": ".py",
   "mimetype": "text/x-python",
   "name": "python",
   "nbconvert_exporter": "python",
   "pygments_lexer": "ipython2",
   "version": "2.7.12"
  }
 },
 "nbformat": 4,
 "nbformat_minor": 1
}
