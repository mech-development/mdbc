{
 "cells": [
  {
   "cell_type": "markdown",
   "metadata": {},
   "source": [
    "# Famous Data sets\n",
    "There are a number of data sets that any data scientist will be familiar with. We are going to use several today to practice data visualization.\n",
    "\n",
    "- [Iris Data set](http://archive.ics.uci.edu/ml/datasets/Iris) This data set was collected by the famous statistician R. Fisher in the 1930s. First read about the data set and its features.\n",
    "- [Abalone Data set](http://archive.ics.uci.edu/ml/datasets/Abalone?pagewanted=all) Various measurements of a type of snail\n",
    "- [Boston Housing](https://archive.ics.uci.edu/ml/datasets/Housing) Housing prices alone with various supplemental data, such as local crime rates\n",
    "- [Motor Trend Cars](https://archive.ics.uci.edu/ml/datasets/Auto+MPG)\n",
    "- [Salary Data](https://archive.ics.uci.edu/ml/datasets/Adult)\n",
    "\n",
    "Seaborn also includes some [additional data sets](https://github.com/mwaskom/seaborn-data)"
   ]
  },
  {
   "cell_type": "code",
   "execution_count": null,
   "metadata": {
    "collapsed": false
   },
   "outputs": [],
   "source": [
    "import os\n",
    "\n",
    "import numpy as np\n",
    "import pandas as pd\n",
    "from scipy import stats\n",
    "\n",
    "%matplotlib inline\n",
    "import matplotlib.pyplot as plt\n",
    "import seaborn as sns"
   ]
  },
  {
   "cell_type": "code",
   "execution_count": null,
   "metadata": {
    "collapsed": true
   },
   "outputs": [],
   "source": [
    "# Make plots larger\n",
    "plt.rcParams['figure.figsize'] = (10, 6)"
   ]
  },
  {
   "cell_type": "markdown",
   "metadata": {},
   "source": [
    "### First let's try a some function plotting."
   ]
  },
  {
   "cell_type": "code",
   "execution_count": null,
   "metadata": {
    "collapsed": false
   },
   "outputs": [],
   "source": [
    "# Plot two normal distributions\n",
    "domain = np.arange(-20, 20, 0.1)\n",
    "values = stats.norm(3, 5).pdf(domain)\n",
    "plt.plot(domain, values, color = 'r', linewidth = 2)\n",
    "plt.fill_between(domain, 0, values, color = 'r', alpha = 0.3)\n",
    "values = stats.norm(4, 2).pdf(domain)\n",
    "plt.plot(domain, values, color = 'b', linewidth = 2)\n",
    "plt.ylabel(\"Probability\")\n",
    "plt.title(\"Two Normal Distributions\")\n",
    "plt.show()"
   ]
  },
  {
   "cell_type": "markdown",
   "metadata": {},
   "source": [
    "Read the lines in the previous example closely and make sure you understand what each line is doing. It is ok if you don't understand all the arguments, you will pick those up as we go. Remember that you can also use `Shift-Tab` inside a function to see all the argument options.\n",
    "\n",
    "If you want your plots to pop out so you can resize them, use\n",
    "\n",
    "    %matplotlib\n",
    "\n",
    "to undo the effect of\n",
    "\n",
    "    %matplotlib inline"
   ]
  },
  {
   "cell_type": "code",
   "execution_count": null,
   "metadata": {
    "collapsed": false
   },
   "outputs": [],
   "source": [
    "%matplotlib\n",
    "# Plot two normal distributions\n",
    "domain = np.arange(-20, 20, 0.1)\n",
    "values = stats.norm(3, 5).pdf(domain)\n",
    "plt.plot(domain, values, color = 'r', linewidth = 2)\n",
    "plt.fill_between(domain, 0, values, color = 'r', alpha = 0.3)\n",
    "values = stats.norm(4, 2).pdf(domain)\n",
    "plt.plot(domain, values, color = 'b', linewidth = 2)\n",
    "plt.ylabel(\"Probability\")\n",
    "plt.title(\"Two Normal Distributions\")\n",
    "plt.show()"
   ]
  },
  {
   "cell_type": "code",
   "execution_count": null,
   "metadata": {
    "collapsed": false
   },
   "outputs": [],
   "source": [
    "# Load the Iris Data set\n",
    "df = pd.read_csv(os.path.join(\"../../..\", \"data\", \"iris.data\"), sep = ',')\n",
    "df.head()"
   ]
  },
  {
   "cell_type": "markdown",
   "metadata": {},
   "source": [
    "- Which columns are categorical, which are continuous?\n",
    "- Let's use seaborn's [pairplot](https://stanford.edu/~mwaskom/software/seaborn/generated/seaborn.pairplot.html) to get a quick look at the data"
   ]
  },
  {
   "cell_type": "code",
   "execution_count": null,
   "metadata": {
    "collapsed": false
   },
   "outputs": [],
   "source": [
    "# This special jupyter command causes plots to render in the notebook\n",
    "%matplotlib inline\n",
    "sns.pairplot(df)\n",
    "plt.show()"
   ]
  },
  {
   "cell_type": "code",
   "execution_count": null,
   "metadata": {
    "collapsed": false
   },
   "outputs": [],
   "source": [
    "# Seaborn can also color the data by category:\n",
    "sns.pairplot(df, hue = \"species\")\n",
    "plt.show()"
   ]
  },
  {
   "cell_type": "markdown",
   "metadata": {},
   "source": [
    "# Matplotlib\n",
    "Seaborn makes nice plots but offers less control over the results versus matplotlib (on which seaborn is based). Let's look at the following example."
   ]
  },
  {
   "cell_type": "code",
   "execution_count": null,
   "metadata": {
    "collapsed": false
   },
   "outputs": [],
   "source": [
    "# Make a scatter plot\n",
    "plt.scatter(df[\"petal_length\"], df[\"sepal_length\"])\n",
    "plt.xlabel(\"Petal Length\")\n",
    "plt.ylabel(\"Sepal Length\")\n",
    "plt.ylim(3, 9)\n",
    "plt.title(\"Iris Data Set\")\n",
    "plt.show()"
   ]
  },
  {
   "cell_type": "markdown",
   "metadata": {},
   "source": [
    "Note that our axes are more nicely labeled when we manually set the names.\n",
    "\n",
    "Matplotlib has a ton of customizability: you can change point shapes and sizes, colors, axes ranges, font sizes and just about anything else.\n",
    "\n",
    "We can also invoke `matplotlib` via `pandas` directly from the data frame."
   ]
  },
  {
   "cell_type": "code",
   "execution_count": null,
   "metadata": {
    "collapsed": false
   },
   "outputs": [],
   "source": [
    "df.plot.scatter(\"petal_length\", \"sepal_length\")\n",
    "plt.show()"
   ]
  },
  {
   "cell_type": "markdown",
   "metadata": {},
   "source": [
    "## Exercise 1\n",
    "We can make histograms in several ways. Make a histogram of \"Sepal Width\" from the Iris data set:\n",
    "- Using matplotlib's `plt.hist`\n",
    "- Using pandas `df.plot.hist`\n",
    "- Using seaborn's [distplot](https://stanford.edu/~mwaskom/software/seaborn/tutorial/distributions.html)\n",
    "\n",
    "Seaborn automatically includes a curve fit, which is sometimes not wanted. Look up the keyword argument to turn off the curve fit. Also checkout [this example](https://en.wikipedia.org/wiki/File:Fisher_iris_versicolor_sepalwidth.svg) from Wikipedia."
   ]
  },
  {
   "cell_type": "code",
   "execution_count": null,
   "metadata": {
    "collapsed": true
   },
   "outputs": [],
   "source": [
    "# <Code Here>"
   ]
  },
  {
   "cell_type": "markdown",
   "metadata": {},
   "source": [
    "# Categorical Data\n",
    "Seaborn has some nice functions to plot [categorical data](https://stanford.edu/~mwaskom/software/seaborn/tutorial/categorical.html)"
   ]
  },
  {
   "cell_type": "code",
   "execution_count": null,
   "metadata": {
    "collapsed": false
   },
   "outputs": [],
   "source": [
    "sns.boxplot(x = \"species\", y = \"sepal_length\", data = df)\n",
    "plt.show()"
   ]
  },
  {
   "cell_type": "markdown",
   "metadata": {},
   "source": [
    "## Exercise 2\n",
    "Read the Seaborn page on categorical data above and make the following plots:\n",
    "- `sepal_width` by category with a `boxplot` and a `swarmplot`\n",
    "- `petal_length` by category with a `violinplot` and a `swarmplot`"
   ]
  },
  {
   "cell_type": "code",
   "execution_count": null,
   "metadata": {
    "collapsed": true
   },
   "outputs": [],
   "source": [
    "# <Code Here>"
   ]
  },
  {
   "cell_type": "markdown",
   "metadata": {},
   "source": [
    "# Time Series plots\n",
    "Matplotlib and Seaborn can make some nice plots associated to time series data. For example, we can make plots of running. The following data contains the monthly price of the ETF VTI (a stock market index fund) over time."
   ]
  },
  {
   "cell_type": "code",
   "execution_count": null,
   "metadata": {
    "collapsed": false
   },
   "outputs": [],
   "source": [
    "df = pd.read_csv(os.path.join(\"../../..\", \"data\", \"vti.csv\"))\n",
    "df.sort_values(by = \"Date\", inplace = True)\n",
    "df[\"Date\"] = pd.to_datetime(df[\"Date\"], format = '%Y-%m-%d')\n",
    "df.head()"
   ]
  },
  {
   "cell_type": "code",
   "execution_count": null,
   "metadata": {
    "collapsed": false
   },
   "outputs": [],
   "source": [
    "plt.plot(df[\"Date\"], df[\"Open\"], label = \"Open\")\n",
    "plt.plot(df[\"Date\"], df[\"Close\"], label = \"Close\")\n",
    "plt.xlabel(\"Date\")\n",
    "plt.ylabel(\"Price\")\n",
    "plt.title(\"VTI Monthly Prices\")\n",
    "plt.legend()\n",
    "plt.show()"
   ]
  },
  {
   "cell_type": "code",
   "execution_count": null,
   "metadata": {
    "collapsed": false
   },
   "outputs": [],
   "source": [
    "plt.plot(df[\"Date\"], df[\"Open\"] - df[\"Close\"], label = \"Close-Open\")\n",
    "plt.plot(df[\"Date\"], df[\"High\"] - df[\"Low\"], label = \"High-Low\")\n",
    "plt.xlabel(\"Date\")\n",
    "plt.ylabel(\"Price\")\n",
    "plt.title(\"VTI Monthly Prices\")\n",
    "plt.show()"
   ]
  },
  {
   "cell_type": "markdown",
   "metadata": {},
   "source": [
    "## Exercise\n",
    "Make a plot that is composed of two plots, vertically stacked of:\n",
    "- The closing price\n",
    "- The volume\n",
    "You can do this with matplotlib's [gridspec](http://matplotlib.org/users/gridspec.html)"
   ]
  },
  {
   "cell_type": "code",
   "execution_count": null,
   "metadata": {
    "collapsed": false
   },
   "outputs": [],
   "source": [
    "# Fill in the details\n",
    "import matplotlib.gridspec as gridspec\n",
    "gs = gridspec.GridSpec(2, 1) # rows and columns\n",
    "ax1 = plt.subplot(gs[0, 0])\n",
    "ax2 = plt.subplot(gs[1, 0])\n",
    "ax1.plot()\n",
    "ax2.plot()\n",
    "plt.show()"
   ]
  },
  {
   "cell_type": "markdown",
   "metadata": {},
   "source": [
    "You can also use multiple y-axes as follows:"
   ]
  },
  {
   "cell_type": "code",
   "execution_count": null,
   "metadata": {
    "collapsed": false
   },
   "outputs": [],
   "source": [
    "# Fill in the details, see http://matplotlib.org/examples/api/two_scales.html\n",
    "fig, ax1 = plt.subplots()\n",
    "ax1.plot()\n",
    "ax1.set_ylabel(\"Closing Price\")\n",
    "\n",
    "ax2 = ax1.twinx()\n",
    "ax2.plot()\n",
    "ax2.set_ylabel('Volume')\n",
    "ax2.set_xlabel('Date')\n",
    "\n",
    "plt.show()"
   ]
  },
  {
   "cell_type": "markdown",
   "metadata": {},
   "source": [
    "We can also easily make smoothed curves by computing means over moving windows."
   ]
  },
  {
   "cell_type": "code",
   "execution_count": null,
   "metadata": {
    "collapsed": false
   },
   "outputs": [],
   "source": [
    "%matplotlib inline\n",
    "rolling_mean = df[\"Open\"].rolling(window = 10).mean()\n",
    "plt.plot(range(len(rolling_mean)), rolling_mean)\n",
    "plt.title(\"Smoothed VTI Price Data\")\n",
    "plt.show()"
   ]
  },
  {
   "cell_type": "markdown",
   "metadata": {},
   "source": [
    "Compare to the [visualisations here](http://finviz.com/quote.ashx?t=VTI). You can always put more work into a visualisation's aesthetics, so focus on accuracy and proper labelling at first."
   ]
  },
  {
   "cell_type": "markdown",
   "metadata": {},
   "source": [
    "## Error bars and filled plots\n",
    "Often we want to indicate that our data is noisy or contains measurement error. Let's construct a data set."
   ]
  },
  {
   "cell_type": "code",
   "execution_count": null,
   "metadata": {
    "collapsed": false
   },
   "outputs": [],
   "source": [
    "# Check: do you understand this code?\n",
    "import numpy as np\n",
    "from scipy import stats\n",
    "import random\n",
    "\n",
    "data = []\n",
    "for i in range(50):\n",
    "    m = random.randint(5 + i, 15 + i)\n",
    "    s = random.randint(4, 8)\n",
    "    dist = stats.norm(m, s)\n",
    "    draws = dist.rvs(30)\n",
    "    data.append([np.mean(draws), np.std(draws)])\n",
    "df = pd.DataFrame(data, columns = [\"Mean\", \"Std\"])\n",
    "df.head()"
   ]
  },
  {
   "cell_type": "code",
   "execution_count": null,
   "metadata": {
    "collapsed": false
   },
   "outputs": [],
   "source": [
    "# Now we can plot with error bars\n",
    "plt.errorbar(range(len(df)), df[\"Mean\"], yerr = df[\"Std\"])\n",
    "plt.title(\"Error Bar Example\")\n",
    "plt.show()"
   ]
  },
  {
   "cell_type": "code",
   "execution_count": null,
   "metadata": {
    "collapsed": false
   },
   "outputs": [],
   "source": [
    "# Confidence interval: 68%\n",
    "plt.errorbar(range(len(df)), df[\"Mean\"])\n",
    "lower = df[\"Mean\"] - df[\"Std\"]\n",
    "upper = df[\"Mean\"] + df[\"Std\"]\n",
    "plt.fill_between(range(len(df)), lower, upper, alpha = 0.5)\n",
    "plt.title(\"CI Example\")\n",
    "plt.show()"
   ]
  },
  {
   "cell_type": "markdown",
   "metadata": {},
   "source": [
    "## Exercise\n",
    "- Modify the previous example to a 95% confidence interval (two standard deviations)\n",
    "- Try to make a similar plot with the Mauna Loa atmospheric carbon data set `co2_mm_mlo.txt`"
   ]
  },
  {
   "cell_type": "code",
   "execution_count": null,
   "metadata": {
    "collapsed": false
   },
   "outputs": [],
   "source": [
    "import pandas as pd\n",
    "\n",
    "columns = [\"year\", \"month\", \"decimal_date\", \"average\", \"interpolated\", \"trend\", \"days\"]\n",
    "df = pd.read_csv(\"../../../data/co2_mm_mlo.txt\", comment = \"#\",\n",
    "                 delim_whitespace = True, names = columns)\n",
    "df.head()"
   ]
  },
  {
   "cell_type": "markdown",
   "metadata": {},
   "source": [
    "## Exercises\n",
    "For each of the remaining data sets:\n",
    "- [Abalone Data set](http://archive.ics.uci.edu/ml/datasets/Abalone?pagewanted=all) Various measurements of a type of snail\n",
    "- [Boston Housing](https://archive.ics.uci.edu/ml/datasets/Housing) Housing prices alone with various supplemental data, such as local crime rates\n",
    "- [Motor Trend Cars](https://archive.ics.uci.edu/ml/datasets/Auto+MPG)\n",
    "- [Salary Data](https://archive.ics.uci.edu/ml/datasets/Adult)\n",
    "\n",
    "**NOTE: The datasets are also available on the `~/data` directory**.\n",
    "\n",
    "Work through the following exercises:\n",
    "- Make a `pairplot` on a subset of four categories (if possible). Use the `vars = [\"column1\", \"columnb\", ...]` to prevent seaborn from making too many plots\n",
    "- Pick two continuous variables and make a `scatter` plot with `matplotlib`, a `density` plot with `seaborn` and a `joint` plot with `seaborn`\n",
    "- If there are any categorical variables, make `boxplots` and `violin` plots for each of the categorical variables\n",
    "- Make at least one plot that has dual-axes or two stacked plots\n",
    "\n",
    "Feel free to try to make any other plots that might seem interesting! If so please share with the class."
   ]
  },
  {
   "cell_type": "code",
   "execution_count": null,
   "metadata": {
    "collapsed": true
   },
   "outputs": [],
   "source": [
    "# <Code Here>"
   ]
  },
  {
   "cell_type": "code",
   "execution_count": null,
   "metadata": {
    "collapsed": true
   },
   "outputs": [],
   "source": [
    "# <Code Here>"
   ]
  },
  {
   "cell_type": "markdown",
   "metadata": {},
   "source": [
    "# Exercises\n",
    "Pick one of the [data sets available here](https://github.com/mwaskom/seaborn-data), such as the exoplanets data set `planets.csv` or the diet and exercise data set `exercise.csv` (or another). Practice the plots you learned above and try to make an awesome plot.\n",
    "\n",
    "If you need some ideas on different types of plots, checkout:\n",
    "- The [seaborn gallery](https://stanford.edu/~mwaskom/software/seaborn/examples/index.html)\n",
    "- The [matplotlib gallery](http://matplotlib.org/gallery.html)"
   ]
  },
  {
   "cell_type": "code",
   "execution_count": null,
   "metadata": {
    "collapsed": true
   },
   "outputs": [],
   "source": [
    "# <Code Here>"
   ]
  },
  {
   "cell_type": "markdown",
   "metadata": {},
   "source": [
    "## Bokeh\n",
    "Bokeh is another visualization library. There are many [example notebooks](http://nbviewer.jupyter.org/github/bokeh/bokeh-notebooks/blob/master/index.ipynb) -- pick one and work through it."
   ]
  },
  {
   "cell_type": "code",
   "execution_count": null,
   "metadata": {
    "collapsed": true
   },
   "outputs": [],
   "source": [
    "# <Code Here>"
   ]
  }
 ],
 "metadata": {
  "anaconda-cloud": {},
  "kernelspec": {
   "display_name": "Python [conda root]",
   "language": "python",
   "name": "conda-root-py"
  },
  "language_info": {
   "codemirror_mode": {
    "name": "ipython",
    "version": 2
   },
   "file_extension": ".py",
   "mimetype": "text/x-python",
   "name": "python",
   "nbconvert_exporter": "python",
   "pygments_lexer": "ipython2",
   "version": "2.7.13"
  }
 },
 "nbformat": 4,
 "nbformat_minor": 0
}
