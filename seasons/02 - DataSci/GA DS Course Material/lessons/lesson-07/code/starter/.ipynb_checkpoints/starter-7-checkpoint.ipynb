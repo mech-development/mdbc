{
 "cells": [
  {
   "cell_type": "markdown",
   "metadata": {},
   "source": [
    "# Lesson 7 - Starter Code"
   ]
  },
  {
   "cell_type": "code",
   "execution_count": 1,
   "metadata": {
    "collapsed": false
   },
   "outputs": [],
   "source": [
    "import numpy as np\n",
    "import pandas as pd\n",
    "from sklearn import linear_model, metrics\n",
    "\n",
    "%matplotlib inline\n",
    "import matplotlib.pyplot as plt"
   ]
  },
  {
   "cell_type": "markdown",
   "metadata": {},
   "source": [
    "## Create sample data and fit a model"
   ]
  },
  {
   "cell_type": "code",
   "execution_count": 2,
   "metadata": {
    "collapsed": false
   },
   "outputs": [],
   "source": [
    "np.random.seed(seed = 100)\n",
    "df = pd.DataFrame({\"x\": range(100), \"y\": range(100)})\n",
    "biased_df  = df.copy()\n",
    "biased_df.loc[:20, \"x\"] = 1\n",
    "biased_df.loc[:20, \"y\"] = 1\n",
    "\n",
    "def append_jitter(series):\n",
    "    jitter = np.random.random_sample(size=100)\n",
    "    return series + jitter\n",
    "\n",
    "df[\"x\"] = append_jitter(df.x)\n",
    "df[\"y\"] = append_jitter(df.y)\n",
    "\n",
    "biased_df[\"x\"] = append_jitter(biased_df.x)\n",
    "biased_df[\"y\"] = append_jitter(biased_df.y)"
   ]
  },
  {
   "cell_type": "code",
   "execution_count": null,
   "metadata": {
    "collapsed": false
   },
   "outputs": [],
   "source": [
    "# fit\n",
    "lm = linear_model.LinearRegression().fit(df[[\"x\"]], df[\"y\"])\n",
    "print(metrics.mean_squared_error(df[\"y\"], lm.predict(df[[\"x\"]])))"
   ]
  },
  {
   "cell_type": "code",
   "execution_count": null,
   "metadata": {
    "collapsed": false
   },
   "outputs": [],
   "source": [
    "# biased fit\n",
    "lm = linear_model.LinearRegression().fit(biased_df[[\"x\"]], biased_df[\"y\"])\n",
    "print(metrics.mean_squared_error(df[\"y\"], lm.predict(df[[\"x\"]])))"
   ]
  },
  {
   "cell_type": "markdown",
   "metadata": {},
   "source": [
    "## Cross validation\n",
    "### Introduction to cross validation with bike share data from last time. We will be modeling casual ridership."
   ]
  },
  {
   "cell_type": "code",
   "execution_count": null,
   "metadata": {
    "collapsed": false
   },
   "outputs": [],
   "source": [
    "from sklearn import cross_validation\n",
    "\n",
    "np.random.seed(seed = 100)\n",
    "wd = \"../../../../data/\"\n",
    "bikeshare = pd.read_csv(wd + \"bikeshare.csv\")"
   ]
  },
  {
   "cell_type": "markdown",
   "metadata": {},
   "source": [
    "### Create dummy variables and set outcome (dependent) variable"
   ]
  },
  {
   "cell_type": "code",
   "execution_count": null,
   "metadata": {
    "collapsed": true
   },
   "outputs": [],
   "source": [
    "weather = pd.get_dummies(bikeshare.weathersit, prefix = \"weather\")\n",
    "modeldata = bikeshare[[\"temp\", \"hum\"]].join(weather[[\"weather_1\", \"weather_2\", \"weather_3\"]])\n",
    "y = bikeshare.casual "
   ]
  },
  {
   "cell_type": "markdown",
   "metadata": {},
   "source": [
    "### Create a cross valiation with 5 folds"
   ]
  },
  {
   "cell_type": "code",
   "execution_count": null,
   "metadata": {
    "collapsed": true
   },
   "outputs": [],
   "source": [
    "kf = cross_validation.KFold(len(modeldata), n_folds = 5, shuffle = True)"
   ]
  },
  {
   "cell_type": "code",
   "execution_count": null,
   "metadata": {
    "collapsed": false
   },
   "outputs": [],
   "source": [
    "mse_values = []\n",
    "scores = []\n",
    "n = 0\n",
    "print(\"~~~~ CROSS VALIDATION each fold ~~~~\")\n",
    "for train_index, test_index in kf:\n",
    "    lm = linear_model.LinearRegression().fit(modeldata.iloc[train_index], y.iloc[train_index])\n",
    "    mse_values.append(metrics.mean_squared_error(y.iloc[test_index], lm.predict(modeldata.iloc[test_index])))\n",
    "    scores.append(lm.score(modeldata, y))\n",
    "    n+=1\n",
    "    print(\"Model: %d\" % n)\n",
    "    print(\"MSE: %f\" % mse_values[n - 1])\n",
    "    print(\"R2 : %f\" % scores[n - 1])\n",
    "\n",
    "print(\"~~~~ SUMMARY OF CROSS VALIDATION ~~~~\")\n",
    "print(\"Mean of MSE for all folds: %f\" % np.mean(mse_values))\n",
    "print(\"Mean of R2 for all folds : %f\" % np.mean(scores))"
   ]
  },
  {
   "cell_type": "code",
   "execution_count": null,
   "metadata": {
    "collapsed": false
   },
   "outputs": [],
   "source": [
    "lm = linear_model.LinearRegression().fit(modeldata, y)\n",
    "print(\"~~~~ Single Model ~~~~\")\n",
    "print(\"MSE: %f\" % metrics.mean_squared_error(y, lm.predict(modeldata)))\n",
    "print(\"R2 : %f\" % lm.score(modeldata, y))"
   ]
  },
  {
   "cell_type": "markdown",
   "metadata": {},
   "source": [
    "### Check\n",
    "While the cross validated approach here generated more overall error, which of the two approaches would predict new data more accurately: the single model or the cross validated, averaged one? Why?"
   ]
  },
  {
   "cell_type": "markdown",
   "metadata": {},
   "source": [
    "Answer: ?"
   ]
  },
  {
   "cell_type": "markdown",
   "metadata": {},
   "source": [
    "### Advanced: There are ways to improve our model with regularization.\n",
    "Let's check out the effects on $MSE$ and $R^2$"
   ]
  },
  {
   "cell_type": "code",
   "execution_count": null,
   "metadata": {
    "collapsed": false
   },
   "outputs": [],
   "source": [
    "lm = linear_model.LinearRegression().fit(modeldata, y)\n",
    "print(\"~~~ OLS ~~~\")\n",
    "print(\"OLS MSE: %f\" % metrics.mean_squared_error(y, lm.predict(modeldata)))\n",
    "print(\"OLS R2 : %f\" % lm.score(modeldata, y))\n",
    "\n",
    "lm = linear_model.Lasso().fit(modeldata, y)\n",
    "print(\"~~~ Lasso ~~~\")\n",
    "print(\"Lasso MSE: %f\" % metrics.mean_squared_error(y, lm.predict(modeldata)))\n",
    "print(\"Lasso R2 : %f\" % lm.score(modeldata, y))\n",
    "\n",
    "lm = linear_model.Ridge().fit(modeldata, y)\n",
    "print(\"~~~ Ridge ~~~\")\n",
    "print(\"Ridge MSE: %f\" % metrics.mean_squared_error(y, lm.predict(modeldata)))\n",
    "print(\"Ridge R2 : %f\" % lm.score(modeldata, y))"
   ]
  },
  {
   "cell_type": "markdown",
   "metadata": {},
   "source": [
    "### Figuring out the alphas can be done by \"hand\""
   ]
  },
  {
   "cell_type": "code",
   "execution_count": null,
   "metadata": {
    "collapsed": false
   },
   "outputs": [],
   "source": [
    "alphas = np.logspace(-10, 10, 21)\n",
    "for a in alphas:\n",
    "    print(\"Alpha: %f\" % a)\n",
    "    lm = linear_model.Ridge(alpha = a)\n",
    "    lm.fit(modeldata, y)\n",
    "    print(lm.coef_)\n",
    "    print(metrics.mean_squared_error(y, lm.predict(modeldata)))"
   ]
  },
  {
   "cell_type": "markdown",
   "metadata": {},
   "source": [
    "### Or we can use grid search to make this faster"
   ]
  },
  {
   "cell_type": "code",
   "execution_count": null,
   "metadata": {
    "collapsed": false
   },
   "outputs": [],
   "source": [
    "from sklearn import grid_search\n",
    "\n",
    "alphas = np.logspace(-10, 10, 21)\n",
    "gs = grid_search.GridSearchCV(\n",
    "    estimator  = linear_model.Ridge(),\n",
    "    param_grid = {\"alpha\": alphas},\n",
    "    scoring    = \"mean_squared_error\")\n",
    "\n",
    "gs.fit(modeldata, y)"
   ]
  },
  {
   "cell_type": "markdown",
   "metadata": {},
   "source": [
    "### Best score"
   ]
  },
  {
   "cell_type": "code",
   "execution_count": null,
   "metadata": {
    "collapsed": false
   },
   "outputs": [],
   "source": [
    "print(gs.best_score_)"
   ]
  },
  {
   "cell_type": "markdown",
   "metadata": {},
   "source": [
    "#### mean squared error here comes in negative, so let's make it positive"
   ]
  },
  {
   "cell_type": "code",
   "execution_count": null,
   "metadata": {
    "collapsed": false
   },
   "outputs": [],
   "source": [
    "print(-gs.best_score_)"
   ]
  },
  {
   "cell_type": "markdown",
   "metadata": {},
   "source": [
    "#### explains which grid_search setup worked best"
   ]
  },
  {
   "cell_type": "code",
   "execution_count": null,
   "metadata": {
    "collapsed": false
   },
   "outputs": [],
   "source": [
    "print(gs.best_estimator_)"
   ]
  },
  {
   "cell_type": "markdown",
   "metadata": {},
   "source": [
    "#### shows all the grid pairings and their performances"
   ]
  },
  {
   "cell_type": "code",
   "execution_count": null,
   "metadata": {
    "collapsed": false
   },
   "outputs": [],
   "source": [
    "print(gs.grid_scores_)"
   ]
  },
  {
   "cell_type": "markdown",
   "metadata": {},
   "source": [
    "## Gradient Descent"
   ]
  },
  {
   "cell_type": "code",
   "execution_count": null,
   "metadata": {
    "collapsed": false
   },
   "outputs": [],
   "source": [
    "num_to_approach, start, steps, optimized = 6.2, 0.0, [-1, 1], False\n",
    "while not optimized:\n",
    "    current_distance = num_to_approach - start\n",
    "    got_better = False\n",
    "    next_steps = [start + i for i in steps]\n",
    "    for n in next_steps:\n",
    "        distance = np.abs(num_to_approach - n)\n",
    "        if distance < current_distance:\n",
    "            got_better = True\n",
    "            print distance, \"is better than\", current_distance\n",
    "            current_distance = distance\n",
    "            start = n\n",
    "    if got_better:\n",
    "        print \"found better solution! using\", current_distance\n",
    "        a += 1\n",
    "    else:\n",
    "        optimized = True\n",
    "        print start, \"is closest to\", num_to_approach"
   ]
  },
  {
   "cell_type": "markdown",
   "metadata": {
    "collapsed": false
   },
   "source": [
    "### Bonus:\n",
    "Implement a stopping point, similar to what `n_iter` would do in gradient descent when we've reached \"good enough\"."
   ]
  },
  {
   "cell_type": "code",
   "execution_count": null,
   "metadata": {
    "collapsed": false
   },
   "outputs": [],
   "source": [
    "# <Code Here>"
   ]
  },
  {
   "cell_type": "markdown",
   "metadata": {},
   "source": [
    "## Demonstration: Application of Gradient Descent "
   ]
  },
  {
   "cell_type": "code",
   "execution_count": null,
   "metadata": {
    "collapsed": false
   },
   "outputs": [],
   "source": [
    "lm = linear_model.SGDRegressor()\n",
    "lm.fit(modeldata, y)\n",
    "print(\"Gradient Descent R2 : %f\" % lm.score(modeldata, y))\n",
    "print(\"Gradient Descent MSE: %f\" % metrics.mean_squared_error(y, lm.predict(modeldata)))"
   ]
  },
  {
   "cell_type": "markdown",
   "metadata": {},
   "source": [
    "### Check: Untuned, how well did gradient descent perform compared to OLS?"
   ]
  },
  {
   "cell_type": "markdown",
   "metadata": {},
   "source": [
    "    Previous Result (from above):\n",
    "    ~~~~ SUMMARY OF CROSS VALIDATION ~~~~\n",
    "    Mean of MSE for all folds: 1673.089987\n",
    "    Mean of R2 for all folds : 0.311911"
   ]
  },
  {
   "cell_type": "markdown",
   "metadata": {},
   "source": [
    "Answer: ?"
   ]
  },
  {
   "cell_type": "markdown",
   "metadata": {},
   "source": [
    "# Independent Practice: Bike data revisited\n",
    "\n",
    "There are tons of ways to approach a regression problem. The regularization techniques appended to ordinary least squares optimizes the size of coefficients to best account for error. Gradient Descent also introduces learning rate (how aggressively do we solve the problem), epsilon (at what point do we say the error margin is acceptable), and iterations (when should we stop no matter what?)\n",
    "\n",
    "For this deliverable, our goals are to:\n",
    "- implement the gradient descent approach to our bike-share modeling problem\n",
    "- show how gradient descent solves and optimizes the solution\n",
    "- demonstrate the grid_search module\n",
    "\n",
    "While exploring the Gradient Descent regressor object, you will build a grid search using the stochastic gradient descent estimator for the bike-share data set. Continue with either the model you evaluated last class or the simpler one from today. In particular, be sure to implement the \"param_grid\" in the grid search to get answers for the following questions:\n",
    "- With a set of alpha values between $10^{-10}$ and $10^{-1}$, how does the mean squared error change?\n",
    "- Based on the data, we know when to properly use L1 vs L2 regularization. By using a grid search with L1_ratios between 0 and 1 (increasing every 0.05), does that statement hold true? If not, did gradient descent have enough iterations?\n",
    "- How do these results change when you alter the learning rate (eta0)?\n",
    "\n",
    "**Bonus**: Can you see the advantages and disadvantages of using gradient descent after finishing this exercise?"
   ]
  },
  {
   "cell_type": "markdown",
   "metadata": {},
   "source": [
    "### Starter Code"
   ]
  },
  {
   "cell_type": "code",
   "execution_count": null,
   "metadata": {
    "collapsed": false
   },
   "outputs": [],
   "source": [
    "params = {} # put your gradient descent parameters here\n",
    "gs = grid_search.GridSearchCV(\n",
    "    estimator  = linear_model.SGDRegressor(),\n",
    "    cv         = cross_validation.KFold(len(modeldata), n_folds = 5, shuffle = True),\n",
    "    param_grid = params,\n",
    "    scoring    = \"mean_squared_error\")\n",
    "\n",
    "gs.fit(modeldata, y)\n",
    "\n",
    "print(\"BEST ESTIMATOR\")\n",
    "print(-gs.best_score_)\n",
    "print(gs.best_estimator_)\n",
    "print(\"ALL ESTIMATORS\")\n",
    "print(gs.grid_scores_)"
   ]
  },
  {
   "cell_type": "markdown",
   "metadata": {},
   "source": [
    "### Independent Practice Solution\n",
    "This code shows the variety of challenges and some student gotchas. The plots will help showcase what should be learned."
   ]
  },
  {
   "cell_type": "markdown",
   "metadata": {},
   "source": [
    "1. With a set of alpha values between $10^{-10}$ and $10^{-1}$, how does the mean squared error change?\n",
    "2. We know when to properly use L1 vs L2 regularization based on the data. By using a grid search with L1_ratios between 0 and 1 (increasing every 0.05), does that statement hold true?\n",
    "    - (if it did not look like it, did gradient descent have enough iterations?)\n",
    "3. How do results change when you alter the learning rate (power_t)?"
   ]
  },
  {
   "cell_type": "code",
   "execution_count": null,
   "metadata": {
    "collapsed": false
   },
   "outputs": [],
   "source": [
    "# <Code Here>"
   ]
  },
  {
   "cell_type": "markdown",
   "metadata": {},
   "source": [
    "With the alphas available, it looks like at mean squared error stays generally flat with incredibly small alpha values, but starting at $10^{-3}$, the error begins to elbow. We probably do not have much of a different in performance with other alpha values."
   ]
  },
  {
   "cell_type": "code",
   "execution_count": null,
   "metadata": {
    "collapsed": false
   },
   "outputs": [],
   "source": [
    "# <Code Here>"
   ]
  },
  {
   "cell_type": "markdown",
   "metadata": {},
   "source": [
    "At alpha values of either 0.1 or 1, the L1_ratio works best closer to 1! Interesting.\n",
    "\n",
    "At other values of alpha they should see similar results, though the graphs are not as clear."
   ]
  },
  {
   "cell_type": "code",
   "execution_count": null,
   "metadata": {
    "collapsed": false
   },
   "outputs": [],
   "source": [
    "# <Code Here>"
   ]
  },
  {
   "cell_type": "code",
   "execution_count": null,
   "metadata": {
    "collapsed": false
   },
   "outputs": [],
   "source": [
    "# <Code Here>"
   ]
  },
  {
   "cell_type": "code",
   "execution_count": null,
   "metadata": {
    "collapsed": false
   },
   "outputs": [],
   "source": [
    "# <Code Here>"
   ]
  },
  {
   "cell_type": "code",
   "execution_count": null,
   "metadata": {
    "collapsed": false
   },
   "outputs": [],
   "source": [
    "# <Code Here>"
   ]
  },
  {
   "cell_type": "markdown",
   "metadata": {},
   "source": [
    "Here it should be apparent that as the initial learning rate increases, the error should **also** increase. And what happens when the initial learning rate is too high? A dramatic increase in error. Students should recognize the importance of learning rate and what values it should be set at, the smaller generally the better."
   ]
  },
  {
   "cell_type": "code",
   "execution_count": null,
   "metadata": {
    "collapsed": false
   },
   "outputs": [],
   "source": [
    "# <Code Here>"
   ]
  }
 ],
 "metadata": {
  "anaconda-cloud": {},
  "kernelspec": {
   "display_name": "Python [conda root]",
   "language": "python",
   "name": "conda-root-py"
  },
  "language_info": {
   "codemirror_mode": {
    "name": "ipython",
    "version": 2
   },
   "file_extension": ".py",
   "mimetype": "text/x-python",
   "name": "python",
   "nbconvert_exporter": "python",
   "pygments_lexer": "ipython2",
   "version": "2.7.13"
  }
 },
 "nbformat": 4,
 "nbformat_minor": 0
}
