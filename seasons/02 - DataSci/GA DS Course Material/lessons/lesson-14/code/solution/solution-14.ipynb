{
 "cells": [
  {
   "cell_type": "markdown",
   "metadata": {},
   "source": [
    "# Lesson 14 - Solutions"
   ]
  },
  {
   "cell_type": "code",
   "execution_count": 1,
   "metadata": {
    "collapsed": false
   },
   "outputs": [],
   "source": [
    "# Unicode Handling\n",
    "from __future__ import unicode_literals\n",
    "import codecs\n",
    "\n",
    "import numpy as np\n",
    "import gensim\n",
    "\n",
    "# spacy is used for pre-processing and traditional NLP\n",
    "import spacy\n",
    "from spacy.en import English\n",
    "\n",
    "# Gensim is used for LDA and word2vec\n",
    "from gensim.models.word2vec import Word2Vec"
   ]
  },
  {
   "cell_type": "code",
   "execution_count": 2,
   "metadata": {
    "collapsed": true
   },
   "outputs": [],
   "source": [
    "# Loading the tweet data\n",
    "filename = \"../../../../data/captured-tweets.txt\"\n",
    "tweets = []\n",
    "for tweet in codecs.open(filename, \"r\", encoding = \"utf-8\"):\n",
    "    tweets.append(tweet)\n",
    "# Setting up spacy\n",
    "nlp_toolkit = English()"
   ]
  },
  {
   "cell_type": "markdown",
   "metadata": {},
   "source": [
    "## Exercise 1a\n",
    "Write a function that can take a sentence parsed by `spacy` and identify if it mentions a company named \"Google\". Remember, `spacy` can find entities and codes them as `ORG` if they are a company. Look at the slides for class 13 if you need a hint:\n",
    "\n",
    "### Bonus (1b)\n",
    "Parameterise the company name so that the function works for any company."
   ]
  },
  {
   "cell_type": "code",
   "execution_count": 3,
   "metadata": {
    "collapsed": false
   },
   "outputs": [],
   "source": [
    "# 1a\n",
    "def mentions_company(parsed):\n",
    "    # Return True if the sentence contains an organization and that organization is Google\n",
    "    for entity in parsed.ents:\n",
    "        if entity.text == \"Google\" and entity.label_ == \"ORG\":\n",
    "            return True\n",
    "    # Otherwise return False\n",
    "    return False\n",
    "\n",
    "# 1b\n",
    "def mentions_company(parsed, company = \"Google\"):\n",
    "    for entity in parsed.ents:\n",
    "        if entity.text == company and entity.label_ == \"ORG\":\n",
    "            return True\n",
    "    return False"
   ]
  },
  {
   "cell_type": "markdown",
   "metadata": {},
   "source": [
    "## Exercise 1c\n",
    "Write a function that can take a sentence parsed by `spacy` and return the verbs of the sentence (preferably lemmatised)"
   ]
  },
  {
   "cell_type": "code",
   "execution_count": 4,
   "metadata": {
    "collapsed": false
   },
   "outputs": [],
   "source": [
    "def get_actions(parsed):\n",
    "    actions = []\n",
    "    for el in parsed:\n",
    "        if el.pos == spacy.parts_of_speech.VERB:\n",
    "            actions.append(el.text)\n",
    "    return actions"
   ]
  },
  {
   "cell_type": "markdown",
   "metadata": {},
   "source": [
    "## Exercise 1d\n",
    "For each tweet, parse it using spacy and print it out if the tweet has \"release\" or \"announce\" as a verb. You will need to use your `mentions_company` and `get_actions` functions."
   ]
  },
  {
   "cell_type": "code",
   "execution_count": 5,
   "metadata": {
    "collapsed": false
   },
   "outputs": [
    {
     "name": "stdout",
     "output_type": "stream",
     "text": [
      "Google &amp; Ford rumored to announce partnership at CES https://t.co/zOgm1NjHhD https://t.co/Gzx81ujqVC\n",
      "\n",
      "Google and Ford to announce partnership on self-driving cars at CES - Fudzilla (blog) https://t.co/6woe56G22Q\n",
      "\n",
      "Google and Ford to announce partnership on self-driving cars at CES - Fudzilla (blog) https://t.co/4hERVJ4zZK\n",
      "\n"
     ]
    }
   ],
   "source": [
    "for tweet in tweets:\n",
    "    parsed = nlp_toolkit(tweet)\n",
    "    if mentions_company(parsed, \"Google\"):\n",
    "        actions = get_actions(parsed)\n",
    "        if \"release\" in actions or \"announce\" in actions:\n",
    "            print(tweet)"
   ]
  },
  {
   "cell_type": "markdown",
   "metadata": {
    "collapsed": true
   },
   "source": [
    "## Exercise 1e\n",
    "Write a function that identifies countries - HINT: the entity label for countries is GPE (or GeoPolitical Entity)"
   ]
  },
  {
   "cell_type": "code",
   "execution_count": 6,
   "metadata": {
    "collapsed": true
   },
   "outputs": [],
   "source": [
    "def mentions_country(parsed, country):\n",
    "    for entity in parsed.ents:\n",
    "        if entity.text == country and entity.label_ == \"GPE\":\n",
    "            return True\n",
    "    return False"
   ]
  },
  {
   "cell_type": "markdown",
   "metadata": {},
   "source": [
    "## Exercise 1f\n",
    "Re-run (d) to find country tweets that discuss \"Iran\" announcing or releasing."
   ]
  },
  {
   "cell_type": "code",
   "execution_count": 7,
   "metadata": {
    "collapsed": false
   },
   "outputs": [
    {
     "name": "stdout",
     "output_type": "stream",
     "text": [
      "RT @cerenomri: \"Literally every US ally in Mideast is on brink of hot war w/ Iran, so we're going to release $100 billion to Iran this mont…\n",
      "\n",
      "GOBE! Iran warns Nigeria to release Shiite leader El-Zakzaky - SEE https://t.co/TRshnC6sVU\n",
      "\n",
      "GOBE! Iran warns Nigeria to release Shiite leader El-Zakzaky - SEE https://t.co/SlvcQtk3vE\n",
      "\n",
      "RT @cerenomri: \"Literally every US ally in Mideast is on brink of hot war w/ Iran, so we're going to release $100 billion to Iran this mont…\n",
      "\n",
      "Hhmmm. Iran claiming to have 'warned Nigeria' to release detained Shiite leader.... @afalli\n",
      "\n",
      "RT @cerenomri: \"Literally every US ally in Mideast is on brink of hot war w/ Iran, so we're going to release $100 billion to Iran this mont…\n",
      "\n"
     ]
    }
   ],
   "source": [
    "for tweet in tweets:\n",
    "    parsed = nlp_toolkit(tweet)\n",
    "\n",
    "    if mentions_country(parsed, \"Iran\"):\n",
    "        actions = get_actions(parsed)\n",
    "        if \"release\" in actions or \"announce\" in actions:\n",
    "            print(tweet)"
   ]
  },
  {
   "cell_type": "markdown",
   "metadata": {},
   "source": [
    "## Exercise 2\n",
    "- Build a word2vec model of the tweets we have collected using `gensim`.\n",
    "- First take the collection of tweets and tokenise them using `spacy`.\n",
    "\n",
    "### Exercise 2a\n",
    "- Think about how this should be done. \n",
    "- Should you only use upper-case or lower-case? \n",
    "- Should you remove punctuations or symbols? "
   ]
  },
  {
   "cell_type": "code",
   "execution_count": 8,
   "metadata": {
    "collapsed": false
   },
   "outputs": [],
   "source": [
    "text_split = [[x.text if x.pos != spacy.parts_of_speech.VERB else x.lemma_ \n",
    "                for x in nlp_toolkit(t)] for t in tweets]"
   ]
  },
  {
   "cell_type": "markdown",
   "metadata": {},
   "source": [
    "### Exercise 2b\n",
    "- Build a word2vec model\n",
    "- Test the window size as well - this is how many surrounding words need to be used to model a word. What do you think is appropriate for Twitter? "
   ]
  },
  {
   "cell_type": "code",
   "execution_count": 9,
   "metadata": {
    "collapsed": true
   },
   "outputs": [],
   "source": [
    "model = Word2Vec(text_split, size = 100, window = 4, min_count = 5, workers = 4)"
   ]
  },
  {
   "cell_type": "markdown",
   "metadata": {},
   "source": [
    "### Exercise 2c\n",
    "Test your word2vec model with a few similarity functions\n",
    "- Find words similar to \"Syria\"\n",
    "- Find words similar to \"war\"\n",
    "- Find words similar to \"Iran\"\n",
    "- Find words similar to \"Verizon\""
   ]
  },
  {
   "cell_type": "code",
   "execution_count": 15,
   "metadata": {
    "collapsed": false,
    "scrolled": false
   },
   "outputs": [
    {
     "data": {
      "text/plain": [
       "[(u'opposition', 0.9993744492530823),\n",
       " (u'Paris', 0.9987044334411621),\n",
       " (u\"'s\", 0.9986689686775208),\n",
       " (u'casualties', 0.9985477924346924),\n",
       " (u'StopExecutionsIran', 0.9985381364822388),\n",
       " (u'UK', 0.9984525442123413),\n",
       " (u'defeat', 0.9983157515525818),\n",
       " (u'SaudiArabia', 0.9981868267059326),\n",
       " (u'+', 0.998157799243927),\n",
       " (u'Service', 0.9981530904769897)]"
      ]
     },
     "execution_count": 15,
     "metadata": {},
     "output_type": "execute_result"
    }
   ],
   "source": [
    "model.most_similar(positive = [\"Syria\"])"
   ]
  },
  {
   "cell_type": "code",
   "execution_count": 14,
   "metadata": {
    "collapsed": false
   },
   "outputs": [
    {
     "data": {
      "text/plain": [
       "[(u'regime', 0.9978275895118713),\n",
       " (u'democratic', 0.9953438639640808),\n",
       " (u'opposition', 0.9948534965515137),\n",
       " (u'News', 0.994827389717102),\n",
       " (u'France', 0.9946572780609131),\n",
       " (u'Syria', 0.994074285030365),\n",
       " (u'No2Rouhani', 0.9938837289810181),\n",
       " (u'Reason', 0.9928948283195496),\n",
       " (u'Paris', 0.9928804039955139),\n",
       " (u'@lemondefr', 0.9923374056816101)]"
      ]
     },
     "execution_count": 14,
     "metadata": {},
     "output_type": "execute_result"
    }
   ],
   "source": [
    "model.most_similar(positive = [\"Iran\"])"
   ]
  },
  {
   "cell_type": "code",
   "execution_count": 13,
   "metadata": {
    "collapsed": false
   },
   "outputs": [
    {
     "data": {
      "text/plain": [
       "[(u'3', 0.9997420310974121),\n",
       " (u'iPhone', 0.9997348785400391),\n",
       " (u'Black', 0.9997272491455078),\n",
       " (u'follow', 0.9997243881225586),\n",
       " (u'2', 0.9997117519378662),\n",
       " (u'With', 0.999711275100708),\n",
       " (u'Xbox', 0.9996981620788574),\n",
       " (u'Israel', 0.9996776580810547),\n",
       " (u'after', 0.999665379524231),\n",
       " (u'Microsoft', 0.9996631741523743)]"
      ]
     },
     "execution_count": 13,
     "metadata": {},
     "output_type": "execute_result"
    }
   ],
   "source": [
    "model.most_similar(positive = [\"Verizon\"])"
   ]
  },
  {
   "cell_type": "markdown",
   "metadata": {},
   "source": [
    "### Exercise 2d\n",
    "Adjust the choices in (b) and (c) as necessary"
   ]
  },
  {
   "cell_type": "code",
   "execution_count": null,
   "metadata": {
    "collapsed": true
   },
   "outputs": [],
   "source": [
    "model.most_similar(positive = [\"war\"])"
   ]
  },
  {
   "cell_type": "markdown",
   "metadata": {},
   "source": [
    "## Exercise 3\n",
    "Filter tweets to those that mention \"Iran\" or similar entities and \"war\" or similar entities\n",
    "- Do this using just spacy\n",
    "- Do this using word2vec similarity scores"
   ]
  },
  {
   "cell_type": "code",
   "execution_count": 23,
   "metadata": {
    "collapsed": true
   },
   "outputs": [],
   "source": [
    "# Using spacy\n",
    "for tweet in tweets:\n",
    "    parsed = nlp_toolkit(tweet)\n",
    "    if mentions_country(parsed, \"Iran\") or mentions_country(parsed, \"Iraq\"): # ... you could add more\n",
    "        if \"attack\" in get_actions(parsed):\n",
    "            print(tweet)"
   ]
  },
  {
   "cell_type": "code",
   "execution_count": 27,
   "metadata": {
    "collapsed": false
   },
   "outputs": [
    {
     "name": "stdout",
     "output_type": "stream",
     "text": [
      "I made a(n) Small Tourmaline in Paradise Island! https://t.co/cAoW1b6DRc #Gameinsight #Androidgames #Android\n",
      "\n",
      "RT @PURELOVEBEAST: -เช็ครายละเอียด- 27th BIRTHDAY SPECIAL GOODS - 3D YOSEOP USB\n",
      "\n",
      "https://t.co/EOfBdVQUfO\n",
      "\n",
      "@ViGiGu google it :) simple\n",
      "\n",
      "nerd ass girl  https://t.co/T7kDirxPEL\n",
      "\n",
      "LeadCorp Media @leadcorpmedia_  https://t.co/vRJG9Xnzw8\n",
      "\n",
      "RT mackdrama1017: ChieMoney use google and learn how to!\n",
      "\n",
      "@ShaffieWeru Morning bro here is my new video i need yr help im talented bt i lack a manager bro https://t.co/NTs3QM5YU5\n",
      "\n",
      "Google Play Gift Card Code\n",
      "\n",
      "Claim your Google Play Gift Card Code... https://t.co/ySYH1x5kQl #amazon #itunes #googl… https://t.co/ayDI4X1FKO\n",
      "\n",
      "@rizsrug216 @tpaquette_IID Per https://t.co/jTlhLW8Ry5 (sorry), St. Devs for the sport come to:\n",
      "\n",
      "Baseball: .039\n",
      "\n",
      "Football: .125\n",
      "\n",
      "King of dark fantasy. Summon today. App Store: https://t.co/XeEuOEaXEG Google Play: https://t.co/vYQdbhrNEb #DarkSummoner\n",
      "\n",
      "King of dark fantasy. Summon today. App Store: https://t.co/1ce13KchYS Google Play: https://t.co/IkkkXuEu9Q #DarkSummoner\n",
      "\n",
      "@PolitiBunny @PhillipJHill89 you should go read a published article that Russell Simmons wrote him google it\n",
      "\n",
      "I've entered to win a Google Nexus 6P from  !    https://t.co/4vFHfhaBey\n",
      "\n",
      "@moniimamz I know! I saw it online like if u google the reviews for it! 😐\n",
      "\n",
      "RT @kamcb29: I've entered to win a Google Nexus 6P from @MakeUseOf ! https://t.co/o30B9xG6Dx #giveaway #competition\n",
      "\n",
      "Yayyyyy thanks for the follow @YeahhImAFangirl \n",
      "\n",
      "I LOVE your Google plus page with the other girls! 💜😆\n",
      "\n",
      "After I've Google &amp; read a ton of articles on the same subject, I remember, I could've just searched YouTube for this shit 😠\n",
      "\n",
      "Week 2 Power Rankings😈: https://t.co/1xfRayMvpX\n",
      "\n",
      "RT @ShowerThoughtts: Apple has \"air\", Amazon has \"Fire\", Google has \"earth\", why doesn't Microsoft have \"water\"?\n",
      "\n",
      "-Looks up on Google 'MikexJeremy' secretly- &lt;33 ;) [@FnafSchimdt,@MikeSchmit10,]#SenpaiBot~\n",
      "\n",
      "RT @_silentbent_: Go support @dadeputy single \"It's Okay\" feat @jaesongreen on iTunes,Google… https://t.co/WPc1jwFLs0\n",
      "\n",
      "Hi, Checkout this application. https://t.co/cpKpnbsTS7\n",
      "\n",
      "RT @glotevo: nerd ass girl  https://t.co/T7kDirxPEL\n",
      "\n",
      "I'm playing My Singing Monsters. Check it out! https://t.co/JrWWtmojWC\n",
      "\n",
      "Ever wanted to become a Google Small Business Advisor? Now you can! https://t.co/fcOkq6srSX\n",
      "\n",
      "Check out @GCloudAndroid. Never worry about losing your #Android device up to 10 GB Free to backup https://t.co/7eaqZEHAnI\n",
      "\n",
      "Top Android Apps (without all the games) revealed in hidden Google Play Store link -… https://t.co/7ZSs9MkcLm #Android #India\n",
      "\n",
      "RT @clashbabes: Th8 50vs50! Come join the fun! https://t.co/mFgZlpU9M4\n",
      "\n",
      "https://t.co/0ElEQm917Q How To Increase Blog Traffic With Google Plus - #Blogging #SMM #SocialMedia https://t.co/UIcEYNJ4u2 :OfficialChat…\n",
      "\n",
      "RelNews: \n",
      "\n",
      "                    Europe could produce a Facebook ' and the Google of healthcare\n",
      "\n",
      " -The Daily Telegraph- https://t.co/C6J53DKUuU\n",
      "\n",
      "RelNews: \n",
      "\n",
      "                    Europe could produce a Facebook \\' and the Google of healthcare\n",
      "\n",
      " -The Daily Telegraph- https://t.co/C6J53DKUuU\n",
      "\n",
      "New post: Google Knowledge Graph Optimization Strategies for the New Year for Infographic Designers https://t.co/qsdAbq3HnD\n",
      "\n",
      "Anyone else spend the entire time driving trying to beat the original arrival time estimate from Google Maps? 🙃\n",
      "\n",
      "#DESIGN: Font of the day: Mecka https://t.co/9iI2KGZ0ZH #design\n",
      "\n",
      "Google, you've failed me for the first time! Why can't you tell me what these crystals are inside my plum? https://t.co/vXmONcnTom\n",
      "\n",
      "RT @rougek68: On the Meaning of #Fascism https://t.co/jfoIA7jcS9 \n",
      "\n",
      "#USA #israel \n",
      "\n",
      "We're All #Fascists Now https://t.co/NEQYZufaBV \n",
      "\n",
      "Time U kno…\n",
      "\n",
      "Google #Team2PM\n",
      "\n",
      "RT @clashbabes: Th8 50vs50! Come join the fun! https://t.co/mFgZlpU9M4\n",
      "\n",
      "The first time someone commented \"Schwing!\" on one of my selfies, I had to google what it was. It's basically an old guy complimenting you.\n",
      "\n",
      "RT @_rachaelmcclung: Brain: go to sleep its 10pm you now have a decent 8 hours of sleep..\n",
      "\n",
      "Me: stays up to google different food recipes for…\n",
      "\n",
      "RT https://t.co/s2HOfLUV2t #Google '#Android N' Will Not Use #Oracle's  #Java APIs  https://t.co/fBMNzW4wdT gunjanraik\n",
      "\n",
      "RT https://t.co/HqV9jSb6In Android application related to google maps -- 2 by nsatheeshk: Need to update the Android Mobil... …\n",
      "\n",
      "My mini just went to th9 😢 but this will be a fun event for any th8s out there!! https://t.co/5w4A07lZDs\n",
      "\n",
      "#OldRocks - #StructuresLeftBehind: #PreDeluge Ancient #MicroSculpture To Massive Face &amp; Shape #Iconography Remain https://t.co/nFd2nXEtGh\n",
      "\n",
      "@ImbruedJoint Hector had softly tilted his head towards Stuart in a confused sort of way. \"What's Google?\" He couldn't possibly know what --\n",
      "\n",
      "Good domain possibility?: www.West Virginia https://t.co/xi1QYKRHNt ?? Its trending on google...\n",
      "\n",
      "Here man @TheRealLogs1996 when you talk about how the Cubs won last year  https://t.co/NGbZGA7DP6\n",
      "\n",
      "Google Knowledge Graph Optimization Strategies for the New Year for Infographic Designers https://t.co/wJMnQtv4Rx https://t.co/jyIZemYUGH\n",
      "\n",
      "LebanonHashtag: RT probrandz: #Facebook Open Sources Artificial #Intelligence Servers Before #Google | Re/code https://t.co/f8RTJxEzSx\n",
      "\n",
      "#di…\n",
      "\n",
      "@r0thejan Earn free Google Play and many more Giftcards at our fresh published Website https://t.co/zPQb0lfDs9 https://t.co/udIaPeF945\n",
      "\n",
      "KalGuntuku: RT bunnymiilk \"RT 30seclovelive: [RT to win!] 30 Seconds of Love Live! 5k Followers Giveaway #1: $25 iTunes/Google Play gift ca…\n",
      "\n",
      "RT @FortuneMagazine: Here’s how Google is taking on Uber in 2016 https://t.co/X5STl6P5Xh\n",
      "\n",
      "[Minecraft] I google \"Natural arch\" and a Minecraft image popped up for a real geographical scenic spot by Skandal… https://t.co/9ZZrZrfJpP\n",
      "\n",
      "shenbrood: What's your greatest #digitalmarketing #contentmarketing blunder?  Well for me it's the ever changing Google algorith.  What abo…\n",
      "\n",
      "https://t.co/tkiiygFXRd What each state #Google d more than... #me #love #picoftheday #follow\n",
      "\n",
      "@hadley_delducaa google a wolf hybrid its my future dog\n",
      "\n",
      "Europe could produce a Facebook - and the Google of healthcare https://t.co/xEwaWcPRNF\n",
      "\n",
      "I've unlocked a new area of my Island! https://t.co/gmGshSxtLG #Gameinsight #Android #Androidgames\n",
      "\n",
      "https://t.co/GVac2xs9OO Get it: Google's latest free Android wallpaper shows useful phone ... https://t.co/KdbaKUYglP #Android\n",
      "\n",
      "I've reached level 28. I earned  $123000 and €3! https://t.co/5qOLKlLp9K #Gameinsight #Androidgames #Android\n",
      "\n",
      "Make sure your siwe ishkeeping xsers mn thxir preferred ver|ion  fkyourmwebsite for tceir entule vtsiq. (Google Webmcstervkx\n",
      "\n",
      "RT @ladybirdcoc: My mini just went to th9 😢 but this will be a fun event for any th8s out there!! https://t.co/5w4A07lZDs\n",
      "\n",
      "#NFL #MarshawnLynch 2013 \"NFC Champ game\" MARSHAWN LYNCH Touchdown Run Seattle Seahawks 8x10 photo https://t.co/tnS1K7aZFS #Seahawks #Google\n",
      "\n",
      "@chocolateluvah completely agree it's killing me not to google the case haha\n",
      "\n",
      "@JedDzn @IvanOfficial__ @picardonoel whats that? *dont ask me to google it*\n",
      "\n",
      "RT @seosanjayupadhy: Alt + 6.......♠.....s¬pade Alt + 5.......♣...... ¬Club Alt + 3............. ¬Heart Alt + 4.......♦...... ¬Diamond… htt…\n",
      "\n",
      "RT @chrismessina: Tell me that Zuck isn't planning to take on Google with Messenger... #ConvComm  https://t.co/2ludfQPLTl https://t.co/8QbN…\n",
      "\n",
      "Seconded. When I'm tweeting, I've always got my Google Docs open as well. #AmWriting https://t.co/cIA8OVoKSE\n",
      "\n",
      "https://t.co/wiRZHnHUYV RT ShowerThoughtts: Apple has \"air\", Amazon has \"Fire\", Google has \"earth\", why doesn't M… https://t.co/O69Q8NpBmK\n",
      "\n",
      "@luckyberry96 Go to this website. https://t.co/4O42egV2MV copy and paste it in twitter. Tweet more for #TeamSeventeen\n",
      "\n",
      "@victoria_stee u +google's instructions just saved my life😘\n",
      "\n",
      "RT @KunalChoudhary_: Pathankot attack: Youth Congress members burn Sharifs effigy in Bhopal https://t.co/n3uftphdsx (@IndiaToday)\n",
      "\n",
      "@RajaBrar…\n",
      "\n",
      "https://t.co/rbIrlQpYMx ALSO HERE IT IS MY REVAMPED AND MUCH BETTER GOT7 PRIMER SHARE OUR BOYS WITH THE WORLD\n",
      "\n",
      "I've entered to win a Google Nexus 6P from @MakeUseOf ! https://t.co/tiM479eSDN #giveaway #competition\n",
      "\n",
      "New Mobile Apps on #PlayStore #Android : Gods Of Rome, Cut The Rope, Gun Simulator, KitWall etc .Check More on https://t.co/BszRb7JO4E\n",
      "\n",
      "Any other takers? https://t.co/J0DhhMF9T4\n",
      "\n",
      "GoogleExpertUK : #Google supports Swedish Chef from The Muppets! MuppetsStudio #internet #… https://t.co/pUrY7IHU4y) https://t.co/e43mzDlDzw\n",
      "\n",
      "ECO 100 WK 10 CHAPTER 18 HOMEWORK - https://t.co/BURTA5bO3w\n",
      "\n",
      "@WinterFNmute665 @RT_America Look up militia too, second definition on google.\n",
      "\n",
      "Don't Google Any Of These Terms No Matter How Bad You Want To!... https://t.co/vfcd3RHdYM\n",
      "\n",
      "KalGuntuku: RT bunnymiilk \"RT 30seclovelive: [RT to win!] 30 Seconds of Love Live! 5k Followers Giveaway #1: $25 i… https://t.co/jtvcWEI0SV\n",
      "\n",
      "@ohitsmrcreeper @SapphireGinger oh thank god google translate was wrong\n",
      "\n",
      "RT @CarlaLioness: ✔TWEETSHEET➡PETITIONS-PART 3✔ SUPPORT THE FIGHT AGAINST DOG&amp;CAT #MEATINDUSTRY IN #SouthKorea https://t.co/TKildjZJNr http…\n",
      "\n",
      "Google Maps https://t.co/dU4PD1ch4V\n",
      "\n",
      "@Xen_Games Google doesn't say what 5 out 7 means why not 7 out of 7?????\n",
      "\n",
      "@MakingStarWars Ugh. The rights sign messes up the link. Google 'force awakens 70mm' and the IMAX link should send you there.\n",
      "\n",
      "RT @dinowoowife: [MY] BTS 2ND MUSTER SLOGAN \"두근건\" BY VISUAL SHOCK @VShock1230 https://t.co/SpccZhS5mk https://t.co/kOiqxiSZYk\n",
      "\n",
      "LebanonHashtag: RT probrandz: #Facebook Open Sources Artificial #Intelligence Servers Before #Google | Re/code https://t.co/VgWBxAG52q\n",
      "\n",
      "#di…\n",
      "\n",
      "RT @TheMoneyGenie: Why PayPal.Me Is So Infuriating (But Im Using It Anyway)  work from home https://t.co/JeP3833l2i https://t.co/RFJhUsiy7Z\n",
      "\n",
      "Ford adds Apple CarPlay and Android Auto to Sync 3,... https://t.co/NSPCS9KHWE #google | https://t.co/MZBQSll3dP https://t.co/tHKibTMDlU\n",
      "\n",
      "Best colour for zodiac sign in year 2016\n",
      "\n",
      "https://t.co/WHqjhaywhq\n",
      "\n",
      "@ShaffieWeru hi bro i need your help here is my new video..can you manage me bro https://t.co/NTs3QM5YU5\n",
      "\n",
      "Try TwitGrow for Twitter! Get 1000+ REAL followers, retweets and favorites! Google Play: https://t.co/v5qI6nbcZt https://t.co/s5wKVVeiCI\n",
      "\n",
      "RT @lw: How To Be The Person Who Never Misses A Deadline https://t.co/jxsYcQpjII\n",
      "\n",
      "shenbrood: What's your greatest #digitalmarketing #contentmarketing blunder?  Well for me it's the ever changing Google algorith.  What abo…\n",
      "\n",
      "RT @dinowoowife: [MY] JIMIN 2016 'RISE' stock sale by MINingful moment @miningfulmoment ♥ https://t.co/DwRaGK45D3 https://t.co/Nh04n1sB5b\n",
      "\n",
      "#creativitybooster: Communicate stupid affiliate at Google. TOP 10 ideas: https://t.co/9Dww7xv6t2 #growthhacking #blogging\n",
      "\n",
      "#RADIO #TOP40 Now Playing #Shut Up #Stormzy #APPS Apple https://t.co/GIrJLsb5lM Google https://t.co/P24euDWBeU\n",
      "\n",
      "Will Google do one of those semantically-aware auto-answers if I search \"RZA Elo\"? Don't wanna be disappointed\n",
      "\n",
      "Just like new college students are at risk for the Freshman 15, Google employees joke about the Google 15 from all the snaks available.\n",
      "\n",
      "Me af 😂😂😂 https://t.co/fUw8UrVIV0\n",
      "\n",
      "Spare mark as respects the google android scum yourself april au pair self: skacV https://t.co/mjgyEDMeWw\n",
      "\n",
      "Google #Cardboard Used By Surgeons To Perform Heart Surgery And Saves A Life https://t.co/LtMxdRcatV https://t.co/Zd6YAFTvUn\n",
      "\n",
      "RT @TheMoneyGenie: Why Spending Money Saves You Time (and Earns You More Money)  work from home https://t.co/4hrngezka4 https://t.co/2jjwyW…\n",
      "\n",
      "This House Is Selling Dirt Cheap, The Google Maps Picture Explains Exactly Why.... https://t.co/6yJUWU1o9v\n",
      "\n",
      "Google has no chill https://t.co/Rs2QG2NXQa\n",
      "\n",
      "RT @got7style: [#B2GETHER] GOT7 with B Connect Bracelet \n",
      "\n",
      "#JB  #JACKSON  #TEAMGOT7 #GOT7STYLE\n",
      "\n",
      "https://t.co/VCVVUZfGNU … https://t.co/BueT9Zr…\n",
      "\n",
      "Women rise in HP panchayat politics https://t.co/jo0pJfFB6X #HP\n",
      "\n",
      "Police condemn Facebook comments on Mount Maunganui New Year's Eve page https://t.co/BaomUZeAw8 #facebook\n",
      "\n",
      "Wondering Which Food Is Healthier Google Has A Tool For … : https://t.co/HxOGzZ0Vfr ...\n",
      "\n",
      "RT @f396: Iran blames America, Britain and 'Zionists' for Nimr execution - https://t.co/BwXEicgAOA via https://t.co/UjStGmTT2f\n",
      "\n",
      "@trp_takumi [ replied ] \n",
      "\n",
      "\n",
      "\n",
      "Gunakan lah google translate, lol xD\n",
      "\n",
      "Lifehacker: Run Windows on Your Mac: VirtualBox vs VMware Fusion vs Parallels. https://t.co/OZFvvqpkEf\n",
      "\n",
      "The Polar Bears - Movies &amp; TV on Google Play https://t.co/wkSSSKkHH6\n",
      "\n",
      "\"Become a Google Small Business Expert Advisor\"  https://t.co/8GfXh7JZI8 #inboundmarketing #feedly\n",
      "\n",
      "Gang knocks down Cane Grove man then beats him to death https://t.co/EfTP6JbZS9 #beats\n",
      "\n",
      "Ohio State basketball wins sixth straight, beats Illinois 75-73 https://t.co/uSeu3D1Byp #beats\n",
      "\n",
      "RT @newsycombinator: Google, HP, Oracle Join RISC-V – Open-source processor core gains traction https://t.co/8xnBu3TICr\n",
      "\n",
      "@_QueenLioness_ @justinrgrrb @McDonald_Wes Sweet De-Lights Bakery Inc &lt;---- this place, google it... A++++++\n",
      "\n",
      "RT @f396: Saudi Arabia severs diplomatic ties with Iran over embassy fire - https://t.co/r0iZugJa3v via https://t.co/UjStGmTT2f\n",
      "\n",
      "RT @TheMoneyGenie: Why People Un-Follow You On Social Media Platforms  quick cash https://t.co/AlwvHy0mkz https://t.co/d3xZ63Xj8j\n",
      "\n",
      "@Mrkenneyy I saw ur tweet no need for Google lol it's a very large dog\n",
      "\n",
      "New Google Chat App Could Destroy Facebook Messenger https://t.co/71Cu1vKcOI #google\n",
      "\n",
      "RT @lexicaaan: Me af 😂😂😂 https://t.co/fUw8UrVIV0\n",
      "\n",
      "#RADIO #90s #juice Now Playing #Breathe (Radio Edit) #MIDGE URE #APPS Apple https://t.co/gsMf7U2vzO Google https://t.co/idypaT7UqA\n",
      "\n",
      "@sebast_lj @McFaul @Inna4848 'cause google translates it as \"return to California\"\n",
      "\n",
      "My Google Play account makes me realize I was a dysfunctional teen with deep emotional scars.\n",
      "\n",
      "Latest Update Brings New Skills To The #AmazonEcho\n",
      "\n",
      "https://t.co/O6DxVu9zXy https://t.co/zGNxP3vybq\n",
      "\n",
      "RT @f396: 'Iran has a long record in attacking foreign diplomatic missions,' Saudi ... - https://t.co/3gaSRB3osT via https://t.co/UjStGmTT2f\n",
      "\n",
      "RT shenbrood What's your greatest #digitalmarketing #contentmarketing blunder?  Well for me it's the ever changing Google algorith.  What a…\n",
      "\n",
      "RT MasterMindDBS shenbrood: What's your greatest #digitalmarketing #contentmarketing blunder?  Well for me it's the ever changing Google al…\n",
      "\n",
      "https://t.co/eLiFeXQvA1 just like real life\n",
      "\n",
      "I liked a @YouTube video https://t.co/52uUx0cXqW 10 Things You Should Never Google (WARNING GROSS)\n",
      "\n",
      "Here is what happens to @_snats when he cannot access google translate\n",
      "\n",
      "https://t.co/EtprZXOGzD\n",
      "\n",
      "RT @Kappa_Kappa: The first time someone commented \"Schwing!\" on one of my selfies, I had to google what it was. It's basically an old guy c…\n",
      "\n",
      "RT @CarlaLioness: ✔TWEETSHEET➡PETITIONS-PART 3✔ SUPPORT THE FIGHT AGAINST DOG&amp;CAT #MEATINDUSTRY IN #SouthKorea https://t.co/TKildjZJNr http…\n",
      "\n",
      "RT SEOTraverseCity shenbrood: What's your greatest #digitalmarketing #contentmarketing blunder?  Well for me it's the ever changing Google …\n",
      "\n",
      "RT @NineLivesF: A kitten called WANDA...\n",
      "\n",
      "Many of you have asked how WANDA came to be at Nine Lives Foundation, paired up with… https://t.co…\n",
      "\n",
      "I've entered to win a Google Nexus 6P from @MakeUseOf ! https://t.co/l1VzzbljaW #giveaway #competition\n",
      "\n",
      "RT @CEEKTechnology: Google #Nexus6P Review - #Android Overdose https://t.co/dmIouyVdVk via @bgdftw\n",
      "\n",
      "RT @got7style: [#B2GETHER] GOT7 with B Connect Bracelet \n",
      "\n",
      "#JB  #JACKSON  #TEAMGOT7 #GOT7STYLE\n",
      "\n",
      "https://t.co/VCVVUZfGNU … https://t.co/BueT9Zr…\n",
      "\n",
      "iRULU Tablet PC eXpro X1s 7\" 8GB/1GB Google Android 4.4 Kitkat Quad Core Black - Bid Now! … https://t.co/viBaz8kJeJ https://t.co/H4F9cY3Orq\n",
      "\n",
      "NEW IRULU 7\" Purple 16GB Google Android 4.4 KitKat eXpro X1a HD Tablet Quad Core - Bid Now… https://t.co/iVcQ3EAG9L https://t.co/3dOYcr12zX\n",
      "\n",
      "This House Is For Sale, And What Google Maps Caught Inside Explains The C... https://t.co/nLCtPwNYXv https://t.co/MEL4kTftvK\n",
      "\n",
      "I just received a reward: An Apple a Day https://t.co/D5BMjL5RIs #Android #Androidgames #Gameinsight\n",
      "\n",
      "I just received a reward: An Apple a Day https://t.co/D5BMjL5RIs #Android #Gameinsight #Androidgames\n",
      "\n",
      "RT @dronelaws: Status report on the NTIA multi-stakeholder drone privacy process. https://t.co/fN8JLkPty7\n",
      "\n",
      "braided beard - Google Search - #fashion #mensfashion #style https://t.co/OFWf8Tqutc https://t.co/HIIQ8uUG8J\n",
      "\n",
      "King of dark fantasy. Summon today. App Store: https://t.co/8UfUVFoh4y Google Play: https://t.co/ZfelsWY2zH #DarkSummoner\n",
      "\n",
      "Google and Share: YOUR RADIATION THIS WEEK\n",
      "\n",
      "and tell your friends and neighbors; your governments already know!\n",
      "\n",
      "WE... https://t.co/aYtDQbG3O6\n",
      "\n",
      "G+: Somethings change as you no longer want to live within the same dusty hallways.  Thing is that as you clean up… https://t.co/CD2Hb1VxDE\n",
      "\n",
      "Texas college student killed in New Year's Eve shooting - CNN International\n",
      "\n",
      "https://t.co/NKVXMvg5Vs\n",
      "\n",
      "https://t.co/57W1xcPUNv check out this page for the hottest music trends and more , search your favorite music 2 https://t.co/g7gsLtZe0S\n",
      "\n",
      "https://t.co/EPop7HMqk3 hey check out these 2016 amazon tips https://t.co/7OvQwnG3Qs\n",
      "\n",
      "New Event Now On. Get New Rank S Monsters. App Store: https://t.co/ioRDcpAe0t Google Play: https://t.co/3q1ftPNi3p #DarkSummoner\n",
      "\n",
      "RT @GOPof_idiots: @JeanetteJing \n",
      "\n",
      "None... but #Bernie does!\n",
      "\n",
      "https://t.co/t5sRAPBFvi https://t.co/wZS2PR80QP\n",
      "\n",
      "Seems like my boss is interested enough in Chen, he just google Chen's pic and show it to me \"is this Chen? He looks like pondan.\"\n",
      "\n",
      "RT @PYPRecords: Look us up on iTunes just google the name Popcorn PYP or come to NYC and ask for me https://t.co/4Xydj87TZk\n",
      "\n",
      "Don't Google Any Of These Terms No Matter How Bad You Want To!... https://t.co/F4o4XGbSpD\n",
      "\n",
      "@hadley_delducaa yeah but its worth a google https://t.co/ZdHrvt3VuE\n",
      "\n",
      "RT @darkenedsight: Taylor's gonna punch me, now I have to google search how to act as if it hurt. Brb 😇😆\n",
      "\n",
      "Pluralsight – Getting Started with Google Play In-app Billing https://t.co/PLmEvqWGdh\n",
      "\n",
      "@seedchan ill send you your card from tw!! https://t.co/AFhRYYUytH\n",
      "\n",
      "Not even google can help https://t.co/2sImxSyIP3\n",
      "\n",
      "not gonna lie, I just typed \"what to wear when it's -15 degrees on the outside\" in google\n",
      "\n",
      "Samsung: Dear samsung im very annoyed i cannot revert to kitkat from lollipop ive contacted google my provider opt - https://t.co/MZn2AajhHf\n",
      "\n",
      "Check out Gosford Park on https://t.co/dmGGQ8wiR6 #hoopladigital\n",
      "\n",
      "British Mystery Robert Altman GREAT! Aleta\n",
      "\n",
      "\n",
      "\n"
     ]
    }
   ],
   "source": [
    "# Using word2vec similarity scores\n",
    "for tweet in tweets[:200]:\n",
    "    parsed = nlp_toolkit(tweet)\n",
    "\n",
    "    similarity_to_iran = max([model.similarity(\"Iran\", tok.text) for tok in parsed if tok.text in model.wv.vocab], 0)\n",
    "    similarity_to_war = max([model.similarity(\"war\", tok.text) for tok in parsed if tok.text in model.wv.vocab], 0)\n",
    "    if similarity_to_iran > 0.9 and similarity_to_war > 0.9:\n",
    "#         print(similarity_to_iran, similarity_to_war, tweet)\n",
    "        print tweet"
   ]
  },
  {
   "cell_type": "code",
   "execution_count": null,
   "metadata": {
    "collapsed": true
   },
   "outputs": [],
   "source": []
  }
 ],
 "metadata": {
  "anaconda-cloud": {},
  "kernelspec": {
   "display_name": "Python 2",
   "language": "python",
   "name": "python2"
  },
  "language_info": {
   "codemirror_mode": {
    "name": "ipython",
    "version": 2
   },
   "file_extension": ".py",
   "mimetype": "text/x-python",
   "name": "python",
   "nbconvert_exporter": "python",
   "pygments_lexer": "ipython2",
   "version": "2.7.13"
  }
 },
 "nbformat": 4,
 "nbformat_minor": 0
}
