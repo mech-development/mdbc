{
 "cells": [
  {
   "cell_type": "markdown",
   "metadata": {},
   "source": [
    "# Lesson 8 - Starter Code"
   ]
  },
  {
   "cell_type": "code",
   "execution_count": null,
   "metadata": {
    "collapsed": false
   },
   "outputs": [],
   "source": [
    "import pandas as pd\n",
    "from sklearn import datasets, neighbors, metrics\n",
    "\n",
    "%matplotlib inline\n",
    "import matplotlib.pyplot as plt\n",
    "import seaborn as sns"
   ]
  },
  {
   "cell_type": "code",
   "execution_count": null,
   "metadata": {
    "collapsed": false
   },
   "outputs": [],
   "source": [
    "iris = datasets.load_iris()\n",
    "irisdf = pd.DataFrame(iris.data, columns = iris.feature_names)\n",
    "irisdf[\"target\"] = iris.target\n",
    "cmap = {\"0\": \"r\", \"1\": \"g\", \"2\": \"b\"}\n",
    "irisdf[\"ctarget\"] = irisdf.target.apply(lambda x: cmap[str(x)])\n",
    "irisdf.plot(\"petal length (cm)\", \"petal width (cm)\", kind = \"scatter\", c = irisdf.ctarget)\n",
    "print(irisdf.plot(\"petal length (cm)\", \"petal width (cm)\", kind = \"scatter\", c = irisdf.ctarget))\n",
    "print(irisdf.describe())\n",
    "\n",
    "def my_classifier(row):\n",
    "    if row[\"petal length (cm)\"] < 2:\n",
    "        return 0\n",
    "    else:\n",
    "        return 1\n",
    "\n",
    "predictions = irisdf.apply(my_classifier, axis = 1)"
   ]
  },
  {
   "cell_type": "code",
   "execution_count": null,
   "metadata": {
    "collapsed": false
   },
   "outputs": [],
   "source": [
    "irisdf[\"predictions\"] = predictions\n",
    "\n",
    "print(float(len(irisdf[irisdf.target == irisdf.predictions])) / len(irisdf))"
   ]
  },
  {
   "cell_type": "markdown",
   "metadata": {},
   "source": [
    "## Starter Code\n",
    "Work on improving the classifier below"
   ]
  },
  {
   "cell_type": "code",
   "execution_count": null,
   "metadata": {
    "collapsed": false
   },
   "outputs": [],
   "source": [
    "def my_classifier(row):\n",
    "    if row[\"petal length (cm)\"] < 2:\n",
    "        return 0\n",
    "    else:\n",
    "        return 2\n",
    "\n",
    "predictions = irisdf.apply(my_classifier, axis = 1)\n",
    "\n",
    "irisdf[\"predictions\"] = predictions\n",
    "\n",
    "print(float(len(irisdf[irisdf.target == irisdf.predictions])) / len(irisdf))"
   ]
  },
  {
   "cell_type": "markdown",
   "metadata": {},
   "source": [
    "## Using distance: KNN implementation"
   ]
  },
  {
   "cell_type": "code",
   "execution_count": null,
   "metadata": {
    "collapsed": false
   },
   "outputs": [],
   "source": [
    "iris = datasets.load_iris()\n",
    "# n_neighbors is our option in KNN. We will tune this value to attempt to improve our prediction\n",
    "knn = neighbors.KNeighborsClassifier(n_neighbors = 5, weights = \"uniform\")\n",
    "knn.fit(iris.data[:, 2:], iris.target)\n",
    "print(knn.predict(iris.data[:, 2:]))\n",
    "print(iris.target)\n",
    "\n",
    "print(knn.score(iris.data[:,2:], iris.target))"
   ]
  },
  {
   "cell_type": "markdown",
   "metadata": {},
   "source": [
    "Do we see a change in performaance with using the distance weight?"
   ]
  },
  {
   "cell_type": "code",
   "execution_count": null,
   "metadata": {
    "collapsed": false
   },
   "outputs": [],
   "source": [
    "knn = neighbors.KNeighborsClassifier(n_neighbors = 5, \n",
    "                                     weights = \"\") # add in the weights parameter here\n",
    "knn.fit(iris.data[:, 2:], iris.target)\n",
    "print(knn.predict(iris.data[:, 2:]))\n",
    "print(iris.target)\n",
    "\n",
    "print(knn.score(iris.data[:, 2:], iris.target))"
   ]
  },
  {
   "cell_type": "markdown",
   "metadata": {},
   "source": [
    "## Solution to solving K\n",
    "This is only one approach to the problem, but adding in the `distance` parameter (instead of uniform) would only be additive; note that the code would need some editing to handle it properly if done in the grid search; alternatively, make the change directly in the estimator."
   ]
  },
  {
   "cell_type": "code",
   "execution_count": null,
   "metadata": {
    "collapsed": false
   },
   "outputs": [],
   "source": [
    "from sklearn import grid_search, cross_validation\n",
    "\n",
    "# some n_list! keep in mind cross validation\n",
    "# recall: what is an effective way to create a numerical list in python?\n",
    "k = range(2, 100)\n",
    "params = {\"n_neighbors\": k }\n",
    "kf = cross_validation.KFold(len(irisdf), n_folds = 5)\n",
    "gs = grid_search.GridSearchCV(\n",
    "    estimator  = neighbors.KNeighborsClassifier(),\n",
    "    param_grid = params,\n",
    "    cv         = kf)\n",
    "gs.fit(iris.data, iris.target)\n",
    "gs.grid_scores_"
   ]
  },
  {
   "cell_type": "code",
   "execution_count": null,
   "metadata": {
    "collapsed": false
   },
   "outputs": [],
   "source": [
    "# <Code Here> # plot"
   ]
  },
  {
   "cell_type": "markdown",
   "metadata": {},
   "source": [
    "Zoom in to look at fit before first dive around 25:"
   ]
  },
  {
   "cell_type": "code",
   "execution_count": null,
   "metadata": {
    "collapsed": false
   },
   "outputs": [],
   "source": [
    "# <Code Here> # plot"
   ]
  }
 ],
 "metadata": {
  "anaconda-cloud": {},
  "kernelspec": {
   "display_name": "Python [conda root]",
   "language": "python",
   "name": "conda-root-py"
  },
  "language_info": {
   "codemirror_mode": {
    "name": "ipython",
    "version": 2
   },
   "file_extension": ".py",
   "mimetype": "text/x-python",
   "name": "python",
   "nbconvert_exporter": "python",
   "pygments_lexer": "ipython2",
   "version": "2.7.13"
  }
 },
 "nbformat": 4,
 "nbformat_minor": 0
}
