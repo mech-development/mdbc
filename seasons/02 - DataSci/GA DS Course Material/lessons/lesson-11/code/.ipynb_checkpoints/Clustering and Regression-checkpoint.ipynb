{
 "cells": [
  {
   "cell_type": "markdown",
   "metadata": {},
   "source": [
    "# Clustering and Regression"
   ]
  },
  {
   "cell_type": "code",
   "execution_count": null,
   "metadata": {
    "collapsed": false
   },
   "outputs": [],
   "source": [
    "import numpy as np\n",
    "import pandas as pd\n",
    "import random\n",
    "\n",
    "from sklearn.linear_model import LinearRegression\n",
    "from sklearn.cluster import DBSCAN\n",
    "\n",
    "%matplotlib inline\n",
    "from matplotlib import pyplot as plt\n",
    "import seaborn as sns"
   ]
  },
  {
   "cell_type": "code",
   "execution_count": null,
   "metadata": {
    "collapsed": true
   },
   "outputs": [],
   "source": [
    "# Colour the Clusters\n",
    "def set_colors(labels, colors = \"rgbykcm\"):\n",
    "    # In: labels = \n",
    "    # Out: array of colours for each given label\n",
    "    colored_labels = []\n",
    "    for label in labels:\n",
    "        colored_labels.append(colors[label])\n",
    "    return colored_labels"
   ]
  },
  {
   "cell_type": "markdown",
   "metadata": {},
   "source": [
    "Now we generate some sample data."
   ]
  },
  {
   "cell_type": "code",
   "execution_count": null,
   "metadata": {
    "collapsed": false
   },
   "outputs": [],
   "source": [
    "## Create some synthetic data\n",
    "from scipy.stats import multivariate_normal\n",
    "\n",
    "np.random.seed(100)\n",
    "data = []\n",
    "# multivariate_normal generates a multivariate normal random variable\n",
    "# creating two set of numbers with mean 0 and 0\n",
    "# dist = multivariate_normal(mean = [0, 0], cov = [[0.5, 0.1], [0.0, 0.01]])\n",
    "dist = multivariate_normal(mean = [0, 0], cov = [[0.5, 0.5], [0.0, 0.1]])\n",
    "for i in range(150):\n",
    "    # Add a random samples from a multivariate normal distribution\n",
    "    data.append(dist.rvs())\n",
    "print(data[0:5])\n",
    "\n",
    "# creating two set of numbers with mean 1 and 5\n",
    "# dist = multivariate_normal(mean = [1, 5], cov = [[0.5, 0.2], [0.0, 0.02]])\n",
    "dist = multivariate_normal(mean = [1, 5], cov = [[0.5, 0.5], [0.0, 0.1]])\n",
    "for i in range(150):\n",
    "    data.append(dist.rvs())\n",
    "\n",
    "# creating two set of numbers with mean 2 and 10\n",
    "dist = multivariate_normal(mean = [2, 10], cov = [[0.5, 0.5], [0.0, 0.1]])\n",
    "for i in range(150):\n",
    "    data.append(dist.rvs())\n",
    "\n",
    "# convert data into a dataframe\n",
    "df = pd.DataFrame(data, columns = [\"x1\", \"x2\"])\n",
    "df.head()"
   ]
  },
  {
   "cell_type": "code",
   "execution_count": null,
   "metadata": {
    "collapsed": false
   },
   "outputs": [],
   "source": [
    "plt.scatter(df[\"x1\"], df[\"x2\"])\n",
    "plt.xlabel(\"x1\")\n",
    "plt.ylabel(\"x2\")\n",
    "plt.show()"
   ]
  },
  {
   "cell_type": "markdown",
   "metadata": {},
   "source": [
    "## Find Clusters"
   ]
  },
  {
   "cell_type": "code",
   "execution_count": null,
   "metadata": {
    "collapsed": false
   },
   "outputs": [],
   "source": [
    "# Fit a DBSCAN estimator\n",
    "# create a DBScan Estimator\n",
    "estimator = DBSCAN(eps = 0.8, min_samples = 10)\n",
    "# Two input variables\n",
    "X = df[[\"x1\", \"x2\"]]\n",
    "# Note that for UNsupervised methods there is no known output (y)\n",
    "estimator.fit(X)"
   ]
  },
  {
   "cell_type": "code",
   "execution_count": null,
   "metadata": {
    "collapsed": false
   },
   "outputs": [],
   "source": [
    "# Clusters are given in the labels_ attribute\n",
    "df[\"label\"] = estimator.labels_\n",
    "df[\"color\"] = set_colors(df[\"label\"])\n",
    "df.head()"
   ]
  },
  {
   "cell_type": "code",
   "execution_count": null,
   "metadata": {
    "collapsed": false
   },
   "outputs": [],
   "source": [
    "for i, cluster in df.groupby(\"label\"):\n",
    "    plt.scatter(cluster[\"x1\"], cluster[\"x2\"], c = cluster[\"color\"], label = \"Cluster %d\" % i)\n",
    "plt.legend(loc = \"upper left\")\n",
    "plt.xlabel(\"x1\")\n",
    "plt.ylabel(\"x2\")\n",
    "plt.show()"
   ]
  },
  {
   "cell_type": "markdown",
   "metadata": {},
   "source": [
    "## Add Cluster Labels back to the Data Frame and Fit a Linear Model"
   ]
  },
  {
   "cell_type": "code",
   "execution_count": null,
   "metadata": {
    "collapsed": false
   },
   "outputs": [],
   "source": [
    "df = pd.concat([df, pd.get_dummies(df[\"label\"], prefix = \"cluster\")], axis = 1)\n",
    "df.head()"
   ]
  },
  {
   "cell_type": "code",
   "execution_count": null,
   "metadata": {
    "collapsed": false
   },
   "outputs": [],
   "source": [
    "model = LinearRegression()\n",
    "X = df[[\"x1\", \"cluster_0\", \"cluster_1\", \"cluster_2\"]]\n",
    "y = df[\"x2\"]\n",
    "model.fit(X, y)\n",
    "print(model.score(X, y))"
   ]
  },
  {
   "cell_type": "code",
   "execution_count": null,
   "metadata": {
    "collapsed": false
   },
   "outputs": [],
   "source": [
    "# Plot the model\n",
    "plt.scatter(df[\"x1\"], df[\"x2\"], c = df[\"color\"])\n",
    "plt.xlabel(\"x\")\n",
    "plt.ylabel(\"y\")\n",
    "plt.scatter(df[\"x1\"], model.predict(X), color = \"black\")\n",
    "plt.show()"
   ]
  },
  {
   "cell_type": "markdown",
   "metadata": {
    "collapsed": true
   },
   "source": [
    "## Another example"
   ]
  },
  {
   "cell_type": "code",
   "execution_count": null,
   "metadata": {
    "collapsed": false
   },
   "outputs": [],
   "source": [
    "## Create some synthetic data\n",
    "from scipy.stats import multivariate_normal\n",
    "\n",
    "np.random.seed(200)\n",
    "data = []\n",
    "# dist = multivariate_normal(mean = [0, 0], cov = [[0.5, 0.1], [0.0, 0.01]])\n",
    "dist = multivariate_normal(mean = [0, 0], cov = [[0.1, 0.5], [0.0, 0.2]])\n",
    "for i in range(150):\n",
    "    p = list(dist.rvs())\n",
    "    data.append(dist.rvs())\n",
    "dist = multivariate_normal(mean = [1, 5], cov = [[0.6, 0.0], [0.2, 0.1]])\n",
    "for i in range(150):\n",
    "    data.append(dist.rvs())\n",
    "dist = multivariate_normal(mean = [2, 10], cov = [[0.5, 0.5], [0.0, 0.1]])\n",
    "for i in range(150):\n",
    "    data.append(dist.rvs())\n",
    "\n",
    "df = pd.DataFrame(data, columns = [\"x1\", \"x2\"])\n",
    "df.head()"
   ]
  },
  {
   "cell_type": "code",
   "execution_count": null,
   "metadata": {
    "collapsed": false
   },
   "outputs": [],
   "source": [
    "plt.scatter(df[\"x1\"], df[\"x2\"])\n",
    "plt.xlabel(\"x1\")\n",
    "plt.ylabel(\"x2\")\n",
    "plt.show()"
   ]
  },
  {
   "cell_type": "code",
   "execution_count": null,
   "metadata": {
    "collapsed": false
   },
   "outputs": [],
   "source": [
    "# Fit a DBSCAN estimator\n",
    "estimator = DBSCAN(eps = 0.8, min_samples = 10)\n",
    "X = df[[\"x1\", \"x2\"]]\n",
    "estimator.fit(X)"
   ]
  },
  {
   "cell_type": "code",
   "execution_count": null,
   "metadata": {
    "collapsed": false
   },
   "outputs": [],
   "source": [
    "# Clusters are given in the labels_ attribute\n",
    "df[\"label\"] = estimator.labels_\n",
    "df[\"color\"] = set_colors(df[\"label\"])\n",
    "df.head()"
   ]
  },
  {
   "cell_type": "code",
   "execution_count": null,
   "metadata": {
    "collapsed": false
   },
   "outputs": [],
   "source": [
    "for i, cluster in df.groupby(\"label\"):\n",
    "    plt.scatter(cluster[\"x1\"], cluster[\"x2\"], c = cluster[\"color\"], label = \"Cluster %d\" % i)\n",
    "plt.legend(loc = \"upper left\")\n",
    "plt.xlabel(\"x1\")\n",
    "plt.ylabel(\"x2\")\n",
    "plt.show()"
   ]
  },
  {
   "cell_type": "markdown",
   "metadata": {},
   "source": [
    "## Modeling\n",
    "This time we have to fit a model to each cluster since they are not the same shape with offsets."
   ]
  },
  {
   "cell_type": "code",
   "execution_count": null,
   "metadata": {
    "collapsed": false
   },
   "outputs": [],
   "source": [
    "from collections import Counter\n",
    "counts = Counter(df[\"label\"])\n",
    "print(counts)"
   ]
  },
  {
   "cell_type": "code",
   "execution_count": null,
   "metadata": {
    "collapsed": false
   },
   "outputs": [],
   "source": [
    "# Plot the raw data\n",
    "plt.scatter(df[\"x1\"], df[\"x2\"], c = df[\"color\"])\n",
    "plt.xlabel(\"x1\")\n",
    "plt.ylabel(\"x2\")\n",
    "\n",
    "# Fit a model to each cluster\n",
    "models = dict()\n",
    "for label in set(df[\"label\"]):\n",
    "    if counts[label] > 10:\n",
    "        model = LinearRegression()\n",
    "        subdf = df[df[\"label\"] == label]\n",
    "        X = subdf[[\"x1\"]]\n",
    "        y = subdf[[\"x2\"]]\n",
    "        model.fit(X, y)\n",
    "        models[\"label\"] = model\n",
    "        plt.scatter(X, model.predict(X), color = \"black\")\n",
    "plt.show()"
   ]
  }
 ],
 "metadata": {
  "anaconda-cloud": {},
  "kernelspec": {
   "display_name": "Python [conda root]",
   "language": "python",
   "name": "conda-root-py"
  },
  "language_info": {
   "codemirror_mode": {
    "name": "ipython",
    "version": 2
   },
   "file_extension": ".py",
   "mimetype": "text/x-python",
   "name": "python",
   "nbconvert_exporter": "python",
   "pygments_lexer": "ipython2",
   "version": "2.7.13"
  }
 },
 "nbformat": 4,
 "nbformat_minor": 0
}
